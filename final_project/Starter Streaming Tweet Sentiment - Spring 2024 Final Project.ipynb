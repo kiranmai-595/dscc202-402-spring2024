{
 "cells": [
  {
   "cell_type": "markdown",
   "metadata": {
    "application/vnd.databricks.v1+cell": {
     "cellMetadata": {
      "byteLimit": 2048000,
      "rowLimit": 10000
     },
     "inputWidgets": {},
     "nuid": "fc749083-2211-485c-943f-640e198b2c70",
     "showTitle": false,
     "title": ""
    }
   },
   "source": [
    "## DSCC202-402 Data Science at Scale Final Project\n",
    "### Tracking Tweet sentiment at scale using a pretrained transformer (classifier)\n",
    "<p>Consider the following illustration of the end to end system that you will be building.  Each student should do their own work.  The project will demonstrate your understanding of Spark Streaming, the medalion data architecture using Delta Lake, Spark Inference at Scale using an MLflow packaged model as well as Exploritory Data Analysis and System Tracking and Monitoring.</p>\n",
    "<br><br>\n",
    "<img src=\"https://data-science-at-scale.s3.amazonaws.com/images/pipeline.drawio.png\">\n",
    "\n",
    "<p>\n",
    "You will be pulling an updated copy of the course GitHub repositiory: <a href=\"https://github.com/lpalum/dscc202-402-spring2024\">The Repo</a>.  If you are unclear on how to pull an updated copy using the GitHub command line, the following <a href=\"https://techwritingmatters.com/how-to-update-your-forked-repository-on-github\">document</a> is helpful.  Be sure to add the professors and TAs as collaborators on your project. \n",
    "\n",
    "- lpalum@gmail.com GitHub ID: lpalum\n",
    "- ajay.anand@rochester.edu GitHub ID: ajayan12\n",
    "- divyamunot1999@gmail.com GitHub ID: divyamunot\n",
    "- ylong6@u.Rochester.edu GitHub ID: NinaLong2077\n",
    "\n",
    "Once you have updates your fork of the repository you should see the following template project that is resident in the final_project directory.\n",
    "</p>\n",
    "\n",
    "<img src=\"https://data-science-at-scale.s3.amazonaws.com/images/notebooks.drawio.png\">\n",
    "\n",
    "<p>\n",
    "You can then pull your project into the Databrick Workspace using the <a href=\"https://www.databricks.training/step-by-step/importing-courseware-from-github/index.html\">Repos</a> feature.\n",
    "Each student is expected to submit the URL of their project on GitHub with their code checked in on the main/master branch.  This illustration highlights the branching scheme that you may use to work on your code in steps and then merge your submission into your master branch before submitting.\n",
    "</p>\n",
    "<img src=\"https://data-science-at-scale.s3.amazonaws.com/images/github.drawio.png\">\n",
    "<p>\n",
    "Work your way through this notebook which will give you the steps required to submit a complete and compliant project.  The following illustration and associated data dictionary specifies the transformations and data that you are to generate for each step in the medallion pipeline.\n",
    "</p>\n",
    "<br><br>\n",
    "<img src=\"https://data-science-at-scale.s3.amazonaws.com/images/dataframes.drawio.png\">\n",
    "\n",
    "#### Bronze Data - raw ingest\n",
    "- date - string in the source json\n",
    "- user - string in the source json\n",
    "- text - tweet string in the source json\n",
    "- sentiment - the given sentiment of the text as determined by an unknown model that is provided in the source json\n",
    "- source_file - the path of the source json file the this row of data was read from\n",
    "- processing_time - a timestamp of when you read this row from the source json\n",
    "\n",
    "#### Silver Data - Bronze Preprocessing\n",
    "- timestamp - convert date string in the bronze data to a timestamp\n",
    "- mention - every @username mentioned in the text string in the bronze data gets a row in this silver data table.\n",
    "- cleaned_text - the bronze text data with the mentions (@username) removed.\n",
    "- sentiment - the given sentiment that was associated with the text in the bronze table.\n",
    "\n",
    "#### Gold Data - Silver Table Inference\n",
    "- timestamp - the timestamp from the silver data table rows\n",
    "- mention - the mention from the silver data table rows\n",
    "- cleaned_text - the cleaned_text from the silver data table rows\n",
    "- sentiment - the given sentiment from the silver data table rows\n",
    "- predicted_score - score out of 100 from the Hugging Face Sentiment Transformer\n",
    "- predicted_sentiment - string representation of the sentiment\n",
    "- sentiment_id - 0 for negative and 1 for postive associated with the given sentiment\n",
    "- predicted_sentiment_id - 0 for negative and 1 for positive assocaited with the Hugging Face Sentiment Transformer\n",
    "\n",
    "#### Application Data - Gold Table Aggregation\n",
    "- min_timestamp - the oldest timestamp on a given mention (@username)\n",
    "- max_timestamp - the newest timestamp on a given mention (@username)\n",
    "- mention - the user (@username) that this row pertains to.\n",
    "- negative - total negative tweets directed at this mention (@username)\n",
    "- neutral - total neutral tweets directed at this mention (@username)\n",
    "- positive - total positive tweets directed at this mention (@username)\n",
    "\n",
    "When you are designing your approach, one of the main decisions that you will need to make is how you are going to orchestrate the streaming data processing in your pipeline.  There are several valid approaches.  First, you may choose to start the bronze_stream and let it complete (read and append all of the source data) before preceeding and starting up the silver_stream.  This approach has latency associated with it but it will allow your code to proceed in a linear fashion and process all the data by the end of your notebook execution.  Another potential approach is to start all the streams and have a \"watch\" method to determine when the pipeline has processed sufficient or all of the source data before stopping and displaying results.  Both of these approaches are valid and have different implications on how you will trigger your steams and how you will gate the execution of your pipeline.  Think through how you want to proceed and ask questions if you need guidance. The following references may be helpful:\n",
    "- [Spark Structured Streaming Programming Guide](https://spark.apache.org/docs/latest/structured-streaming-programming-guide.html)\n",
    "- [Databricks Autoloader - Cloudfiles](https://docs.databricks.com/en/ingestion/auto-loader/index.html)\n",
    "\n",
    "### Be sure that your project runs end to end when *Run all* is executued on this notebook! (15 Points out of 60)"
   ]
  },
  {
   "cell_type": "code",
   "execution_count": 0,
   "metadata": {
    "application/vnd.databricks.v1+cell": {
     "cellMetadata": {
      "byteLimit": 2048000,
      "rowLimit": 10000
     },
     "inputWidgets": {},
     "nuid": "068f25d0-1387-4342-89cf-ce82a8d614ce",
     "showTitle": true,
     "title": "Pull in the Includes & Utiltites"
    }
   },
   "outputs": [
    {
     "output_type": "display_data",
     "data": {
      "application/vnd.databricks.v1+bamboolib_hint": "{\"pd.DataFrames\": [], \"version\": \"0.0.1\"}",
      "text/plain": []
     },
     "metadata": {},
     "output_type": "display_data"
    },
    {
     "output_type": "display_data",
     "data": {
      "text/html": [
       "\n",
       "<H2>VERY IMPORTANT TO UNDERSTAND THE USE OF THESE VARIABLES!<br> Please ask if you are confused about their use.</H2>\n",
       "<table border=1>\n",
       "<tr><td><b>Variable Name</b></td><td><b>Value</b></td><td><b>Description</b></td></tr>\n",
       "<tr><td>TWEET_BUCKET_NAME</td><td>voc-75-databricks-data</td><td>AWS S3 Bucket Name where the tweets are coming into your system.</td></tr>\n",
       "<tr><td>TWEET_BUCKET_URL</td><td>https://voc-75-databricks-data.s3.amazonaws.com/</td><td>AWS S3 Bucket URL where the tweets are coming into your system.</td></tr>\n",
       "<tr><td>TWEET_SOURCE_PATH</td><td>s3a://voc-75-databricks-data/voc_volume/</td><td>AWS S3 Path where the tweets are coming into your system.</td></tr>\n",
       "<tr><td>USER_DIR</td><td>/tmp/labuser104917-3025951/</td><td>Path to the local storage (dbfs) for your project.</td></tr>\n",
       "<tr><td>BRONZE_CHECKPOINT</td><td>/tmp/labuser104917-3025951/bronze.checkpoint</td><td>Store your Bronze Checkpoint data here.</td></tr>\n",
       "<tr><td>BRONZE_DELTA</td><td>/tmp/labuser104917-3025951/bronze.delta</td><td>Store your Bronze Delta Table here.</td></tr>\n",
       "<tr><td>SILVER_CHECKPOINT</td><td>/tmp/labuser104917-3025951/silver.checkpoint</td><td>Store your Silver Checkpoint data here.</td></tr>\n",
       "<tr><td>SILVER_DELTA</td><td>/tmp/labuser104917-3025951/silver.delta</td><td>Store your Silver Delta Table here.</td></tr>\n",
       "<tr><td>GOLD_CHECKPOINT</td><td>/tmp/labuser104917-3025951/gold.checkpoint</td><td>Store your Gold Checkpoint data here.</td></tr>\n",
       "<tr><td>GOLD_DELTA</td><td>/tmp/labuser104917-3025951/gold.delta</td><td>Store your Gold Delta Table here.</td></tr>\n",
       "<tr><td>MODEL_NAME</td><td>HF_TWEET_SENTIMENT</td><td>Load this production model</td></tr>\n",
       "<tr><td>HF_MODEL_NAME</td><td>finiteautomata/bertweet-base-sentiment-analysis</td><td>The Hugging Face Model for Tweet sentiment classification: https://huggingface.co/finiteautomata/bertweet-base-sentiment-analysis </td></tr>\n",
       "</table>\n"
      ]
     },
     "metadata": {
      "application/vnd.databricks.v1+output": {
       "addedWidgets": {},
       "arguments": {},
       "data": "\n<H2>VERY IMPORTANT TO UNDERSTAND THE USE OF THESE VARIABLES!<br> Please ask if you are confused about their use.</H2>\n<table border=1>\n<tr><td><b>Variable Name</b></td><td><b>Value</b></td><td><b>Description</b></td></tr>\n<tr><td>TWEET_BUCKET_NAME</td><td>voc-75-databricks-data</td><td>AWS S3 Bucket Name where the tweets are coming into your system.</td></tr>\n<tr><td>TWEET_BUCKET_URL</td><td>https://voc-75-databricks-data.s3.amazonaws.com/</td><td>AWS S3 Bucket URL where the tweets are coming into your system.</td></tr>\n<tr><td>TWEET_SOURCE_PATH</td><td>s3a://voc-75-databricks-data/voc_volume/</td><td>AWS S3 Path where the tweets are coming into your system.</td></tr>\n<tr><td>USER_DIR</td><td>/tmp/labuser104917-3025951/</td><td>Path to the local storage (dbfs) for your project.</td></tr>\n<tr><td>BRONZE_CHECKPOINT</td><td>/tmp/labuser104917-3025951/bronze.checkpoint</td><td>Store your Bronze Checkpoint data here.</td></tr>\n<tr><td>BRONZE_DELTA</td><td>/tmp/labuser104917-3025951/bronze.delta</td><td>Store your Bronze Delta Table here.</td></tr>\n<tr><td>SILVER_CHECKPOINT</td><td>/tmp/labuser104917-3025951/silver.checkpoint</td><td>Store your Silver Checkpoint data here.</td></tr>\n<tr><td>SILVER_DELTA</td><td>/tmp/labuser104917-3025951/silver.delta</td><td>Store your Silver Delta Table here.</td></tr>\n<tr><td>GOLD_CHECKPOINT</td><td>/tmp/labuser104917-3025951/gold.checkpoint</td><td>Store your Gold Checkpoint data here.</td></tr>\n<tr><td>GOLD_DELTA</td><td>/tmp/labuser104917-3025951/gold.delta</td><td>Store your Gold Delta Table here.</td></tr>\n<tr><td>MODEL_NAME</td><td>HF_TWEET_SENTIMENT</td><td>Load this production model</td></tr>\n<tr><td>HF_MODEL_NAME</td><td>finiteautomata/bertweet-base-sentiment-analysis</td><td>The Hugging Face Model for Tweet sentiment classification: https://huggingface.co/finiteautomata/bertweet-base-sentiment-analysis </td></tr>\n</table>\n",
       "datasetInfos": [],
       "metadata": {},
       "removedWidgets": [],
       "textData": null,
       "type": "htmlSandbox"
      }
     },
     "output_type": "display_data"
    },
    {
     "output_type": "stream",
     "name": "stdout",
     "output_type": "stream",
     "text": [
      "the includes are included\n"
     ]
    }
   ],
   "source": [
    "%run ./includes/includes"
   ]
  },
  {
   "cell_type": "code",
   "execution_count": 0,
   "metadata": {
    "application/vnd.databricks.v1+cell": {
     "cellMetadata": {
      "byteLimit": 2048000,
      "rowLimit": 10000
     },
     "inputWidgets": {},
     "nuid": "6512bf1b-50e0-4a4b-84a9-e280a6260b56",
     "showTitle": true,
     "title": "Notebook Control Widgets (maybe helpful)"
    }
   },
   "outputs": [],
   "source": [
    "\"\"\"\n",
    "Adding a widget to the notebook to control the clearing of a previous run.\n",
    "or stopping the active streams using routines defined in the utilities notebook\n",
    "\"\"\"\n",
    "dbutils.widgets.removeAll()\n",
    "\n",
    "dbutils.widgets.dropdown(\"clear_previous_run\", \"No\", [\"No\",\"Yes\"])\n",
    "if (getArgument(\"clear_previous_run\") == \"Yes\"):\n",
    "    clear_previous_run()\n",
    "    print(\"Cleared all previous data.\")\n",
    "\n",
    "dbutils.widgets.dropdown(\"stop_streams\", \"No\", [\"No\",\"Yes\"])\n",
    "if (getArgument(\"stop_streams\") == \"Yes\"):\n",
    "    stop_all_streams()\n",
    "    print(\"Stopped all active streams.\")\n",
    "\n",
    "from delta import *\n",
    "dbutils.widgets.dropdown(\"optimize_tables\", \"No\", [\"No\",\"Yes\"])\n",
    "if (getArgument(\"optimize_tables\") == \"Yes\"):\n",
    "    # Suck up those small files that we have been appending.\n",
    "    DeltaTable.forPath(spark, BRONZE_DELTA).optimize().executeCompaction()\n",
    "    # Suck up those small files that we have been appending.\n",
    "    DeltaTable.forPath(spark, SILVER_DELTA).optimize().executeCompaction()\n",
    "    # Suck up those small files that we have been appending.\n",
    "    DeltaTable.forPath(spark, GOLD_DELTA).optimize().executeCompaction()\n",
    "    print(\"Optimized all of the Delta Tables\")"
   ]
  },
  {
   "cell_type": "markdown",
   "metadata": {
    "application/vnd.databricks.v1+cell": {
     "cellMetadata": {
      "byteLimit": 2048000,
      "rowLimit": 10000
     },
     "inputWidgets": {},
     "nuid": "e8ce7c13-7f8f-4e11-b50c-fdaebbcf3f99",
     "showTitle": false,
     "title": ""
    }
   },
   "source": [
    "## 1.0 Import your libraries here...\n",
    "- Are your shuffle partitions consistent with your cluster and your workload?\n",
    "- Do you have the necessary libraries to perform the required operations in the pipeline/application?"
   ]
  },
  {
   "cell_type": "code",
   "execution_count": 0,
   "metadata": {
    "application/vnd.databricks.v1+cell": {
     "cellMetadata": {
      "byteLimit": 2048000,
      "rowLimit": 10000
     },
     "inputWidgets": {},
     "nuid": "67bafbb7-d34e-4e86-b159-b2e062faa1d0",
     "showTitle": false,
     "title": ""
    }
   },
   "outputs": [
    {
     "output_type": "stream",
     "name": "stdout",
     "output_type": "stream",
     "text": [
      "Number of shuffle partitions: 256\n"
     ]
    }
   ],
   "source": [
    "# ENTER YOUR CODE HERE\n",
    "# Import necessary libraries\n",
    "from pyspark.sql import SparkSession\n",
    "from pyspark.sql.types import StructType, StructField, StringType, TimestampType\n",
    "from pyspark.sql.functions import col, count, desc, isnan, when\n",
    "from pyspark.ml import PipelineModel\n",
    "from pyspark.sql.functions import udf\n",
    "from pyspark.sql.types import StringType\n",
    "import mlflow\n",
    "from sklearn.metrics import precision_score, recall_score, f1_score\n",
    "\n",
    "# Initialize SparkSession\n",
    "spark = SparkSession.builder \\\n",
    "    .appName(\"Tweet Sentiment\") \\\n",
    "    .config(\"spark.sql.shuffle.partitions\", \"256\")\\\n",
    "    .getOrCreate()\n",
    "\n",
    "# Check if shuffle partitions are consistent with the cluster and workload\n",
    "shuffle_partitions = spark.conf.get(\"spark.sql.shuffle.partitions\")\n",
    "print(\"Number of shuffle partitions:\", shuffle_partitions)\n",
    "\n",
    "# Define configuration variables\n",
    "TWEET_BUCKET_NAME = \"voc-75-databricks-data\"\n",
    "TWEET_BUCKET_URL = \"https://voc-75-databricks-data.s3.amazonaws.com/\"\n",
    "TWEET_SOURCE_PATH = \"s3a://voc-75-databricks-data/voc_volume/\"\n",
    "USER_DIR = \"/tmp/labuser104917-2387441/\"\n",
    "BRONZE_CHECKPOINT = \"/tmp/labuser104917-2387441/bronze.checkpoint\"\n",
    "BRONZE_DELTA = \"/tmp/labuser104917-2387441/bronze.delta\"\n",
    "SILVER_CHECKPOINT = \"/tmp/labuser104917-2387441/silver.checkpoint\"\n",
    "SILVER_DELTA = \"/tmp/labuser104917-2387441/silver.delta\"\n",
    "GOLD_CHECKPOINT = \"/tmp/labuser104917-2387441/gold.checkpoint\"\n",
    "GOLD_DELTA = \"/tmp/labuser104917-2387441/gold.delta\"\n",
    "MODEL_NAME = \"HF_TWEET_SENTIMENT\"\n",
    "HF_MODEL_NAME = \"finiteautomata/bertweet-base-sentiment-analysis\"\n",
    "\n"
   ]
  },
  {
   "cell_type": "markdown",
   "metadata": {
    "application/vnd.databricks.v1+cell": {
     "cellMetadata": {
      "byteLimit": 2048000,
      "rowLimit": 10000
     },
     "inputWidgets": {},
     "nuid": "2b7624b4-0aa5-46b7-9767-52f462b2c574",
     "showTitle": false,
     "title": ""
    }
   },
   "source": [
    "## 2.0 Use the utility functions to ...\n",
    "- Read the source file directory listing\n",
    "- Count the source files (how many are there?)\n",
    "- print the contents of one of the files"
   ]
  },
  {
   "cell_type": "code",
   "execution_count": 0,
   "metadata": {
    "application/vnd.databricks.v1+cell": {
     "cellMetadata": {
      "byteLimit": 2048000,
      "rowLimit": 10000
     },
     "inputWidgets": {},
     "nuid": "a59749d5-e45d-460f-9be1-33652cda2ea5",
     "showTitle": false,
     "title": ""
    }
   },
   "outputs": [
    {
     "output_type": "stream",
     "name": "stdout",
     "output_type": "stream",
     "text": [
      "Number of source files: 200001\n"
     ]
    }
   ],
   "source": [
    "# Read the source file directory listing\n",
    "source_files = dbutils.fs.ls(TWEET_SOURCE_PATH)\n",
    "\n",
    "# Count the number of source files\n",
    "num_files = len(source_files)\n",
    "print(\"Number of source files:\", num_files)"
   ]
  },
  {
   "cell_type": "code",
   "execution_count": 0,
   "metadata": {
    "application/vnd.databricks.v1+cell": {
     "cellMetadata": {
      "byteLimit": 2048000,
      "rowLimit": 10000
     },
     "inputWidgets": {},
     "nuid": "fd1d0519-0ced-4354-ba15-9d786222b4a4",
     "showTitle": false,
     "title": ""
    }
   },
   "outputs": [
    {
     "output_type": "stream",
     "name": "stdout",
     "output_type": "stream",
     "text": [
      "+--------------------+---------+--------------------+---------------+\n|                date|sentiment|                text|           user|\n+--------------------+---------+--------------------+---------------+\n|Mon Apr 06 22:19:...| negative|@switchfoot http:...|_TheSpecialOne_|\n+--------------------+---------+--------------------+---------------+\n\n"
     ]
    }
   ],
   "source": [
    "file = source_files[0].path\n",
    "df = spark.read.option(\"header\", \"true\").json(file)\n",
    "df.show()\n"
   ]
  },
  {
   "cell_type": "code",
   "execution_count": 0,
   "metadata": {
    "application/vnd.databricks.v1+cell": {
     "cellMetadata": {
      "byteLimit": 2048000,
      "rowLimit": 10000
     },
     "inputWidgets": {},
     "nuid": "34beb374-8cd9-4d7e-9920-326726e437ff",
     "showTitle": false,
     "title": ""
    }
   },
   "outputs": [
    {
     "output_type": "stream",
     "name": "stdout",
     "output_type": "stream",
     "text": [
      "Out[10]: True"
     ]
    }
   ],
   "source": [
    " stop_all_streams()\n",
    " clear_previous_run()"
   ]
  },
  {
   "cell_type": "markdown",
   "metadata": {
    "application/vnd.databricks.v1+cell": {
     "cellMetadata": {
      "byteLimit": 2048000,
      "rowLimit": 10000
     },
     "inputWidgets": {},
     "nuid": "1676aed7-527f-4ea7-9d3b-52544e8c1e37",
     "showTitle": false,
     "title": ""
    }
   },
   "source": [
    "## 3.0 Transform the Raw Data to Bronze Data using a stream\n",
    "- define the schema for the raw data\n",
    "- setup a read stream using cloudfiles and the source data format\n",
    "- setup a write stream using cloudfiles to append to the bronze delta table\n",
    "- enforce schema\n",
    "- allow a new schema to be merged into the bronze delta table\n",
    "- Use the defined BRONZE_CHECKPOINT and BRONZE_DELTA paths defines in the includes\n",
    "- name your raw to bronze stream as bronze_stream\n",
    "- transform the raw data to the bronze data using the data definition at the top of the notebook"
   ]
  },
  {
   "cell_type": "code",
   "execution_count": 0,
   "metadata": {
    "application/vnd.databricks.v1+cell": {
     "cellMetadata": {
      "byteLimit": 2048000,
      "rowLimit": 10000
     },
     "inputWidgets": {},
     "nuid": "5fc61c20-d3d2-4b56-9a87-f4f2a5391fe8",
     "showTitle": false,
     "title": ""
    }
   },
   "outputs": [],
   "source": [
    "# ENTER YOUR CODE HERE\n",
    "from pyspark.sql import SparkSession\n",
    "from pyspark.sql.functions import current_timestamp, input_file_name\n",
    "from pyspark.sql.types import StructType, StructField, StringType, IntegerType, DoubleType, TimestampType\n",
    "\n",
    "# Initialize the spark session\n",
    "spark = SparkSession.builder \\\n",
    "    .appName(\"Bronze Data Streaming\") \\\n",
    "    .getOrCreate()\n",
    "\n",
    "# Define the schema for the raw data\n",
    "raw_schema = StructType([\n",
    "    StructField(\"date\", StringType(), nullable=True),\n",
    "    StructField(\"user\", StringType(), nullable=True),\n",
    "    StructField(\"text\", StringType(), nullable=True),\n",
    "    StructField(\"sentiment\", StringType(), nullable=True),\n",
    "    StructField(\"source_file\", StringType(), nullable=True),\n",
    "    StructField(\"processing_time\", TimestampType(), nullable=True)\n",
    "])\n",
    "# Define your source directory path\n",
    "source_path = \"s3a://voc-75-databricks-data/voc_volume/\"\n",
    "\n",
    "# Setup the read stream limited to 100 files\n",
    "raw_stream = spark.readStream \\\n",
    "    .format(\"cloudFiles\") \\\n",
    "    .option(\"cloudFiles.format\", \"json\") \\\n",
    "    .option(\"cloudFiles.maxFilesPerTrigger\", 1)\\\n",
    "    .schema(raw_schema) \\\n",
    "    .load(source_path)\\\n",
    "    .withColumn(\"processing_time\",current_timestamp())\\\n",
    "    .withColumn(\"source_file\", input_file_name())\\\n",
    "    .limit(100)"
   ]
  },
  {
   "cell_type": "code",
   "execution_count": 0,
   "metadata": {
    "application/vnd.databricks.v1+cell": {
     "cellMetadata": {
      "byteLimit": 2048000,
      "rowLimit": 10000
     },
     "inputWidgets": {},
     "nuid": "176c64df-4f54-41bb-ac08-82d8f26ee51c",
     "showTitle": false,
     "title": ""
    }
   },
   "outputs": [],
   "source": [
    "# Setup write stream to append to the Bronze Delta Table\n",
    "bronze_stream = (\n",
    "    raw_stream\n",
    "    .writeStream\n",
    "    .format(\"delta\")\n",
    "    .outputMode(\"append\")\n",
    "    .option(\"checkpointLocation\", BRONZE_CHECKPOINT)\n",
    "    .option(\"mergeSchema\", \"true\")\n",
    "    .queryName(\"bronze_stream\")\n",
    "    .option(\"cloudFiles.schemaLocation\", BRONZE_DELTA)\n",
    "    .start(BRONZE_DELTA)\n",
    ")"
   ]
  },
  {
   "cell_type": "markdown",
   "metadata": {
    "application/vnd.databricks.v1+cell": {
     "cellMetadata": {
      "byteLimit": 2048000,
      "rowLimit": 10000
     },
     "inputWidgets": {},
     "nuid": "9bc3e824-d218-43e5-a43b-4c6dbe31950d",
     "showTitle": false,
     "title": ""
    }
   },
   "source": [
    "## 4.0 Bronze Data Exploratory Data Analysis\n",
    "- How many tweets are captured in your Bronze Table?\n",
    "- Are there any columns that contain Nan or Null values?  If so how many and what will you do in your silver transforms to address this?\n",
    "- Count the number of tweets by each unique user handle and sort the data by descending count.\n",
    "- How many tweets have at least one mention (@) how many tweet have no mentions (@)\n",
    "- Plot a bar chart that shows the top 20 tweeters (users)\n"
   ]
  },
  {
   "cell_type": "code",
   "execution_count": 0,
   "metadata": {
    "application/vnd.databricks.v1+cell": {
     "cellMetadata": {
      "byteLimit": 2048000,
      "implicitDf": true,
      "rowLimit": 10000
     },
     "inputWidgets": {},
     "nuid": "091ec59c-d968-4acf-b56f-cc9178cd0693",
     "showTitle": false,
     "title": ""
    }
   },
   "outputs": [
    {
     "output_type": "stream",
     "name": "stdout",
     "output_type": "stream",
     "text": [
      "Number of tweets captured in the Bronze Table: 100\n+------------------+------------------+------------------+-----------------------+-------------------------+-----------------------------+\n|date_contains_null|user_contains_null|text_contains_null|sentiment_contains_null|source_file_contains_null|processing_time_contains_null|\n+------------------+------------------+------------------+-----------------------+-------------------------+-----------------------------+\n|             false|             false|             false|                  false|                    false|                        false|\n+------------------+------------------+------------------+-----------------------+-------------------------+-----------------------------+\n\n"
     ]
    }
   ],
   "source": [
    "#ENTER YOUR CODE HERE\n",
    "# Define the path to Bronze Delta Table\n",
    "BRONZE_DELTA = \"/tmp/labuser104917-3025951/bronze.delta\"\n",
    "# Read the Bronze Delta Table as a DataFrame\n",
    "bronze_df = spark.read.format(\"delta\").load(BRONZE_DELTA)\n",
    "# Count the number of rows in the DataFrame\n",
    "num_tweets_bronze = bronze_df.count()\n",
    "# Print the number of tweets captured in the Bronze Table\n",
    "print(\"Number of tweets captured in the Bronze Table:\", num_tweets_bronze)\n",
    "# Initialize lists to store columns with NaN or Null values\n",
    "cols = [f\"any({col} is null) as {col}_contains_null\" for col in bronze_df.columns]\n",
    "# Select columns and show the result\n",
    "broncols = [f\"any({col} is null)as {col}_contains_null\" for col in bronze_df.columns]\n",
    "bronze_df.selectExpr(cols).show() "
   ]
  },
  {
   "cell_type": "code",
   "execution_count": 0,
   "metadata": {
    "application/vnd.databricks.v1+cell": {
     "cellMetadata": {
      "byteLimit": 2048000,
      "rowLimit": 10000
     },
     "inputWidgets": {},
     "nuid": "be424cca-cd37-4129-a7ac-481ab5b3a144",
     "showTitle": false,
     "title": ""
    }
   },
   "outputs": [
    {
     "output_type": "display_data",
     "data": {
      "text/html": [
       "<style scoped>\n",
       "  .table-result-container {\n",
       "    max-height: 300px;\n",
       "    overflow: auto;\n",
       "  }\n",
       "  table, th, td {\n",
       "    border: 1px solid black;\n",
       "    border-collapse: collapse;\n",
       "  }\n",
       "  th, td {\n",
       "    padding: 5px;\n",
       "  }\n",
       "  th {\n",
       "    text-align: left;\n",
       "  }\n",
       "</style><div class='table-result-container'><table class='table-result'><thead style='background-color: white'><tr><th>date</th><th>user</th><th>text</th><th>sentiment</th><th>source_file</th><th>processing_time</th></tr></thead><tbody><tr><td>Fri May 01 20:10:02 PDT 2009</td><td>betharooni</td><td>@ginalouann he's asleep, but I'm gonna have to get him up for work soon. he works third shift. </td><td>negative</td><td>s3a://voc-75-databricks-data/voc_volume/100079.json</td><td>2024-05-11T22:39:33.743+0000</td></tr><tr><td>Tue Apr 21 04:22:00 PDT 2009</td><td>scally_dandan</td><td>@stephenfry will check tweetie out, i hope you have shares / get commission </td><td>positive</td><td>s3a://voc-75-databricks-data/voc_volume/100007.json</td><td>2024-05-11T22:36:59.184+0000</td></tr><tr><td>Fri May 01 20:09:37 PDT 2009</td><td>Melamachinko</td><td>@JeanGrae  it was a usendit link u sent. *sadness*</td><td>negative</td><td>s3a://voc-75-databricks-data/voc_volume/100063.json</td><td>2024-05-11T22:38:31.273+0000</td></tr><tr><td>Fri May 01 20:09:26 PDT 2009</td><td>JasJazzy</td><td>Swine Flu  Why oh why did you come to canada????</td><td>negative</td><td>s3a://voc-75-databricks-data/voc_volume/100059.json</td><td>2024-05-11T22:38:22.501+0000</td></tr><tr><td>Fri May 01 20:09:25 PDT 2009</td><td>champagne_larn</td><td>oh shit I HAVE NOTHING TO WEAR!!! </td><td>negative</td><td>s3a://voc-75-databricks-data/voc_volume/100057.json</td><td>2024-05-11T22:38:19.337+0000</td></tr></tbody></table></div>"
      ]
     },
     "metadata": {
      "application/vnd.databricks.v1+output": {
       "addedWidgets": {},
       "aggData": [],
       "aggError": "",
       "aggOverflow": false,
       "aggSchema": [],
       "aggSeriesLimitReached": false,
       "aggType": "",
       "arguments": {},
       "columnCustomDisplayInfos": {},
       "data": [
        [
         "Fri May 01 20:10:02 PDT 2009",
         "betharooni",
         "@ginalouann he's asleep, but I'm gonna have to get him up for work soon. he works third shift. ",
         "negative",
         "s3a://voc-75-databricks-data/voc_volume/100079.json",
         "2024-05-11T22:39:33.743+0000"
        ],
        [
         "Tue Apr 21 04:22:00 PDT 2009",
         "scally_dandan",
         "@stephenfry will check tweetie out, i hope you have shares / get commission ",
         "positive",
         "s3a://voc-75-databricks-data/voc_volume/100007.json",
         "2024-05-11T22:36:59.184+0000"
        ],
        [
         "Fri May 01 20:09:37 PDT 2009",
         "Melamachinko",
         "@JeanGrae  it was a usendit link u sent. *sadness*",
         "negative",
         "s3a://voc-75-databricks-data/voc_volume/100063.json",
         "2024-05-11T22:38:31.273+0000"
        ],
        [
         "Fri May 01 20:09:26 PDT 2009",
         "JasJazzy",
         "Swine Flu  Why oh why did you come to canada????",
         "negative",
         "s3a://voc-75-databricks-data/voc_volume/100059.json",
         "2024-05-11T22:38:22.501+0000"
        ],
        [
         "Fri May 01 20:09:25 PDT 2009",
         "champagne_larn",
         "oh shit I HAVE NOTHING TO WEAR!!! ",
         "negative",
         "s3a://voc-75-databricks-data/voc_volume/100057.json",
         "2024-05-11T22:38:19.337+0000"
        ]
       ],
       "datasetInfos": [],
       "dbfsResultPath": null,
       "isJsonSchema": true,
       "metadata": {},
       "overflow": false,
       "plotOptions": {
        "customPlotOptions": {},
        "displayType": "table",
        "pivotAggregation": null,
        "pivotColumns": null,
        "xColumns": null,
        "yColumns": null
       },
       "removedWidgets": [],
       "schema": [
        {
         "metadata": "{}",
         "name": "date",
         "type": "\"string\""
        },
        {
         "metadata": "{}",
         "name": "user",
         "type": "\"string\""
        },
        {
         "metadata": "{}",
         "name": "text",
         "type": "\"string\""
        },
        {
         "metadata": "{}",
         "name": "sentiment",
         "type": "\"string\""
        },
        {
         "metadata": "{}",
         "name": "source_file",
         "type": "\"string\""
        },
        {
         "metadata": "{}",
         "name": "processing_time",
         "type": "\"timestamp\""
        }
       ],
       "type": "table"
      }
     },
     "output_type": "display_data"
    }
   ],
   "source": [
    "display(bronze_df.head(5))"
   ]
  },
  {
   "cell_type": "code",
   "execution_count": 0,
   "metadata": {
    "application/vnd.databricks.v1+cell": {
     "cellMetadata": {
      "byteLimit": 2048000,
      "rowLimit": 10000
     },
     "inputWidgets": {},
     "nuid": "6c7301e9-eb11-43d1-b8dc-6c5fca10027f",
     "showTitle": false,
     "title": ""
    }
   },
   "outputs": [
    {
     "output_type": "stream",
     "name": "stdout",
     "output_type": "stream",
     "text": [
      "+----+----+----+---------+-----------+\n|date|user|text|sentiment|source_file|\n+----+----+----+---------+-----------+\n|   0|   0|   0|        0|          0|\n+----+----+----+---------+-----------+\n\n"
     ]
    }
   ],
   "source": [
    "numeric_cols =[f.name for f in bronze_df.schema.fields if (f.dataType.simpleString() in ('double', 'float'))]\n",
    "exprs = [count(when(isnan(c) | col(c).isNull(), c)).alias(c) for c in numeric_cols]\n",
    "non_numeric_cols = [f.name for f in bronze_df.schema.fields if (f.dataType.simpleString() not in ('double', 'float', 'timestamp')) and (f.name != 'processing_time')]\n",
    "exprs+=[count(when(col(c).isNull(),c)).alias(c) for c in non_numeric_cols]\n",
    "timestamp_cols = [f.name for f in bronze_df.schema.fields if f.dataType.simpleString() == 'timestamp' and f.name != 'processing_time']\n",
    "exprs+=[count(when(col(c).isNull(),c)).alias(c) for c in timestamp_cols]\n",
    "\n",
    "bronze_df.select(exprs).show()"
   ]
  },
  {
   "cell_type": "code",
   "execution_count": 0,
   "metadata": {
    "application/vnd.databricks.v1+cell": {
     "cellMetadata": {
      "byteLimit": 2048000,
      "rowLimit": 10000
     },
     "inputWidgets": {},
     "nuid": "69ff795e-dc63-49ec-ada1-30196d6c1776",
     "showTitle": false,
     "title": ""
    }
   },
   "outputs": [
    {
     "output_type": "stream",
     "name": "stdout",
     "output_type": "stream",
     "text": [
      "+---------------+-----------+\n|           user|tweet_count|\n+---------------+-----------+\n|        jayseto|          2|\n|   Arual_Sinned|          1|\n|   crazyXmallie|          1|\n|  mileyobsessed|          1|\n|     mayanks123|          1|\n|       gilmore2|          1|\n|  tinkabell8907|          1|\n|     alinick123|          1|\n|      justawave|          1|\n|     Babybandit|          1|\n|    sarahmorris|          1|\n|      chrismann|          1|\n|     ginigraham|          1|\n|      Jlowthrop|          1|\n|     MissWillow|          1|\n|     Frankiemon|          1|\n|_TheSpecialOne_|          1|\n|   SuperMaryAnn|          1|\n|  TowerofBabble|          1|\n|        vmslive|          1|\n+---------------+-----------+\nonly showing top 20 rows\n\n"
     ]
    }
   ],
   "source": [
    "from pyspark.sql.functions import count, desc\n",
    "\n",
    "# Perform the count and sort operation\n",
    "tweet_counts = bronze_df.groupBy(\"user\").agg(count(\"user\").alias(\"tweet_count\")).orderBy(desc(\"tweet_count\"))\n",
    "# Show the result\n",
    "tweet_counts.show()"
   ]
  },
  {
   "cell_type": "code",
   "execution_count": 0,
   "metadata": {
    "application/vnd.databricks.v1+cell": {
     "cellMetadata": {
      "byteLimit": 2048000,
      "rowLimit": 10000
     },
     "inputWidgets": {},
     "nuid": "64a0ad4e-0cac-40fe-bc7c-15930eb37ad2",
     "showTitle": false,
     "title": ""
    }
   },
   "outputs": [
    {
     "output_type": "stream",
     "name": "stdout",
     "output_type": "stream",
     "text": [
      "Number of tweets with at least one mention (@):  40\nNumber of tweets with no mentions (@):  60\n"
     ]
    }
   ],
   "source": [
    "\n",
    "from pyspark.sql.functions import col, when\n",
    "import re\n",
    "\n",
    "# Check for tweets with at least one mention (@)\n",
    "tweets_with_mention = bronze_df.filter(col(\"text\").rlike(r'@\\w+'))\n",
    "\n",
    "# Check for tweets with no mentions\n",
    "tweets_without_mention = bronze_df.filter(~col(\"text\").rlike(r'@\\w+'))\n",
    "\n",
    "# Count the number of tweets with at least one mention\n",
    "tweets_with_mention_count = tweets_with_mention.count()\n",
    "\n",
    "# Count the number of tweets with no mentions\n",
    "tweets_without_mention_count = tweets_without_mention.count()\n",
    "\n",
    "# Print the results\n",
    "print(\"Number of tweets with at least one mention (@): \", tweets_with_mention_count)\n",
    "print(\"Number of tweets with no mentions (@): \", tweets_without_mention_count)"
   ]
  },
  {
   "cell_type": "code",
   "execution_count": 0,
   "metadata": {
    "application/vnd.databricks.v1+cell": {
     "cellMetadata": {
      "byteLimit": 2048000,
      "rowLimit": 10000
     },
     "inputWidgets": {},
     "nuid": "6fc84f2b-0ae0-410d-b578-f044906ad262",
     "showTitle": false,
     "title": ""
    }
   },
   "outputs": [
    {
     "output_type": "display_data",
     "data": {
      "image/png": "[encoded data removed]"
     },
     "metadata": {
      "application/vnd.databricks.v1+output": {
       "addedWidgets": {},
       "arguments": {},
       "data": "data:image/png;base64,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\n",
       "datasetInfos": [],
       "metadata": {},
       "removedWidgets": [],
       "type": "image"
      }
     },
     "output_type": "display_data"
    }
   ],
   "source": [
    "import matplotlib.pyplot as plt\n",
    "# Group the data by user and count the number of tweets\n",
    "tweet_counts = bronze_df.groupBy(\"user\").count()\n",
    "\n",
    "# Sort the data in descending order based on tweet count\n",
    "top_tweeters = tweet_counts.orderBy(\"count\", ascending=False).limit(20).toPandas()\n",
    "\n",
    "# Plot the bar chart\n",
    "plt.figure(figsize=(12, 6))\n",
    "plt.bar(top_tweeters['user'], top_tweeters['count'])\n",
    "plt.xlabel(\"User\")\n",
    "plt.ylabel(\"Tweet Count\")\n",
    "plt.title(\"Top 20 Tweeters\")\n",
    "plt.xticks(rotation=45, ha='right')\n",
    "plt.tight_layout()\n",
    "plt.show()"
   ]
  },
  {
   "cell_type": "markdown",
   "metadata": {
    "application/vnd.databricks.v1+cell": {
     "cellMetadata": {
      "byteLimit": 2048000,
      "rowLimit": 10000
     },
     "inputWidgets": {},
     "nuid": "38c290b9-a42a-4551-857b-3f461b8a1be6",
     "showTitle": false,
     "title": ""
    }
   },
   "source": [
    "## 5.0 Transform the Bronze Data to Silver Data using a stream\n",
    "- setup a read stream on your bronze delta table\n",
    "- setup a write stream to append to the silver delta table\n",
    "- Use the defined SILVER_CHECKPOINT and SILVER_DELTA paths in the includes\n",
    "- name your bronze to silver stream as silver_stream\n",
    "- transform the bronze data to the silver data using the data definition at the top of the notebook"
   ]
  },
  {
   "cell_type": "code",
   "execution_count": 0,
   "metadata": {
    "application/vnd.databricks.v1+cell": {
     "cellMetadata": {
      "byteLimit": 2048000,
      "rowLimit": 10000
     },
     "inputWidgets": {},
     "nuid": "978a6d5e-61ad-4826-8b42-e76b7ad1591f",
     "showTitle": false,
     "title": ""
    }
   },
   "outputs": [],
   "source": [
    "bronze_stream_df = spark.readStream.format(\"delta\").load(BRONZE_DELTA)"
   ]
  },
  {
   "cell_type": "code",
   "execution_count": 0,
   "metadata": {
    "application/vnd.databricks.v1+cell": {
     "cellMetadata": {
      "byteLimit": 2048000,
      "rowLimit": 10000
     },
     "inputWidgets": {},
     "nuid": "43557398-ea5e-426a-848e-388d4ac60264",
     "showTitle": false,
     "title": ""
    }
   },
   "outputs": [],
   "source": [
    "from pyspark.sql.functions import col, explode, expr, regexp_replace, to_timestamp\n",
    "spark.conf.set(\"spark.sql.legacy.timeParserPolicy\", \"LEGACY\")\n",
    "\n",
    "transformed_stream_df = bronze_stream_df.withColumn(\"timestamp\", to_timestamp(col(\"date\"), \"EEE MMM dd HH:mm:ss z yyyy\"))\n",
    "\n",
    "transformed_stream_df = transformed_stream_df.withColumn(\n",
    "    \"mentions\",\n",
    "    explode(\n",
    "        expr(\"filter(split(text, ' '), token -> token rlike '@[A-Za-z0-9_]+')\")\n",
    "    )\n",
    ")\n",
    "\n",
    "transformed_stream_df = transformed_stream_df.withColumn(\"cleaned_text\", regexp_replace(col(\"text\"), \"@\\\\w+\", \"\"))\n",
    "\n",
    "silver_stream_df = transformed_stream_df.select(\n",
    "    col(\"timestamp\"),\n",
    "    col(\"mentions\").alias(\"mention\"),\n",
    "    col(\"cleaned_text\"),\n",
    "    col(\"sentiment\")\n",
    ")"
   ]
  },
  {
   "cell_type": "code",
   "execution_count": 0,
   "metadata": {
    "application/vnd.databricks.v1+cell": {
     "cellMetadata": {
      "byteLimit": 2048000,
      "rowLimit": 10000
     },
     "inputWidgets": {},
     "nuid": "feca00c2-93f7-41eb-9743-518506e3b60d",
     "showTitle": false,
     "title": ""
    }
   },
   "outputs": [],
   "source": [
    "silver_stream = silver_stream_df.writeStream \\\n",
    "    .format(\"delta\") \\\n",
    "    .outputMode(\"append\") \\\n",
    "    .option(\"checkpointLocation\", SILVER_CHECKPOINT) \\\n",
    "    .option(\"path\", SILVER_DELTA) \\\n",
    "    .option(\"mergeSchema\", \"true\") \\\n",
    "    .queryName(\"silver_stream\") \\\n",
    "    .start()"
   ]
  },
  {
   "cell_type": "markdown",
   "metadata": {
    "application/vnd.databricks.v1+cell": {
     "cellMetadata": {
      "byteLimit": 2048000,
      "rowLimit": 10000
     },
     "inputWidgets": {},
     "nuid": "9ee38aba-e340-4766-8339-71ef2ecfde3a",
     "showTitle": false,
     "title": ""
    }
   },
   "source": [
    "## 6.0 Transform the Silver Data to Gold Data using a stream\n",
    "- setup a read stream on your silver delta table\n",
    "- setup a write stream to append to the gold delta table\n",
    "- Use the defined GOLD_CHECKPOINT and GOLD_DELTA paths defines in the includes\n",
    "- name your silver to gold stream as gold_stream\n",
    "- transform the silver data to the gold data using the data definition at the top of the notebook\n",
    "- Load the pretrained transformer sentiment classifier from the MODEL_NAME at the production level from the MLflow registry\n",
    "- Use a spark UDF to parallelize the inference across your silver data"
   ]
  },
  {
   "cell_type": "code",
   "execution_count": 0,
   "metadata": {
    "application/vnd.databricks.v1+cell": {
     "cellMetadata": {
      "byteLimit": 2048000,
      "rowLimit": 10000
     },
     "inputWidgets": {},
     "nuid": "095e7ad6-50f9-487e-a1cd-3046dcd7adb9",
     "showTitle": false,
     "title": ""
    }
   },
   "outputs": [],
   "source": [
    "silver_stream_df = spark.readStream \\\n",
    "    .format(\"delta\") \\\n",
    "    .load(SILVER_DELTA)"
   ]
  },
  {
   "cell_type": "code",
   "execution_count": 0,
   "metadata": {
    "application/vnd.databricks.v1+cell": {
     "cellMetadata": {
      "byteLimit": 2048000,
      "rowLimit": 10000
     },
     "inputWidgets": {},
     "nuid": "6fa2e2d7-bda3-49f2-8218-35bae011e893",
     "showTitle": false,
     "title": ""
    }
   },
   "outputs": [
    {
     "output_type": "stream",
     "name": "stdout",
     "output_type": "stream",
     "text": [
      "/local_disk0/.ephemeral_nfs/envs/pythonEnv-e2da2ab9-eb50-42d1-8655-b4feb0833d1e/lib/python3.9/site-packages/mlflow/store/artifact/utils/models.py:32: FutureWarning: ``mlflow.tracking.client.MlflowClient.get_latest_versions`` is deprecated since 2.9.0. Model registry stages will be removed in a future major release. To learn more about the deprecation of model registry stages, see our migration guide here: https://mlflow.org/docs/2.12.2/model-registry.html#migrating-from-stages\n  latest = client.get_latest_versions(name, None if stage is None else [stage])\n"
     ]
    },
    {
     "output_type": "display_data",
     "data": {
      "application/vnd.jupyter.widget-view+json": {
       "model_id": "9a15fb0da2dd4e4aa2ee75fced6da008",
       "version_major": 2,
       "version_minor": 0
      },
      "text/plain": [
       "Downloading artifacts:   0%|          | 0/25 [00:00<?, ?it/s]"
      ]
     },
     "metadata": {},
     "output_type": "display_data"
    },
    {
     "output_type": "stream",
     "name": "stdout",
     "output_type": "stream",
     "text": [
      "2024/05/12 03:30:14 INFO mlflow.store.artifact.artifact_repo: The progress bar can be disabled by setting the environment variable MLFLOW_ENABLE_ARTIFACTS_PROGRESS_BAR to false\n2024/05/12 03:30:18 WARNING mlflow.utils.requirements_utils: Detected one or more mismatches between the model's dependencies and the current Python environment:\n - mlflow (current: 2.12.2, required: mlflow==2.11.3)\nTo fix the mismatches, call `mlflow.pyfunc.get_model_dependencies(model_uri)` to fetch the model's environment and install dependencies using the resulting environment file.\n2024/05/12 03:30:18 WARNING mlflow.pyfunc: Calling `spark_udf()` with `env_manager=\"local\"` does not recreate the same environment that was used during training, which may lead to errors or inaccurate predictions. We recommend specifying `env_manager=\"conda\"`, which automatically recreates the environment that was used to train the model and performs inference in the recreated environment.\n"
     ]
    },
    {
     "output_type": "display_data",
     "data": {
      "application/vnd.jupyter.widget-view+json": {
       "model_id": "6d6f9d5303174ec1b2afa4e72caaeb42",
       "version_major": 2,
       "version_minor": 0
      },
      "text/plain": [
       "Downloading artifacts:   0%|          | 0/1 [00:00<?, ?it/s]"
      ]
     },
     "metadata": {},
     "output_type": "display_data"
    },
    {
     "output_type": "stream",
     "name": "stdout",
     "output_type": "stream",
     "text": [
      "2024/05/12 03:30:18 INFO mlflow.models.flavor_backend_registry: Selected backend for flavor 'python_function'\n"
     ]
    }
   ],
   "source": [
    "import mlflow\n",
    "from pyspark.sql.functions import when\n",
    "\n",
    "#production level from the MLflow registry\n",
    "sentiment_analysis_udf = mlflow.pyfunc.spark_udf(spark, \"models:/HF_TWEET_SENTIMENT/Production\")\n",
    "\n",
    "# Use a spark UDF to parallelize the inference across your silver data\n",
    "gold_df = silver_stream_df.withColumn(\"predictions\", sentiment_analysis_udf(col(\"cleaned_text\"))) \n",
    "\n",
    "gold_stream_df = gold_df.select(\n",
    "    col(\"timestamp\"),\n",
    "    col(\"mention\"),\n",
    "    col(\"cleaned_text\"),\n",
    "    col(\"sentiment\"),\n",
    "    col(\"predictions.label\").alias(\"predicted_sentiment\"),\n",
    "    col(\"predictions.score\").alias(\"predicted_score\"),\n",
    "    when(col(\"sentiment\") == \"negative\", 0).otherwise(1).alias(\"sentiment_id\"),\n",
    "    when(col(\"predictions.label\") == \"POS\", 1).when(col(\"predictions.label\") == \"NEG\", 0).otherwise(-1).alias(\"predicted_sentiment_id\")\n",
    ")"
   ]
  },
  {
   "cell_type": "code",
   "execution_count": 0,
   "metadata": {
    "application/vnd.databricks.v1+cell": {
     "cellMetadata": {
      "byteLimit": 2048000,
      "rowLimit": 10000
     },
     "inputWidgets": {},
     "nuid": "d32a3523-99f1-4fd9-b9d0-2377409a1e6d",
     "showTitle": false,
     "title": ""
    }
   },
   "outputs": [],
   "source": [
    "gold_stream = gold_stream_df.writeStream \\\n",
    "    .format(\"delta\") \\\n",
    "    .outputMode(\"append\") \\\n",
    "    .option(\"checkpointLocation\", GOLD_CHECKPOINT) \\\n",
    "    .option(\"path\", GOLD_DELTA) \\\n",
    "    .queryName(\"gold_stream\") \\\n",
    "    .trigger(availableNow=True) \\\n",
    "    .start()"
   ]
  },
  {
   "cell_type": "code",
   "execution_count": 0,
   "metadata": {
    "application/vnd.databricks.v1+cell": {
     "cellMetadata": {
      "byteLimit": 2048000,
      "rowLimit": 10000
     },
     "inputWidgets": {},
     "nuid": "2513eca2-6b98-4b80-a881-8022226dbc52",
     "showTitle": false,
     "title": ""
    }
   },
   "outputs": [
    {
     "output_type": "stream",
     "name": "stdout",
     "output_type": "stream",
     "text": [
      "root\n |-- timestamp: timestamp (nullable = true)\n |-- mention: string (nullable = true)\n |-- cleaned_text: string (nullable = true)\n |-- sentiment: string (nullable = true)\n |-- predicted_sentiment: string (nullable = true)\n |-- predicted_score: double (nullable = true)\n |-- sentiment_id: integer (nullable = false)\n |-- predicted_sentiment_id: integer (nullable = false)\n\n"
     ]
    }
   ],
   "source": [
    "display(gold_stream_df.printSchema())"
   ]
  },
  {
   "cell_type": "code",
   "execution_count": 0,
   "metadata": {
    "application/vnd.databricks.v1+cell": {
     "cellMetadata": {
      "byteLimit": 2048000,
      "rowLimit": 10000
     },
     "inputWidgets": {},
     "nuid": "177fe390-76d1-476f-912e-657260494249",
     "showTitle": false,
     "title": ""
    }
   },
   "outputs": [
    {
     "output_type": "display_data",
     "data": {
      "text/html": [
       "<style scoped>\n",
       "  .table-result-container {\n",
       "    max-height: 300px;\n",
       "    overflow: auto;\n",
       "  }\n",
       "  table, th, td {\n",
       "    border: 1px solid black;\n",
       "    border-collapse: collapse;\n",
       "  }\n",
       "  th, td {\n",
       "    padding: 5px;\n",
       "  }\n",
       "  th {\n",
       "    text-align: left;\n",
       "  }\n",
       "</style><div class='table-result-container'><table class='table-result'><thead style='background-color: white'><tr><th>timestamp</th><th>mention</th><th>cleaned_text</th><th>sentiment</th><th>predicted_sentiment</th><th>predicted_score</th><th>sentiment_id</th><th>predicted_sentiment_id</th></tr></thead><tbody><tr><td>2009-04-07T10:28:40.000+0000</td><td>@crazykaren</td><td> yeah  love the caramellow ones!!! only two more days intil easter break .... im so excited, the stress of school left behind!</td><td>positive</td><td>POS</td><td>0.9924248456954956</td><td>1.0</td><td>1.0</td></tr><tr><td>2009-04-21T11:22:09.000+0000</td><td>@Bluecherub</td><td> Thanks!! Went well, had a really nice doctor and she gave me some medicen, now we wait and see  Glad Tobin likes them, bless!</td><td>positive</td><td>POS</td><td>0.9927355051040649</td><td>1.0</td><td>1.0</td></tr><tr><td>2009-05-02T03:09:22.000+0000</td><td>@dolceshan</td><td> they forgot my bacon on my pizza...highlight of the entire freakin thing!!! i was starving and cuz of it i lost my appetite </td><td>negative</td><td>NEG</td><td>0.972187340259552</td><td>0.0</td><td>0.0</td></tr><tr><td>2009-05-02T03:09:42.000+0000</td><td>@nikkighurl14</td><td> They are saying that I love the Jonas Brothers too much and this one girl says that they have better taste than me and more </td><td>negative</td><td>NEU</td><td>0.7257808446884155</td><td>0.0</td><td>-1.0</td></tr><tr><td>2009-05-02T03:10:12.000+0000</td><td>@sumrtime</td><td> Absolutely, Fridays are my favorite days... now I want to go out. Haven't gone out for a long, long time... need a beer </td><td>negative</td><td>POS</td><td>0.9905359148979187</td><td>0.0</td><td>1.0</td></tr><tr><td>2009-04-21T11:22:05.000+0000</td><td>@iantalbot:</td><td>via : Guys, say hello to Lucy, , who has bravely decided to join our happy band of brothers and sisters. </td><td>positive</td><td>POS</td><td>0.9874098896980286</td><td>1.0</td><td>1.0</td></tr><tr><td>2009-04-21T11:22:05.000+0000</td><td>@honey01,</td><td>via : Guys, say hello to Lucy, , who has bravely decided to join our happy band of brothers and sisters. </td><td>positive</td><td>POS</td><td>0.9874098896980286</td><td>1.0</td><td>1.0</td></tr><tr><td>2009-05-02T03:08:46.000+0000</td><td>jayseto@KevinSpacey</td><td>jayseto I loved you in American Beauty (which is my favourite movie) and I think your AMAZING.... please visit sydney </td><td>negative</td><td>POS</td><td>0.9927980303764343</td><td>0.0</td><td>1.0</td></tr><tr><td>2009-05-02T03:09:42.000+0000</td><td>@skytumbling</td><td> Dan LOVES Free Comic Book Day! Except that last year his fav store closed so now he has to go to a chain. </td><td>negative</td><td>POS</td><td>0.8086601495742798</td><td>0.0</td><td>1.0</td></tr><tr><td>2009-05-02T03:09:35.000+0000</td><td>@KevinSpacey</td><td> I loved you in American Beauty (which is my favourite movie) and I think your AMAZING.... please visit Australia </td><td>negative</td><td>POS</td><td>0.9926910996437073</td><td>0.0</td><td>1.0</td></tr><tr><td>2009-05-02T03:09:45.000+0000</td><td>@echobase77</td><td> you have three days..relax..I have 15 technical articles to read and write wiki on them..before tuesday </td><td>negative</td><td>NEU</td><td>0.8087176084518433</td><td>0.0</td><td>-1.0</td></tr><tr><td>2009-04-07T05:19:45.000+0000</td><td>@switchfoot</td><td> http://twitpic.com/2y1zl - Awww, that's a bummer.  You shoulda got David Carr of Third Day to do it. ;D</td><td>negative</td><td>NEU</td><td>0.7795297503471375</td><td>0.0</td><td>-1.0</td></tr><tr><td>2009-05-02T03:09:16.000+0000</td><td>@dX927</td><td> That's what happened with mine, too. She was 18 years old...but had to be put down. I cried for two weeks. </td><td>negative</td><td>NEG</td><td>0.9255363345146179</td><td>0.0</td><td>0.0</td></tr><tr><td>2009-05-02T03:09:03.000+0000</td><td>@amyprutch</td><td> hmmm.. Cheese is good but it sucks that IGA here charge $20 a lb. for very ordinary English Cheshire. </td><td>negative</td><td>NEG</td><td>0.9497244358062744</td><td>0.0</td><td>0.0</td></tr><tr><td>2009-05-02T03:09:40.000+0000</td><td>@myrandalove</td><td> idk if I'm sick. I hope not D: I have a concert coming up D= But my throat hurts so idk </td><td>negative</td><td>NEG</td><td>0.8737305402755737</td><td>0.0</td><td>0.0</td></tr><tr><td>2009-04-21T11:22:15.000+0000</td><td>@pranav_teegs</td><td> thats becasuehe has shit in his name  Why is http://twitter.com/ShashiTharoor blocked in Pilani</td><td>positive</td><td>NEG</td><td>0.9616374969482422</td><td>1.0</td><td>0.0</td></tr><tr><td>2009-05-02T03:08:58.000+0000</td><td>@MsAmeliaBadila</td><td> no fair! My phone can't show pictures...my answer was based off of what Amy said </td><td>negative</td><td>NEG</td><td>0.9207159280776978</td><td>0.0</td><td>0.0</td></tr><tr><td>2009-05-02T03:09:51.000+0000</td><td>@justincavazos</td><td> Well you would have seen me all day if you would have looked up from your phone </td><td>negative</td><td>NEU</td><td>0.9286018013954163</td><td>0.0</td><td>-1.0</td></tr><tr><td>2009-05-02T03:10:02.000+0000</td><td>@ginalouann</td><td> he's asleep, but I'm gonna have to get him up for work soon. he works third shift. </td><td>negative</td><td>NEU</td><td>0.9692366123199463</td><td>0.0</td><td>-1.0</td></tr><tr><td>2009-05-02T03:08:56.000+0000</td><td>@minnie_boo</td><td> oh no Minzzzz  so sadd to c a fellow friend suffering the way i did. fukourlives!</td><td>negative</td><td>NEG</td><td>0.9750899076461792</td><td>0.0</td><td>0.0</td></tr><tr><td>2009-05-02T03:09:15.000+0000</td><td>@rrrrrai</td><td> me too me too. i miss the modules too!!! being a junior is NOT fun at all. </td><td>negative</td><td>NEG</td><td>0.9687675833702087</td><td>0.0</td><td>0.0</td></tr><tr><td>2009-05-02T03:08:49.000+0000</td><td>@gabrielleliorti</td><td>did i mention, I miss   sorry to vent. nothings working right.clearly.</td><td>negative</td><td>NEG</td><td>0.9733309745788574</td><td>0.0</td><td>0.0</td></tr><tr><td>2009-05-02T03:08:59.000+0000</td><td>@justashley</td><td>  my head is pounding and I got a robot stalker... Hope ur day is better</td><td>negative</td><td>NEG</td><td>0.8943847417831421</td><td>0.0</td><td>0.0</td></tr><tr><td>2009-04-21T11:22:00.000+0000</td><td>@stephenfry</td><td> will check tweetie out, i hope you have shares / get commission </td><td>positive</td><td>NEU</td><td>0.5677217841148376</td><td>1.0</td><td>-1.0</td></tr><tr><td>2009-05-02T03:09:57.000+0000</td><td>@sairam2000</td><td> I see... who pumps in money for that party? I'm so outdated... </td><td>negative</td><td>NEG</td><td>0.9637158513069153</td><td>0.0</td><td>0.0</td></tr><tr><td>2009-04-21T11:22:06.000+0000</td><td>@Dutchiedude</td><td> LOL European Connection Service getting paid 5 quid for this?  rofl!</td><td>positive</td><td>NEG</td><td>0.5664752125740051</td><td>1.0</td><td>0.0</td></tr><tr><td>2009-04-21T11:22:11.000+0000</td><td>@pauIy</td><td>  Yep Hi Frank...we have met once or twice...now following you </td><td>positive</td><td>POS</td><td>0.8188393712043762</td><td>1.0</td><td>1.0</td></tr><tr><td>2009-04-21T11:22:11.000+0000</td><td>@fgasking</td><td>  Yep Hi Frank...we have met once or twice...now following you </td><td>positive</td><td>POS</td><td>0.8188393712043762</td><td>1.0</td><td>1.0</td></tr><tr><td>2009-05-02T03:09:50.000+0000</td><td>@reviewerx</td><td> i'm home &amp; online but i don't see you anywhere </td><td>negative</td><td>NEU</td><td>0.9280382394790649</td><td>0.0</td><td>-1.0</td></tr><tr><td>2009-05-02T03:09:58.000+0000</td><td>@pishako</td><td> personal problems  will post on LJ if i've the time.</td><td>negative</td><td>NEU</td><td>0.974877655506134</td><td>0.0</td><td>-1.0</td></tr><tr><td>2009-05-02T03:09:29.000+0000</td><td>@lopsidedgrin</td><td> how quickly are you going to beat me this time? </td><td>negative</td><td>NEG</td><td>0.9123271107673645</td><td>0.0</td><td>0.0</td></tr><tr><td>2009-05-02T03:09:37.000+0000</td><td>@JeanGrae</td><td>  it was a usendit link u sent. *sadness*</td><td>negative</td><td>NEG</td><td>0.9607697129249573</td><td>0.0</td><td>0.0</td></tr><tr><td>2009-05-02T03:09:06.000+0000</td><td>@IncredibleLAGO</td><td> tell Kelly ass to call me!!!!! </td><td>negative</td><td>NEG</td><td>0.7697399854660034</td><td>0.0</td><td>0.0</td></tr><tr><td>2009-04-07T10:28:39.000+0000</td><td>@stevewhitaker</td><td> - My, aren't we chipper this morning!  </td><td>positive</td><td>NEU</td><td>0.5390341877937317</td><td>1.0</td><td>-1.0</td></tr><tr><td>2009-04-21T11:21:59.000+0000</td><td>@EvilGayTwin</td><td> Hey, you still gained me dude </td><td>positive</td><td>POS</td><td>0.6308606266975403</td><td>1.0</td><td>1.0</td></tr><tr><td>2009-04-21T11:22:15.000+0000</td><td>@KattPackAllDay</td><td> THIS SHIT RIGHT HEREEEEEEEEE </td><td>positive</td><td>NEG</td><td>0.9763073921203613</td><td>1.0</td><td>0.0</td></tr><tr><td>2009-04-21T11:21:58.000+0000</td><td>@shadowsinstone</td><td> Thanks, and you're very welcome. </td><td>positive</td><td>POS</td><td>0.9894848465919495</td><td>1.0</td><td>1.0</td></tr><tr><td>2009-04-07T10:28:38.000+0000</td><td>@lizzie623</td><td> hahaha! You're pure filth you are! </td><td>positive</td><td>NEG</td><td>0.9502696394920349</td><td>1.0</td><td>0.0</td></tr><tr><td>2009-04-21T11:22:02.000+0000</td><td>@DianneMcA</td><td> LOL some blocking required </td><td>positive</td><td>NEU</td><td>0.7478058934211731</td><td>1.0</td><td>-1.0</td></tr><tr><td>2009-05-02T03:09:51.000+0000</td><td>@starryxeyed</td><td> That's so sad! </td><td>negative</td><td>NEG</td><td>0.9676837921142578</td><td>0.0</td><td>0.0</td></tr><tr><td>2009-04-21T11:22:09.000+0000</td><td>@LiaWhiting</td><td> bom dia </td><td>positive</td><td>NEU</td><td>0.9014095067977905</td><td>1.0</td><td>-1.0</td></tr><tr><td>2009-04-07T05:48:48.000+0000</td><td>@anistorm</td><td> </td><td>negative</td><td>NEU</td><td>0.8639840483665466</td><td>0.0</td><td>-1.0</td></tr></tbody></table></div>"
      ]
     },
     "metadata": {
      "application/vnd.databricks.v1+output": {
       "addedWidgets": {},
       "aggData": [],
       "aggError": "",
       "aggOverflow": false,
       "aggSchema": [],
       "aggSeriesLimitReached": false,
       "aggType": "",
       "arguments": {},
       "columnCustomDisplayInfos": {},
       "data": [
        [
         "2009-04-07T10:28:40.000+0000",
         "@crazykaren",
         " yeah  love the caramellow ones!!! only two more days intil easter break .... im so excited, the stress of school left behind!",
         "positive",
         "POS",
         0.9924248456954956,
         1.0,
         1.0
        ],
        [
         "2009-04-21T11:22:09.000+0000",
         "@Bluecherub",
         " Thanks!! Went well, had a really nice doctor and she gave me some medicen, now we wait and see  Glad Tobin likes them, bless!",
         "positive",
         "POS",
         0.9927355051040649,
         1.0,
         1.0
        ],
        [
         "2009-05-02T03:09:22.000+0000",
         "@dolceshan",
         " they forgot my bacon on my pizza...highlight of the entire freakin thing!!! i was starving and cuz of it i lost my appetite ",
         "negative",
         "NEG",
         0.972187340259552,
         0.0,
         0.0
        ],
        [
         "2009-05-02T03:09:42.000+0000",
         "@nikkighurl14",
         " They are saying that I love the Jonas Brothers too much and this one girl says that they have better taste than me and more ",
         "negative",
         "NEU",
         0.7257808446884155,
         0.0,
         -1.0
        ],
        [
         "2009-05-02T03:10:12.000+0000",
         "@sumrtime",
         " Absolutely, Fridays are my favorite days... now I want to go out. Haven't gone out for a long, long time... need a beer ",
         "negative",
         "POS",
         0.9905359148979187,
         0.0,
         1.0
        ],
        [
         "2009-04-21T11:22:05.000+0000",
         "@iantalbot:",
         "via : Guys, say hello to Lucy, , who has bravely decided to join our happy band of brothers and sisters. ",
         "positive",
         "POS",
         0.9874098896980286,
         1.0,
         1.0
        ],
        [
         "2009-04-21T11:22:05.000+0000",
         "@honey01,",
         "via : Guys, say hello to Lucy, , who has bravely decided to join our happy band of brothers and sisters. ",
         "positive",
         "POS",
         0.9874098896980286,
         1.0,
         1.0
        ],
        [
         "2009-05-02T03:08:46.000+0000",
         "jayseto@KevinSpacey",
         "jayseto I loved you in American Beauty (which is my favourite movie) and I think your AMAZING.... please visit sydney ",
         "negative",
         "POS",
         0.9927980303764343,
         0.0,
         1.0
        ],
        [
         "2009-05-02T03:09:42.000+0000",
         "@skytumbling",
         " Dan LOVES Free Comic Book Day! Except that last year his fav store closed so now he has to go to a chain. ",
         "negative",
         "POS",
         0.8086601495742798,
         0.0,
         1.0
        ],
        [
         "2009-05-02T03:09:35.000+0000",
         "@KevinSpacey",
         " I loved you in American Beauty (which is my favourite movie) and I think your AMAZING.... please visit Australia ",
         "negative",
         "POS",
         0.9926910996437073,
         0.0,
         1.0
        ],
        [
         "2009-05-02T03:09:45.000+0000",
         "@echobase77",
         " you have three days..relax..I have 15 technical articles to read and write wiki on them..before tuesday ",
         "negative",
         "NEU",
         0.8087176084518433,
         0.0,
         -1.0
        ],
        [
         "2009-04-07T05:19:45.000+0000",
         "@switchfoot",
         " http://twitpic.com/2y1zl - Awww, that's a bummer.  You shoulda got David Carr of Third Day to do it. ;D",
         "negative",
         "NEU",
         0.7795297503471375,
         0.0,
         -1.0
        ],
        [
         "2009-05-02T03:09:16.000+0000",
         "@dX927",
         " That's what happened with mine, too. She was 18 years old...but had to be put down. I cried for two weeks. ",
         "negative",
         "NEG",
         0.9255363345146179,
         0.0,
         0.0
        ],
        [
         "2009-05-02T03:09:03.000+0000",
         "@amyprutch",
         " hmmm.. Cheese is good but it sucks that IGA here charge $20 a lb. for very ordinary English Cheshire. ",
         "negative",
         "NEG",
         0.9497244358062744,
         0.0,
         0.0
        ],
        [
         "2009-05-02T03:09:40.000+0000",
         "@myrandalove",
         " idk if I'm sick. I hope not D: I have a concert coming up D= But my throat hurts so idk ",
         "negative",
         "NEG",
         0.8737305402755737,
         0.0,
         0.0
        ],
        [
         "2009-04-21T11:22:15.000+0000",
         "@pranav_teegs",
         " thats becasuehe has shit in his name  Why is http://twitter.com/ShashiTharoor blocked in Pilani",
         "positive",
         "NEG",
         0.9616374969482422,
         1.0,
         0.0
        ],
        [
         "2009-05-02T03:08:58.000+0000",
         "@MsAmeliaBadila",
         " no fair! My phone can't show pictures...my answer was based off of what Amy said ",
         "negative",
         "NEG",
         0.9207159280776978,
         0.0,
         0.0
        ],
        [
         "2009-05-02T03:09:51.000+0000",
         "@justincavazos",
         " Well you would have seen me all day if you would have looked up from your phone ",
         "negative",
         "NEU",
         0.9286018013954163,
         0.0,
         -1.0
        ],
        [
         "2009-05-02T03:10:02.000+0000",
         "@ginalouann",
         " he's asleep, but I'm gonna have to get him up for work soon. he works third shift. ",
         "negative",
         "NEU",
         0.9692366123199463,
         0.0,
         -1.0
        ],
        [
         "2009-05-02T03:08:56.000+0000",
         "@minnie_boo",
         " oh no Minzzzz  so sadd to c a fellow friend suffering the way i did. fukourlives!",
         "negative",
         "NEG",
         0.9750899076461792,
         0.0,
         0.0
        ],
        [
         "2009-05-02T03:09:15.000+0000",
         "@rrrrrai",
         " me too me too. i miss the modules too!!! being a junior is NOT fun at all. ",
         "negative",
         "NEG",
         0.9687675833702087,
         0.0,
         0.0
        ],
        [
         "2009-05-02T03:08:49.000+0000",
         "@gabrielleliorti",
         "did i mention, I miss   sorry to vent. nothings working right.clearly.",
         "negative",
         "NEG",
         0.9733309745788574,
         0.0,
         0.0
        ],
        [
         "2009-05-02T03:08:59.000+0000",
         "@justashley",
         "  my head is pounding and I got a robot stalker... Hope ur day is better",
         "negative",
         "NEG",
         0.8943847417831421,
         0.0,
         0.0
        ],
        [
         "2009-04-21T11:22:00.000+0000",
         "@stephenfry",
         " will check tweetie out, i hope you have shares / get commission ",
         "positive",
         "NEU",
         0.5677217841148376,
         1.0,
         -1.0
        ],
        [
         "2009-05-02T03:09:57.000+0000",
         "@sairam2000",
         " I see... who pumps in money for that party? I'm so outdated... ",
         "negative",
         "NEG",
         0.9637158513069153,
         0.0,
         0.0
        ],
        [
         "2009-04-21T11:22:06.000+0000",
         "@Dutchiedude",
         " LOL European Connection Service getting paid 5 quid for this?  rofl!",
         "positive",
         "NEG",
         0.5664752125740051,
         1.0,
         0.0
        ],
        [
         "2009-04-21T11:22:11.000+0000",
         "@pauIy",
         "  Yep Hi Frank...we have met once or twice...now following you ",
         "positive",
         "POS",
         0.8188393712043762,
         1.0,
         1.0
        ],
        [
         "2009-04-21T11:22:11.000+0000",
         "@fgasking",
         "  Yep Hi Frank...we have met once or twice...now following you ",
         "positive",
         "POS",
         0.8188393712043762,
         1.0,
         1.0
        ],
        [
         "2009-05-02T03:09:50.000+0000",
         "@reviewerx",
         " i'm home &amp; online but i don't see you anywhere ",
         "negative",
         "NEU",
         0.9280382394790649,
         0.0,
         -1.0
        ],
        [
         "2009-05-02T03:09:58.000+0000",
         "@pishako",
         " personal problems  will post on LJ if i've the time.",
         "negative",
         "NEU",
         0.974877655506134,
         0.0,
         -1.0
        ],
        [
         "2009-05-02T03:09:29.000+0000",
         "@lopsidedgrin",
         " how quickly are you going to beat me this time? ",
         "negative",
         "NEG",
         0.9123271107673645,
         0.0,
         0.0
        ],
        [
         "2009-05-02T03:09:37.000+0000",
         "@JeanGrae",
         "  it was a usendit link u sent. *sadness*",
         "negative",
         "NEG",
         0.9607697129249573,
         0.0,
         0.0
        ],
        [
         "2009-05-02T03:09:06.000+0000",
         "@IncredibleLAGO",
         " tell Kelly ass to call me!!!!! ",
         "negative",
         "NEG",
         0.7697399854660034,
         0.0,
         0.0
        ],
        [
         "2009-04-07T10:28:39.000+0000",
         "@stevewhitaker",
         " - My, aren't we chipper this morning!  ",
         "positive",
         "NEU",
         0.5390341877937317,
         1.0,
         -1.0
        ],
        [
         "2009-04-21T11:21:59.000+0000",
         "@EvilGayTwin",
         " Hey, you still gained me dude ",
         "positive",
         "POS",
         0.6308606266975403,
         1.0,
         1.0
        ],
        [
         "2009-04-21T11:22:15.000+0000",
         "@KattPackAllDay",
         " THIS SHIT RIGHT HEREEEEEEEEE ",
         "positive",
         "NEG",
         0.9763073921203613,
         1.0,
         0.0
        ],
        [
         "2009-04-21T11:21:58.000+0000",
         "@shadowsinstone",
         " Thanks, and you're very welcome. ",
         "positive",
         "POS",
         0.9894848465919495,
         1.0,
         1.0
        ],
        [
         "2009-04-07T10:28:38.000+0000",
         "@lizzie623",
         " hahaha! You're pure filth you are! ",
         "positive",
         "NEG",
         0.9502696394920349,
         1.0,
         0.0
        ],
        [
         "2009-04-21T11:22:02.000+0000",
         "@DianneMcA",
         " LOL some blocking required ",
         "positive",
         "NEU",
         0.7478058934211731,
         1.0,
         -1.0
        ],
        [
         "2009-05-02T03:09:51.000+0000",
         "@starryxeyed",
         " That's so sad! ",
         "negative",
         "NEG",
         0.9676837921142578,
         0.0,
         0.0
        ],
        [
         "2009-04-21T11:22:09.000+0000",
         "@LiaWhiting",
         " bom dia ",
         "positive",
         "NEU",
         0.9014095067977905,
         1.0,
         -1.0
        ],
        [
         "2009-04-07T05:48:48.000+0000",
         "@anistorm",
         " ",
         "negative",
         "NEU",
         0.8639840483665466,
         0.0,
         -1.0
        ]
       ],
       "datasetInfos": [],
       "dbfsResultPath": null,
       "isJsonSchema": true,
       "metadata": {
        "isDbfsCommandResult": false
       },
       "overflow": false,
       "plotOptions": {
        "customPlotOptions": {},
        "displayType": "table",
        "pivotAggregation": null,
        "pivotColumns": null,
        "xColumns": null,
        "yColumns": null
       },
       "removedWidgets": [],
       "schema": [
        {
         "metadata": "{}",
         "name": "timestamp",
         "type": "\"timestamp\""
        },
        {
         "metadata": "{}",
         "name": "mention",
         "type": "\"string\""
        },
        {
         "metadata": "{}",
         "name": "cleaned_text",
         "type": "\"string\""
        },
        {
         "metadata": "{}",
         "name": "sentiment",
         "type": "\"string\""
        },
        {
         "metadata": "{}",
         "name": "predicted_sentiment",
         "type": "\"string\""
        },
        {
         "metadata": "{}",
         "name": "predicted_score",
         "type": "\"double\""
        },
        {
         "metadata": "{}",
         "name": "sentiment_id",
         "type": "\"double\""
        },
        {
         "metadata": "{}",
         "name": "predicted_sentiment_id",
         "type": "\"double\""
        }
       ],
       "type": "table"
      }
     },
     "output_type": "display_data"
    }
   ],
   "source": [
    "display(gold_stream_df)"
   ]
  },
  {
   "cell_type": "markdown",
   "metadata": {
    "application/vnd.databricks.v1+cell": {
     "cellMetadata": {
      "byteLimit": 2048000,
      "rowLimit": 10000
     },
     "inputWidgets": {},
     "nuid": "0494d8b4-5a55-47fc-af12-47325f34a303",
     "showTitle": false,
     "title": ""
    }
   },
   "source": [
    "## 7.0 Capture the accuracy metrics from the gold table in MLflow\n",
    "Store the following in an MLflow experiment run:\n",
    "- Store the precision, recall, and F1-score as MLflow metrics\n",
    "- Store an image of the confusion matrix as an MLflow artifact\n",
    "- Store the model name and the MLflow version that was used as an MLflow parameters\n",
    "- Store the version of the Delta Table (input-silver) as an MLflow parameter"
   ]
  },
  {
   "cell_type": "code",
   "execution_count": 0,
   "metadata": {
    "application/vnd.databricks.v1+cell": {
     "cellMetadata": {
      "byteLimit": 2048000,
      "rowLimit": 10000
     },
     "inputWidgets": {},
     "nuid": "429cc922-a627-4932-b58d-1d7fb7582c07",
     "showTitle": false,
     "title": ""
    }
   },
   "outputs": [
    {
     "output_type": "display_data",
     "data": {
      "application/vnd.jupyter.widget-view+json": {
       "model_id": "0d185847404a45c2aa7cc65c752ff7b3",
       "version_major": 2,
       "version_minor": 0
      },
      "text/plain": [
       "Downloading artifacts:   0%|          | 0/25 [00:00<?, ?it/s]"
      ]
     },
     "metadata": {},
     "output_type": "display_data"
    },
    {
     "output_type": "stream",
     "name": "stdout",
     "output_type": "stream",
     "text": [
      "2024/05/12 03:31:23 INFO mlflow.store.artifact.artifact_repo: The progress bar can be disabled by setting the environment variable MLFLOW_ENABLE_ARTIFACTS_PROGRESS_BAR to false\n2024/05/12 03:31:28 WARNING mlflow.utils.requirements_utils: Detected one or more mismatches between the model's dependencies and the current Python environment:\n - mlflow (current: 2.12.2, required: mlflow==2.11.3)\nTo fix the mismatches, call `mlflow.pyfunc.get_model_dependencies(model_uri)` to fetch the model's environment and install dependencies using the resulting environment file.\n2024/05/12 03:31:28 WARNING mlflow.pyfunc: Calling `spark_udf()` with `env_manager=\"local\"` does not recreate the same environment that was used during training, which may lead to errors or inaccurate predictions. We recommend specifying `env_manager=\"conda\"`, which automatically recreates the environment that was used to train the model and performs inference in the recreated environment.\n"
     ]
    },
    {
     "output_type": "display_data",
     "data": {
      "application/vnd.jupyter.widget-view+json": {
       "model_id": "db2d1056543e49f8b9de4b4319c895ef",
       "version_major": 2,
       "version_minor": 0
      },
      "text/plain": [
       "Downloading artifacts:   0%|          | 0/1 [00:00<?, ?it/s]"
      ]
     },
     "metadata": {},
     "output_type": "display_data"
    },
    {
     "output_type": "stream",
     "name": "stdout",
     "output_type": "stream",
     "text": [
      "2024/05/12 03:31:28 INFO mlflow.models.flavor_backend_registry: Selected backend for flavor 'python_function'\n"
     ]
    }
   ],
   "source": [
    "model_uri = \"models:/HF_TWEET_SENTIMENT/Production\"\n",
    "model = mlflow.pyfunc.spark_udf(spark, model_uri=model_uri)\n",
    "gold_stream = (spark.readStream.load(SILVER_DELTA)\n",
    "        .withColumn(\"predicted_sentiment\", model(col(\"cleaned_text\")))\n",
    "        .withColumn(\"sentiment_id\", when(col(\"sentiment\") == \"positive\", 1).otherwise(0))\n",
    "        .withColumn(\"predicted_sentiment_id\", \n",
    "                    when(col(\"predicted_sentiment.label\").isin([\"NEU\", \"NEG\"]), 0)\n",
    "                    .when(col(\"predicted_sentiment.label\") == \"POS\", 1)\n",
    "                    .otherwise(0))  \n",
    "        .select(col(\"timestamp\"), col(\"mention\"), col(\"cleaned_text\"), col(\"sentiment\"), \n",
    "                col(\"predicted_sentiment.label\").alias(\"predicted_sentiment\"), col(\"sentiment_id\"), \n",
    "                col(\"predicted_sentiment.score\").alias(\"predicted_score\"),col('predicted_sentiment_id'))\n",
    ")"
   ]
  },
  {
   "cell_type": "code",
   "execution_count": 0,
   "metadata": {
    "application/vnd.databricks.v1+cell": {
     "cellMetadata": {
      "byteLimit": 2048000,
      "rowLimit": 10000
     },
     "inputWidgets": {},
     "nuid": "36c8759f-3e5a-4648-8a22-78c6ecae1019",
     "showTitle": false,
     "title": ""
    }
   },
   "outputs": [],
   "source": [
    "write_gs = (gold_stream.writeStream\n",
    "            .option(\"mergeSchema\",\"true\")\n",
    "            .option(\"checkPointLocation\",GOLD_CHECKPOINT)\n",
    "            .start(GOLD_DELTA)\n",
    "\n",
    ")"
   ]
  },
  {
   "cell_type": "code",
   "execution_count": 0,
   "metadata": {
    "application/vnd.databricks.v1+cell": {
     "cellMetadata": {
      "byteLimit": 2048000,
      "rowLimit": 10000
     },
     "inputWidgets": {},
     "nuid": "443e8cb4-5899-4a2c-bc1e-ff5f50df7684",
     "showTitle": false,
     "title": ""
    }
   },
   "outputs": [],
   "source": [
    "gold_output_stream = spark.read.load(GOLD_DELTA)"
   ]
  },
  {
   "cell_type": "code",
   "execution_count": 0,
   "metadata": {
    "application/vnd.databricks.v1+cell": {
     "cellMetadata": {
      "byteLimit": 2048000,
      "rowLimit": 10000
     },
     "inputWidgets": {},
     "nuid": "214b2ab2-87ad-4d75-94d5-f0b6d4a55273",
     "showTitle": false,
     "title": ""
    }
   },
   "outputs": [
    {
     "output_type": "display_data",
     "data": {
      "text/html": [
       "<style scoped>\n",
       "  .table-result-container {\n",
       "    max-height: 300px;\n",
       "    overflow: auto;\n",
       "  }\n",
       "  table, th, td {\n",
       "    border: 1px solid black;\n",
       "    border-collapse: collapse;\n",
       "  }\n",
       "  th, td {\n",
       "    padding: 5px;\n",
       "  }\n",
       "  th {\n",
       "    text-align: left;\n",
       "  }\n",
       "</style><div class='table-result-container'><table class='table-result'><thead style='background-color: white'><tr><th>timestamp</th><th>mention</th><th>cleaned_text</th><th>sentiment</th><th>predicted_sentiment</th><th>predicted_score</th><th>sentiment_id</th><th>predicted_sentiment_id</th></tr></thead><tbody><tr><td>2009-04-07T10:28:40.000+0000</td><td>@crazykaren</td><td> yeah  love the caramellow ones!!! only two more days intil easter break .... im so excited, the stress of school left behind!</td><td>positive</td><td>POS</td><td>0.9924248456954956</td><td>1</td><td>1</td></tr><tr><td>2009-04-21T11:22:09.000+0000</td><td>@Bluecherub</td><td> Thanks!! Went well, had a really nice doctor and she gave me some medicen, now we wait and see  Glad Tobin likes them, bless!</td><td>positive</td><td>POS</td><td>0.9927355051040649</td><td>1</td><td>1</td></tr><tr><td>2009-05-02T03:09:22.000+0000</td><td>@dolceshan</td><td> they forgot my bacon on my pizza...highlight of the entire freakin thing!!! i was starving and cuz of it i lost my appetite </td><td>negative</td><td>NEG</td><td>0.972187340259552</td><td>0</td><td>0</td></tr><tr><td>2009-05-02T03:09:42.000+0000</td><td>@nikkighurl14</td><td> They are saying that I love the Jonas Brothers too much and this one girl says that they have better taste than me and more </td><td>negative</td><td>NEU</td><td>0.7257808446884155</td><td>0</td><td>-1</td></tr><tr><td>2009-05-02T03:10:12.000+0000</td><td>@sumrtime</td><td> Absolutely, Fridays are my favorite days... now I want to go out. Haven't gone out for a long, long time... need a beer </td><td>negative</td><td>POS</td><td>0.9905359148979187</td><td>0</td><td>1</td></tr><tr><td>2009-04-21T11:22:05.000+0000</td><td>@iantalbot:</td><td>via : Guys, say hello to Lucy, , who has bravely decided to join our happy band of brothers and sisters. </td><td>positive</td><td>POS</td><td>0.9874098896980286</td><td>1</td><td>1</td></tr><tr><td>2009-04-21T11:22:05.000+0000</td><td>@honey01,</td><td>via : Guys, say hello to Lucy, , who has bravely decided to join our happy band of brothers and sisters. </td><td>positive</td><td>POS</td><td>0.9874098896980286</td><td>1</td><td>1</td></tr><tr><td>2009-05-02T03:08:46.000+0000</td><td>jayseto@KevinSpacey</td><td>jayseto I loved you in American Beauty (which is my favourite movie) and I think your AMAZING.... please visit sydney </td><td>negative</td><td>POS</td><td>0.9927980303764343</td><td>0</td><td>1</td></tr><tr><td>2009-05-02T03:09:42.000+0000</td><td>@skytumbling</td><td> Dan LOVES Free Comic Book Day! Except that last year his fav store closed so now he has to go to a chain. </td><td>negative</td><td>POS</td><td>0.8086601495742798</td><td>0</td><td>1</td></tr><tr><td>2009-05-02T03:09:35.000+0000</td><td>@KevinSpacey</td><td> I loved you in American Beauty (which is my favourite movie) and I think your AMAZING.... please visit Australia </td><td>negative</td><td>POS</td><td>0.9926910996437073</td><td>0</td><td>1</td></tr><tr><td>2009-05-02T03:09:45.000+0000</td><td>@echobase77</td><td> you have three days..relax..I have 15 technical articles to read and write wiki on them..before tuesday </td><td>negative</td><td>NEU</td><td>0.8087176084518433</td><td>0</td><td>-1</td></tr><tr><td>2009-04-07T05:19:45.000+0000</td><td>@switchfoot</td><td> http://twitpic.com/2y1zl - Awww, that's a bummer.  You shoulda got David Carr of Third Day to do it. ;D</td><td>negative</td><td>NEU</td><td>0.7795297503471375</td><td>0</td><td>-1</td></tr><tr><td>2009-05-02T03:09:16.000+0000</td><td>@dX927</td><td> That's what happened with mine, too. She was 18 years old...but had to be put down. I cried for two weeks. </td><td>negative</td><td>NEG</td><td>0.9255363345146179</td><td>0</td><td>0</td></tr><tr><td>2009-05-02T03:09:03.000+0000</td><td>@amyprutch</td><td> hmmm.. Cheese is good but it sucks that IGA here charge $20 a lb. for very ordinary English Cheshire. </td><td>negative</td><td>NEG</td><td>0.9497244358062744</td><td>0</td><td>0</td></tr><tr><td>2009-05-02T03:09:40.000+0000</td><td>@myrandalove</td><td> idk if I'm sick. I hope not D: I have a concert coming up D= But my throat hurts so idk </td><td>negative</td><td>NEG</td><td>0.8737305402755737</td><td>0</td><td>0</td></tr><tr><td>2009-04-21T11:22:15.000+0000</td><td>@pranav_teegs</td><td> thats becasuehe has shit in his name  Why is http://twitter.com/ShashiTharoor blocked in Pilani</td><td>positive</td><td>NEG</td><td>0.9616374969482422</td><td>1</td><td>0</td></tr><tr><td>2009-05-02T03:08:58.000+0000</td><td>@MsAmeliaBadila</td><td> no fair! My phone can't show pictures...my answer was based off of what Amy said </td><td>negative</td><td>NEG</td><td>0.9207159280776978</td><td>0</td><td>0</td></tr><tr><td>2009-05-02T03:09:51.000+0000</td><td>@justincavazos</td><td> Well you would have seen me all day if you would have looked up from your phone </td><td>negative</td><td>NEU</td><td>0.9286018013954163</td><td>0</td><td>-1</td></tr><tr><td>2009-05-02T03:10:02.000+0000</td><td>@ginalouann</td><td> he's asleep, but I'm gonna have to get him up for work soon. he works third shift. </td><td>negative</td><td>NEU</td><td>0.9692366123199463</td><td>0</td><td>-1</td></tr><tr><td>2009-05-02T03:08:56.000+0000</td><td>@minnie_boo</td><td> oh no Minzzzz  so sadd to c a fellow friend suffering the way i did. fukourlives!</td><td>negative</td><td>NEG</td><td>0.9750899076461792</td><td>0</td><td>0</td></tr><tr><td>2009-05-02T03:09:15.000+0000</td><td>@rrrrrai</td><td> me too me too. i miss the modules too!!! being a junior is NOT fun at all. </td><td>negative</td><td>NEG</td><td>0.9687675833702087</td><td>0</td><td>0</td></tr><tr><td>2009-05-02T03:08:49.000+0000</td><td>@gabrielleliorti</td><td>did i mention, I miss   sorry to vent. nothings working right.clearly.</td><td>negative</td><td>NEG</td><td>0.9733309745788574</td><td>0</td><td>0</td></tr><tr><td>2009-05-02T03:08:59.000+0000</td><td>@justashley</td><td>  my head is pounding and I got a robot stalker... Hope ur day is better</td><td>negative</td><td>NEG</td><td>0.8943847417831421</td><td>0</td><td>0</td></tr><tr><td>2009-04-21T11:22:00.000+0000</td><td>@stephenfry</td><td> will check tweetie out, i hope you have shares / get commission </td><td>positive</td><td>NEU</td><td>0.5677217841148376</td><td>1</td><td>-1</td></tr><tr><td>2009-05-02T03:09:57.000+0000</td><td>@sairam2000</td><td> I see... who pumps in money for that party? I'm so outdated... </td><td>negative</td><td>NEG</td><td>0.9637158513069153</td><td>0</td><td>0</td></tr><tr><td>2009-04-21T11:22:06.000+0000</td><td>@Dutchiedude</td><td> LOL European Connection Service getting paid 5 quid for this?  rofl!</td><td>positive</td><td>NEG</td><td>0.5664752125740051</td><td>1</td><td>0</td></tr><tr><td>2009-04-21T11:22:11.000+0000</td><td>@pauIy</td><td>  Yep Hi Frank...we have met once or twice...now following you </td><td>positive</td><td>POS</td><td>0.8188393712043762</td><td>1</td><td>1</td></tr><tr><td>2009-04-21T11:22:11.000+0000</td><td>@fgasking</td><td>  Yep Hi Frank...we have met once or twice...now following you </td><td>positive</td><td>POS</td><td>0.8188393712043762</td><td>1</td><td>1</td></tr><tr><td>2009-05-02T03:09:50.000+0000</td><td>@reviewerx</td><td> i'm home &amp; online but i don't see you anywhere </td><td>negative</td><td>NEU</td><td>0.9280382394790649</td><td>0</td><td>-1</td></tr><tr><td>2009-05-02T03:09:58.000+0000</td><td>@pishako</td><td> personal problems  will post on LJ if i've the time.</td><td>negative</td><td>NEU</td><td>0.974877655506134</td><td>0</td><td>-1</td></tr><tr><td>2009-05-02T03:09:29.000+0000</td><td>@lopsidedgrin</td><td> how quickly are you going to beat me this time? </td><td>negative</td><td>NEG</td><td>0.9123271107673645</td><td>0</td><td>0</td></tr><tr><td>2009-05-02T03:09:37.000+0000</td><td>@JeanGrae</td><td>  it was a usendit link u sent. *sadness*</td><td>negative</td><td>NEG</td><td>0.9607697129249573</td><td>0</td><td>0</td></tr><tr><td>2009-05-02T03:09:06.000+0000</td><td>@IncredibleLAGO</td><td> tell Kelly ass to call me!!!!! </td><td>negative</td><td>NEG</td><td>0.7697399854660034</td><td>0</td><td>0</td></tr><tr><td>2009-04-07T10:28:39.000+0000</td><td>@stevewhitaker</td><td> - My, aren't we chipper this morning!  </td><td>positive</td><td>NEU</td><td>0.5390341877937317</td><td>1</td><td>-1</td></tr><tr><td>2009-04-21T11:21:59.000+0000</td><td>@EvilGayTwin</td><td> Hey, you still gained me dude </td><td>positive</td><td>POS</td><td>0.6308606266975403</td><td>1</td><td>1</td></tr><tr><td>2009-04-21T11:22:15.000+0000</td><td>@KattPackAllDay</td><td> THIS SHIT RIGHT HEREEEEEEEEE </td><td>positive</td><td>NEG</td><td>0.9763073921203613</td><td>1</td><td>0</td></tr><tr><td>2009-04-21T11:21:58.000+0000</td><td>@shadowsinstone</td><td> Thanks, and you're very welcome. </td><td>positive</td><td>POS</td><td>0.9894848465919495</td><td>1</td><td>1</td></tr><tr><td>2009-04-07T10:28:38.000+0000</td><td>@lizzie623</td><td> hahaha! You're pure filth you are! </td><td>positive</td><td>NEG</td><td>0.9502696394920349</td><td>1</td><td>0</td></tr><tr><td>2009-04-21T11:22:02.000+0000</td><td>@DianneMcA</td><td> LOL some blocking required </td><td>positive</td><td>NEU</td><td>0.7478058934211731</td><td>1</td><td>-1</td></tr><tr><td>2009-05-02T03:09:51.000+0000</td><td>@starryxeyed</td><td> That's so sad! </td><td>negative</td><td>NEG</td><td>0.9676837921142578</td><td>0</td><td>0</td></tr><tr><td>2009-04-21T11:22:09.000+0000</td><td>@LiaWhiting</td><td> bom dia </td><td>positive</td><td>NEU</td><td>0.9014095067977905</td><td>1</td><td>-1</td></tr><tr><td>2009-04-07T05:48:48.000+0000</td><td>@anistorm</td><td> </td><td>negative</td><td>NEU</td><td>0.8639840483665466</td><td>0</td><td>-1</td></tr></tbody></table></div>"
      ]
     },
     "metadata": {
      "application/vnd.databricks.v1+output": {
       "addedWidgets": {},
       "aggData": [],
       "aggError": "",
       "aggOverflow": false,
       "aggSchema": [],
       "aggSeriesLimitReached": false,
       "aggType": "",
       "arguments": {},
       "columnCustomDisplayInfos": {},
       "data": [
        [
         "2009-04-07T10:28:40.000+0000",
         "@crazykaren",
         " yeah  love the caramellow ones!!! only two more days intil easter break .... im so excited, the stress of school left behind!",
         "positive",
         "POS",
         0.9924248456954956,
         1,
         1
        ],
        [
         "2009-04-21T11:22:09.000+0000",
         "@Bluecherub",
         " Thanks!! Went well, had a really nice doctor and she gave me some medicen, now we wait and see  Glad Tobin likes them, bless!",
         "positive",
         "POS",
         0.9927355051040649,
         1,
         1
        ],
        [
         "2009-05-02T03:09:22.000+0000",
         "@dolceshan",
         " they forgot my bacon on my pizza...highlight of the entire freakin thing!!! i was starving and cuz of it i lost my appetite ",
         "negative",
         "NEG",
         0.972187340259552,
         0,
         0
        ],
        [
         "2009-05-02T03:09:42.000+0000",
         "@nikkighurl14",
         " They are saying that I love the Jonas Brothers too much and this one girl says that they have better taste than me and more ",
         "negative",
         "NEU",
         0.7257808446884155,
         0,
         -1
        ],
        [
         "2009-05-02T03:10:12.000+0000",
         "@sumrtime",
         " Absolutely, Fridays are my favorite days... now I want to go out. Haven't gone out for a long, long time... need a beer ",
         "negative",
         "POS",
         0.9905359148979187,
         0,
         1
        ],
        [
         "2009-04-21T11:22:05.000+0000",
         "@iantalbot:",
         "via : Guys, say hello to Lucy, , who has bravely decided to join our happy band of brothers and sisters. ",
         "positive",
         "POS",
         0.9874098896980286,
         1,
         1
        ],
        [
         "2009-04-21T11:22:05.000+0000",
         "@honey01,",
         "via : Guys, say hello to Lucy, , who has bravely decided to join our happy band of brothers and sisters. ",
         "positive",
         "POS",
         0.9874098896980286,
         1,
         1
        ],
        [
         "2009-05-02T03:08:46.000+0000",
         "jayseto@KevinSpacey",
         "jayseto I loved you in American Beauty (which is my favourite movie) and I think your AMAZING.... please visit sydney ",
         "negative",
         "POS",
         0.9927980303764343,
         0,
         1
        ],
        [
         "2009-05-02T03:09:42.000+0000",
         "@skytumbling",
         " Dan LOVES Free Comic Book Day! Except that last year his fav store closed so now he has to go to a chain. ",
         "negative",
         "POS",
         0.8086601495742798,
         0,
         1
        ],
        [
         "2009-05-02T03:09:35.000+0000",
         "@KevinSpacey",
         " I loved you in American Beauty (which is my favourite movie) and I think your AMAZING.... please visit Australia ",
         "negative",
         "POS",
         0.9926910996437073,
         0,
         1
        ],
        [
         "2009-05-02T03:09:45.000+0000",
         "@echobase77",
         " you have three days..relax..I have 15 technical articles to read and write wiki on them..before tuesday ",
         "negative",
         "NEU",
         0.8087176084518433,
         0,
         -1
        ],
        [
         "2009-04-07T05:19:45.000+0000",
         "@switchfoot",
         " http://twitpic.com/2y1zl - Awww, that's a bummer.  You shoulda got David Carr of Third Day to do it. ;D",
         "negative",
         "NEU",
         0.7795297503471375,
         0,
         -1
        ],
        [
         "2009-05-02T03:09:16.000+0000",
         "@dX927",
         " That's what happened with mine, too. She was 18 years old...but had to be put down. I cried for two weeks. ",
         "negative",
         "NEG",
         0.9255363345146179,
         0,
         0
        ],
        [
         "2009-05-02T03:09:03.000+0000",
         "@amyprutch",
         " hmmm.. Cheese is good but it sucks that IGA here charge $20 a lb. for very ordinary English Cheshire. ",
         "negative",
         "NEG",
         0.9497244358062744,
         0,
         0
        ],
        [
         "2009-05-02T03:09:40.000+0000",
         "@myrandalove",
         " idk if I'm sick. I hope not D: I have a concert coming up D= But my throat hurts so idk ",
         "negative",
         "NEG",
         0.8737305402755737,
         0,
         0
        ],
        [
         "2009-04-21T11:22:15.000+0000",
         "@pranav_teegs",
         " thats becasuehe has shit in his name  Why is http://twitter.com/ShashiTharoor blocked in Pilani",
         "positive",
         "NEG",
         0.9616374969482422,
         1,
         0
        ],
        [
         "2009-05-02T03:08:58.000+0000",
         "@MsAmeliaBadila",
         " no fair! My phone can't show pictures...my answer was based off of what Amy said ",
         "negative",
         "NEG",
         0.9207159280776978,
         0,
         0
        ],
        [
         "2009-05-02T03:09:51.000+0000",
         "@justincavazos",
         " Well you would have seen me all day if you would have looked up from your phone ",
         "negative",
         "NEU",
         0.9286018013954163,
         0,
         -1
        ],
        [
         "2009-05-02T03:10:02.000+0000",
         "@ginalouann",
         " he's asleep, but I'm gonna have to get him up for work soon. he works third shift. ",
         "negative",
         "NEU",
         0.9692366123199463,
         0,
         -1
        ],
        [
         "2009-05-02T03:08:56.000+0000",
         "@minnie_boo",
         " oh no Minzzzz  so sadd to c a fellow friend suffering the way i did. fukourlives!",
         "negative",
         "NEG",
         0.9750899076461792,
         0,
         0
        ],
        [
         "2009-05-02T03:09:15.000+0000",
         "@rrrrrai",
         " me too me too. i miss the modules too!!! being a junior is NOT fun at all. ",
         "negative",
         "NEG",
         0.9687675833702087,
         0,
         0
        ],
        [
         "2009-05-02T03:08:49.000+0000",
         "@gabrielleliorti",
         "did i mention, I miss   sorry to vent. nothings working right.clearly.",
         "negative",
         "NEG",
         0.9733309745788574,
         0,
         0
        ],
        [
         "2009-05-02T03:08:59.000+0000",
         "@justashley",
         "  my head is pounding and I got a robot stalker... Hope ur day is better",
         "negative",
         "NEG",
         0.8943847417831421,
         0,
         0
        ],
        [
         "2009-04-21T11:22:00.000+0000",
         "@stephenfry",
         " will check tweetie out, i hope you have shares / get commission ",
         "positive",
         "NEU",
         0.5677217841148376,
         1,
         -1
        ],
        [
         "2009-05-02T03:09:57.000+0000",
         "@sairam2000",
         " I see... who pumps in money for that party? I'm so outdated... ",
         "negative",
         "NEG",
         0.9637158513069153,
         0,
         0
        ],
        [
         "2009-04-21T11:22:06.000+0000",
         "@Dutchiedude",
         " LOL European Connection Service getting paid 5 quid for this?  rofl!",
         "positive",
         "NEG",
         0.5664752125740051,
         1,
         0
        ],
        [
         "2009-04-21T11:22:11.000+0000",
         "@pauIy",
         "  Yep Hi Frank...we have met once or twice...now following you ",
         "positive",
         "POS",
         0.8188393712043762,
         1,
         1
        ],
        [
         "2009-04-21T11:22:11.000+0000",
         "@fgasking",
         "  Yep Hi Frank...we have met once or twice...now following you ",
         "positive",
         "POS",
         0.8188393712043762,
         1,
         1
        ],
        [
         "2009-05-02T03:09:50.000+0000",
         "@reviewerx",
         " i'm home &amp; online but i don't see you anywhere ",
         "negative",
         "NEU",
         0.9280382394790649,
         0,
         -1
        ],
        [
         "2009-05-02T03:09:58.000+0000",
         "@pishako",
         " personal problems  will post on LJ if i've the time.",
         "negative",
         "NEU",
         0.974877655506134,
         0,
         -1
        ],
        [
         "2009-05-02T03:09:29.000+0000",
         "@lopsidedgrin",
         " how quickly are you going to beat me this time? ",
         "negative",
         "NEG",
         0.9123271107673645,
         0,
         0
        ],
        [
         "2009-05-02T03:09:37.000+0000",
         "@JeanGrae",
         "  it was a usendit link u sent. *sadness*",
         "negative",
         "NEG",
         0.9607697129249573,
         0,
         0
        ],
        [
         "2009-05-02T03:09:06.000+0000",
         "@IncredibleLAGO",
         " tell Kelly ass to call me!!!!! ",
         "negative",
         "NEG",
         0.7697399854660034,
         0,
         0
        ],
        [
         "2009-04-07T10:28:39.000+0000",
         "@stevewhitaker",
         " - My, aren't we chipper this morning!  ",
         "positive",
         "NEU",
         0.5390341877937317,
         1,
         -1
        ],
        [
         "2009-04-21T11:21:59.000+0000",
         "@EvilGayTwin",
         " Hey, you still gained me dude ",
         "positive",
         "POS",
         0.6308606266975403,
         1,
         1
        ],
        [
         "2009-04-21T11:22:15.000+0000",
         "@KattPackAllDay",
         " THIS SHIT RIGHT HEREEEEEEEEE ",
         "positive",
         "NEG",
         0.9763073921203613,
         1,
         0
        ],
        [
         "2009-04-21T11:21:58.000+0000",
         "@shadowsinstone",
         " Thanks, and you're very welcome. ",
         "positive",
         "POS",
         0.9894848465919495,
         1,
         1
        ],
        [
         "2009-04-07T10:28:38.000+0000",
         "@lizzie623",
         " hahaha! You're pure filth you are! ",
         "positive",
         "NEG",
         0.9502696394920349,
         1,
         0
        ],
        [
         "2009-04-21T11:22:02.000+0000",
         "@DianneMcA",
         " LOL some blocking required ",
         "positive",
         "NEU",
         0.7478058934211731,
         1,
         -1
        ],
        [
         "2009-05-02T03:09:51.000+0000",
         "@starryxeyed",
         " That's so sad! ",
         "negative",
         "NEG",
         0.9676837921142578,
         0,
         0
        ],
        [
         "2009-04-21T11:22:09.000+0000",
         "@LiaWhiting",
         " bom dia ",
         "positive",
         "NEU",
         0.9014095067977905,
         1,
         -1
        ],
        [
         "2009-04-07T05:48:48.000+0000",
         "@anistorm",
         " ",
         "negative",
         "NEU",
         0.8639840483665466,
         0,
         -1
        ]
       ],
       "datasetInfos": [],
       "dbfsResultPath": null,
       "isJsonSchema": true,
       "metadata": {},
       "overflow": false,
       "plotOptions": {
        "customPlotOptions": {},
        "displayType": "table",
        "pivotAggregation": null,
        "pivotColumns": null,
        "xColumns": null,
        "yColumns": null
       },
       "removedWidgets": [],
       "schema": [
        {
         "metadata": "{}",
         "name": "timestamp",
         "type": "\"timestamp\""
        },
        {
         "metadata": "{}",
         "name": "mention",
         "type": "\"string\""
        },
        {
         "metadata": "{}",
         "name": "cleaned_text",
         "type": "\"string\""
        },
        {
         "metadata": "{}",
         "name": "sentiment",
         "type": "\"string\""
        },
        {
         "metadata": "{}",
         "name": "predicted_sentiment",
         "type": "\"string\""
        },
        {
         "metadata": "{}",
         "name": "predicted_score",
         "type": "\"double\""
        },
        {
         "metadata": "{}",
         "name": "sentiment_id",
         "type": "\"integer\""
        },
        {
         "metadata": "{}",
         "name": "predicted_sentiment_id",
         "type": "\"integer\""
        }
       ],
       "type": "table"
      }
     },
     "output_type": "display_data"
    }
   ],
   "source": [
    "display(gold_output_stream)"
   ]
  },
  {
   "cell_type": "code",
   "execution_count": 0,
   "metadata": {
    "application/vnd.databricks.v1+cell": {
     "cellMetadata": {
      "byteLimit": 2048000,
      "rowLimit": 10000
     },
     "inputWidgets": {},
     "nuid": "a17e8af5-d438-4d9c-bd33-0cd14decc502",
     "showTitle": false,
     "title": ""
    }
   },
   "outputs": [
    {
     "output_type": "stream",
     "name": "stdout",
     "output_type": "stream",
     "text": [
      "/databricks/python/lib/python3.9/site-packages/sklearn/metrics/_classification.py:1248: UndefinedMetricWarning: Recall and F-score are ill-defined and being set to 0.0 in labels with no true samples. Use `zero_division` parameter to control this behavior.\n  _warn_prf(average, modifier, msg_start, len(result))\n"
     ]
    },
    {
     "output_type": "display_data",
     "data": {
      "text/plain": [
       "\u001B[0;31m---------------------------------------------------------------------------\u001B[0m\n",
       "\u001B[0;31mException\u001B[0m                                 Traceback (most recent call last)\n",
       "\u001B[0;32m<command-1599202439917623>\u001B[0m in \u001B[0;36m<cell line: 13>\u001B[0;34m()\u001B[0m\n",
       "\u001B[1;32m     11\u001B[0m \u001B[0;34m\u001B[0m\u001B[0m\n",
       "\u001B[1;32m     12\u001B[0m \u001B[0;31m# Log metrics and artifacts in MLflow\u001B[0m\u001B[0;34m\u001B[0m\u001B[0;34m\u001B[0m\u001B[0;34m\u001B[0m\u001B[0m\n",
       "\u001B[0;32m---> 13\u001B[0;31m \u001B[0;32mwith\u001B[0m \u001B[0mmlflow\u001B[0m\u001B[0;34m.\u001B[0m\u001B[0mstart_run\u001B[0m\u001B[0;34m(\u001B[0m\u001B[0;34m)\u001B[0m \u001B[0;32mas\u001B[0m \u001B[0mrun\u001B[0m\u001B[0;34m:\u001B[0m\u001B[0;34m\u001B[0m\u001B[0;34m\u001B[0m\u001B[0m\n",
       "\u001B[0m\u001B[1;32m     14\u001B[0m     \u001B[0;31m# Log metrics\u001B[0m\u001B[0;34m\u001B[0m\u001B[0;34m\u001B[0m\u001B[0;34m\u001B[0m\u001B[0m\n",
       "\u001B[1;32m     15\u001B[0m     \u001B[0mmlflow\u001B[0m\u001B[0;34m.\u001B[0m\u001B[0mlog_metric\u001B[0m\u001B[0;34m(\u001B[0m\u001B[0;34m\"precision\"\u001B[0m\u001B[0;34m,\u001B[0m \u001B[0mprecision\u001B[0m\u001B[0;34m)\u001B[0m\u001B[0;34m\u001B[0m\u001B[0;34m\u001B[0m\u001B[0m\n",
       "\n",
       "\u001B[0;32m/local_disk0/.ephemeral_nfs/envs/pythonEnv-e2da2ab9-eb50-42d1-8655-b4feb0833d1e/lib/python3.9/site-packages/mlflow/tracking/fluent.py\u001B[0m in \u001B[0;36mstart_run\u001B[0;34m(run_id, experiment_id, run_name, nested, tags, description, log_system_metrics)\u001B[0m\n",
       "\u001B[1;32m    304\u001B[0m     \u001B[0mexperiment_id\u001B[0m \u001B[0;34m=\u001B[0m \u001B[0mstr\u001B[0m\u001B[0;34m(\u001B[0m\u001B[0mexperiment_id\u001B[0m\u001B[0;34m)\u001B[0m \u001B[0;32mif\u001B[0m \u001B[0misinstance\u001B[0m\u001B[0;34m(\u001B[0m\u001B[0mexperiment_id\u001B[0m\u001B[0;34m,\u001B[0m \u001B[0mint\u001B[0m\u001B[0;34m)\u001B[0m \u001B[0;32melse\u001B[0m \u001B[0mexperiment_id\u001B[0m\u001B[0;34m\u001B[0m\u001B[0;34m\u001B[0m\u001B[0m\n",
       "\u001B[1;32m    305\u001B[0m     \u001B[0;32mif\u001B[0m \u001B[0mlen\u001B[0m\u001B[0;34m(\u001B[0m\u001B[0m_active_run_stack\u001B[0m\u001B[0;34m)\u001B[0m \u001B[0;34m>\u001B[0m \u001B[0;36m0\u001B[0m \u001B[0;32mand\u001B[0m \u001B[0;32mnot\u001B[0m \u001B[0mnested\u001B[0m\u001B[0;34m:\u001B[0m\u001B[0;34m\u001B[0m\u001B[0;34m\u001B[0m\u001B[0m\n",
       "\u001B[0;32m--> 306\u001B[0;31m         raise Exception(\n",
       "\u001B[0m\u001B[1;32m    307\u001B[0m             (\n",
       "\u001B[1;32m    308\u001B[0m                 \u001B[0;34m\"Run with UUID {} is already active. To start a new run, first end the \"\u001B[0m\u001B[0;34m\u001B[0m\u001B[0;34m\u001B[0m\u001B[0m\n",
       "\n",
       "\u001B[0;31mException\u001B[0m: Run with UUID 6c17b1e9d0f04fff900fbe2b6427ba48 is already active. To start a new run, first end the current run with mlflow.end_run(). To start a nested run, call start_run with nested=True"
      ]
     },
     "metadata": {
      "application/vnd.databricks.v1+output": {
       "arguments": {},
       "data": "\u001B[0;31m---------------------------------------------------------------------------\u001B[0m\n\u001B[0;31mException\u001B[0m                                 Traceback (most recent call last)\n\u001B[0;32m<command-1599202439917623>\u001B[0m in \u001B[0;36m<cell line: 13>\u001B[0;34m()\u001B[0m\n\u001B[1;32m     11\u001B[0m \u001B[0;34m\u001B[0m\u001B[0m\n\u001B[1;32m     12\u001B[0m \u001B[0;31m# Log metrics and artifacts in MLflow\u001B[0m\u001B[0;34m\u001B[0m\u001B[0;34m\u001B[0m\u001B[0;34m\u001B[0m\u001B[0m\n\u001B[0;32m---> 13\u001B[0;31m \u001B[0;32mwith\u001B[0m \u001B[0mmlflow\u001B[0m\u001B[0;34m.\u001B[0m\u001B[0mstart_run\u001B[0m\u001B[0;34m(\u001B[0m\u001B[0;34m)\u001B[0m \u001B[0;32mas\u001B[0m \u001B[0mrun\u001B[0m\u001B[0;34m:\u001B[0m\u001B[0;34m\u001B[0m\u001B[0;34m\u001B[0m\u001B[0m\n\u001B[0m\u001B[1;32m     14\u001B[0m     \u001B[0;31m# Log metrics\u001B[0m\u001B[0;34m\u001B[0m\u001B[0;34m\u001B[0m\u001B[0;34m\u001B[0m\u001B[0m\n\u001B[1;32m     15\u001B[0m     \u001B[0mmlflow\u001B[0m\u001B[0;34m.\u001B[0m\u001B[0mlog_metric\u001B[0m\u001B[0;34m(\u001B[0m\u001B[0;34m\"precision\"\u001B[0m\u001B[0;34m,\u001B[0m \u001B[0mprecision\u001B[0m\u001B[0;34m)\u001B[0m\u001B[0;34m\u001B[0m\u001B[0;34m\u001B[0m\u001B[0m\n\n\u001B[0;32m/local_disk0/.ephemeral_nfs/envs/pythonEnv-e2da2ab9-eb50-42d1-8655-b4feb0833d1e/lib/python3.9/site-packages/mlflow/tracking/fluent.py\u001B[0m in \u001B[0;36mstart_run\u001B[0;34m(run_id, experiment_id, run_name, nested, tags, description, log_system_metrics)\u001B[0m\n\u001B[1;32m    304\u001B[0m     \u001B[0mexperiment_id\u001B[0m \u001B[0;34m=\u001B[0m \u001B[0mstr\u001B[0m\u001B[0;34m(\u001B[0m\u001B[0mexperiment_id\u001B[0m\u001B[0;34m)\u001B[0m \u001B[0;32mif\u001B[0m \u001B[0misinstance\u001B[0m\u001B[0;34m(\u001B[0m\u001B[0mexperiment_id\u001B[0m\u001B[0;34m,\u001B[0m \u001B[0mint\u001B[0m\u001B[0;34m)\u001B[0m \u001B[0;32melse\u001B[0m \u001B[0mexperiment_id\u001B[0m\u001B[0;34m\u001B[0m\u001B[0;34m\u001B[0m\u001B[0m\n\u001B[1;32m    305\u001B[0m     \u001B[0;32mif\u001B[0m \u001B[0mlen\u001B[0m\u001B[0;34m(\u001B[0m\u001B[0m_active_run_stack\u001B[0m\u001B[0;34m)\u001B[0m \u001B[0;34m>\u001B[0m \u001B[0;36m0\u001B[0m \u001B[0;32mand\u001B[0m \u001B[0;32mnot\u001B[0m \u001B[0mnested\u001B[0m\u001B[0;34m:\u001B[0m\u001B[0;34m\u001B[0m\u001B[0;34m\u001B[0m\u001B[0m\n\u001B[0;32m--> 306\u001B[0;31m         raise Exception(\n\u001B[0m\u001B[1;32m    307\u001B[0m             (\n\u001B[1;32m    308\u001B[0m                 \u001B[0;34m\"Run with UUID {} is already active. To start a new run, first end the \"\u001B[0m\u001B[0;34m\u001B[0m\u001B[0;34m\u001B[0m\u001B[0m\n\n\u001B[0;31mException\u001B[0m: Run with UUID 6c17b1e9d0f04fff900fbe2b6427ba48 is already active. To start a new run, first end the current run with mlflow.end_run(). To start a nested run, call start_run with nested=True",
       "errorSummary": "<span class='ansi-red-fg'>Exception</span>: Run with UUID 6c17b1e9d0f04fff900fbe2b6427ba48 is already active. To start a new run, first end the current run with mlflow.end_run(). To start a nested run, call start_run with nested=True",
       "errorTraceType": "ansi",
       "metadata": {},
       "type": "ipynbError"
      }
     },
     "output_type": "display_data"
    }
   ],
   "source": [
    "import matplotlib.pyplot as plt\n",
    "import seaborn as sns\n",
    "import mlflow\n",
    "from sklearn.metrics import precision_recall_fscore_support, confusion_matrix\n",
    "# Calculate evaluation metrics\n",
    "y_true = gold_output_stream.select(\"sentiment_id\").rdd.flatMap(lambda x: x).collect()\n",
    "y_pred = gold_output_stream.select(\"predicted_sentiment_id\").rdd.flatMap(lambda x: x).collect()\n",
    "\n",
    "precision, recall, f1, _ = precision_recall_fscore_support(y_true, y_pred, average='weighted')\n",
    "conf_matrix = confusion_matrix(y_true, y_pred)\n",
    "\n",
    "# Log metrics and artifacts in MLflow\n",
    "with mlflow.start_run() as run:\n",
    "    # Log metrics\n",
    "    mlflow.log_metric(\"precision\", precision)\n",
    "    mlflow.log_metric(\"recall\", recall)\n",
    "    mlflow.log_metric(\"f1-score\", f1)\n",
    "    \n",
    "    # Log confusion matrix as artifact\n",
    "    plt.figure(figsize=(8, 6))\n",
    "    sns.heatmap(conf_matrix, annot=True, fmt=\"d\", cmap=\"Oranges\")\n",
    "    plt.xlabel(\"Predicted labels\")\n",
    "    plt.ylabel(\"True labels\")\n",
    "    plt.title(\"Confusion Matrix\")\n",
    "    \n",
    "    # Save confusion matrix plot as image\n",
    "    confusion_matrix_image_path = \"confusion_matrix.png\"\n",
    "    plt.savefig(confusion_matrix_image_path)\n",
    "    \n",
    "    # Log confusion matrix image as artifact\n",
    "    mlflow.log_artifact(confusion_matrix_image_path, \"confusion_matrices\")\n",
    "    \n",
    "    # Log parameters\n",
    "    mlflow.log_param(\"model_name\", MODEL_NAME)\n",
    "    mlflow.log_param(\"mlflow_version\", mlflow._version_)\n",
    "    mlflow.log_param(\"delta_table_version\", 1) #since there is only 1 json file in the delta log."
   ]
  },
  {
   "cell_type": "markdown",
   "metadata": {
    "application/vnd.databricks.v1+cell": {
     "cellMetadata": {
      "byteLimit": 2048000,
      "rowLimit": 10000
     },
     "inputWidgets": {},
     "nuid": "81e0e2de-b872-4698-81cc-1669646c2183",
     "showTitle": false,
     "title": ""
    }
   },
   "source": [
    "## 8.0 Application Data Processing and Visualization\n",
    "- How many mentions are there in the gold data total?\n",
    "- Count the number of neutral, positive and negative tweets for each mention in new columns\n",
    "- Capture the total for each mention in a new column\n",
    "- Sort the mention count totals in descending order\n",
    "- Plot a bar chart of the top 20 mentions with positive sentiment (the people who are in favor)\n",
    "- Plot a bar chart of the top 20 mentions with negative sentiment (the people who are the vilians)\n",
    "\n",
    "You may want to use the \"Loop Application\" widget to control whether you repeateded display the latest plots while the data comes in from your streams before moving on to the next section and cleaning up your run.\n",
    "\n",
    "*note: A mention is a specific twitter user that has been \"mentioned\" in a tweet with an @user reference."
   ]
  },
  {
   "cell_type": "code",
   "execution_count": 0,
   "metadata": {
    "application/vnd.databricks.v1+cell": {
     "cellMetadata": {
      "byteLimit": 2048000,
      "rowLimit": 10000
     },
     "inputWidgets": {},
     "nuid": "8250667b-eaa5-48a1-90c7-bfe11e666e32",
     "showTitle": false,
     "title": ""
    }
   },
   "outputs": [
    {
     "output_type": "display_data",
     "data": {
      "text/plain": [
       ""
      ]
     },
     "metadata": {
      "application/vnd.databricks.v1+output": {
       "arguments": {},
       "data": "",
       "errorSummary": "Command skipped",
       "errorTraceType": "ansi",
       "metadata": {},
       "type": "ipynbError"
      }
     },
     "output_type": "display_data"
    }
   ],
   "source": [
    "# ENTER YOUR CODE HERE\n",
    "#Step 1: Read the gold data from the Delta table\n",
    "gold_data = spark.read.format('delta').load('GOLD_DELTA')\n",
    "#Step 2: Count the total number of mentions in the gold data\n",
    "total_mentions = gold_data.selectExpr(\"size(mentions) as total_mentions\").agg(sum(\"total_mentions\")).collect()[0][0]\n",
    "#Step 3: Count the number of neutral, positive, and negative tweets for each mention in new columns\n",
    "gold_data = gold_data.withColumn(\"neutral_tweets\", size(filter(col(\"sentiment\") == \"neutral\", col(\"mentions\"))))\n",
    "                     .withColumn(\"positive_tweets\", size(filter(col(\"sentiment\") == \"positive\", col(\"mentions\"))))\n",
    "                     .withColumn(\"negative_tweets\", size(filter(col(\"sentiment\") == \"negative\", col(\"mentions\"))))\n",
    "#Step 4: Capture the total for each mention in a new column\n",
    "gold_data = gold_data.withColumn(\"total_tweets\", col(\"neutral_tweets\") + col(\"positive_tweets\") + col(\"negative_tweets\"))\n",
    "#Step 5: Sort the mention count totals in descending order\n",
    "sorted_gold_data = gold_data.orderBy(desc(\"total_tweets\"))\n",
    "#Step 6: Plot a bar chart of the top 20 mentions with positive sentiment\n",
    "top_20_positive_mentions = sorted_gold_data.filter(col(\"sentiment\") == \"positive\").limit(20)\n",
    "top_20_positive_mentions.toPandas().plot.bar(x=\"mention\", y=\"total_tweets\")\n",
    "#Step 7: Plot a bar chart of the top 20 mentions with negative sentiment\n",
    "top_20_negative_mentions = sorted_gold_data.filter(col(\"sentiment\") == \"negative\").limit(20)\n",
    "top_20_negative_mentions.toPandas().plot.bar(x=\"mention\", y=\"total_tweets\")\n"
   ]
  },
  {
   "cell_type": "code",
   "execution_count": 0,
   "metadata": {
    "application/vnd.databricks.v1+cell": {
     "cellMetadata": {
      "byteLimit": 2048000,
      "rowLimit": 10000
     },
     "inputWidgets": {},
     "nuid": "e4d03c6b-4601-4a54-9e6c-b83853d62c7d",
     "showTitle": false,
     "title": ""
    }
   },
   "outputs": [
    {
     "output_type": "display_data",
     "data": {
      "text/plain": [
       ""
      ]
     },
     "metadata": {
      "application/vnd.databricks.v1+output": {
       "arguments": {},
       "data": "",
       "errorSummary": "Command skipped",
       "errorTraceType": "ansi",
       "metadata": {},
       "type": "ipynbError"
      }
     },
     "output_type": "display_data"
    }
   ],
   "source": [
    "sorted_gold_data = gold_data.orderBy(desc(\"total_tweets\"))"
   ]
  },
  {
   "cell_type": "markdown",
   "metadata": {
    "application/vnd.databricks.v1+cell": {
     "cellMetadata": {
      "byteLimit": 2048000,
      "rowLimit": 10000
     },
     "inputWidgets": {},
     "nuid": "5d5add3f-0c13-4d81-86d8-12cf3cfdd2c8",
     "showTitle": false,
     "title": ""
    }
   },
   "source": [
    "## 9.0 Clean up and completion of your pipeline\n",
    "- using the utilities what streams are running? If any.\n",
    "- Stop all active streams\n",
    "- print out the elapsed time of your notebook."
   ]
  },
  {
   "cell_type": "code",
   "execution_count": 0,
   "metadata": {
    "application/vnd.databricks.v1+cell": {
     "cellMetadata": {
      "byteLimit": 2048000,
      "rowLimit": 10000
     },
     "inputWidgets": {},
     "nuid": "0304e685-c26e-447d-b230-c37266f30003",
     "showTitle": false,
     "title": ""
    }
   },
   "outputs": [
    {
     "output_type": "display_data",
     "data": {
      "text/plain": [
       ""
      ]
     },
     "metadata": {
      "application/vnd.databricks.v1+output": {
       "arguments": {},
       "data": "",
       "errorSummary": "Command skipped",
       "errorTraceType": "ansi",
       "metadata": {},
       "type": "ipynbError"
      }
     },
     "output_type": "display_data"
    }
   ],
   "source": [
    "# ENTER YOUR CODE HERE\n",
    "#To find the active streams, use the spark.streams.active property in Spark\n",
    "active_streams = spark.streams.active"
   ]
  },
  {
   "cell_type": "code",
   "execution_count": 0,
   "metadata": {
    "application/vnd.databricks.v1+cell": {
     "cellMetadata": {
      "byteLimit": 2048000,
      "rowLimit": 10000
     },
     "inputWidgets": {},
     "nuid": "5d22e87f-a623-4ea0-ae1b-57ee4c1b6b5b",
     "showTitle": false,
     "title": ""
    }
   },
   "outputs": [
    {
     "output_type": "display_data",
     "data": {
      "text/plain": [
       ""
      ]
     },
     "metadata": {
      "application/vnd.databricks.v1+output": {
       "arguments": {},
       "data": "",
       "errorSummary": "Command skipped",
       "errorTraceType": "ansi",
       "metadata": {},
       "type": "ipynbError"
      }
     },
     "output_type": "display_data"
    }
   ],
   "source": [
    "#To stop all active streams, you can iterate over the active_streams and call the stop() method on each stream\n",
    "for stream in active_streams:\n",
    "    stream.stop()"
   ]
  },
  {
   "cell_type": "code",
   "execution_count": 0,
   "metadata": {
    "application/vnd.databricks.v1+cell": {
     "cellMetadata": {
      "byteLimit": 2048000,
      "rowLimit": 10000
     },
     "inputWidgets": {},
     "nuid": "ea759fc8-1d78-4d6d-b571-e2e256448b76",
     "showTitle": false,
     "title": ""
    }
   },
   "outputs": [
    {
     "output_type": "display_data",
     "data": {
      "text/plain": [
       ""
      ]
     },
     "metadata": {
      "application/vnd.databricks.v1+output": {
       "arguments": {},
       "data": "",
       "errorSummary": "Command skipped",
       "errorTraceType": "ansi",
       "metadata": {},
       "type": "ipynbError"
      }
     },
     "output_type": "display_data"
    }
   ],
   "source": [
    "# Get the notebooks ending time note START_TIME was established in the include file when the notebook started.\n",
    "#To print out the elapsed time of your notebook, you can use the time module in Python to calculate the duration between the start and end of the notebook execution\n",
    "import time\n",
    "\n",
    "start_time = time.time()\n",
    "\n",
    "# Your notebook code execution goes here\n",
    "\n",
    "end_time = time.time()\n",
    "elapsed_time = end_time - start_time\n",
    "\n",
    "print(\"Elapsed time: {} seconds\".format(elapsed_time))"
   ]
  },
  {
   "cell_type": "markdown",
   "metadata": {
    "application/vnd.databricks.v1+cell": {
     "cellMetadata": {
      "byteLimit": 2048000,
      "rowLimit": 10000
     },
     "inputWidgets": {},
     "nuid": "b88fc0e5-f50c-4ed1-9480-16a4c8a44b30",
     "showTitle": false,
     "title": ""
    }
   },
   "source": [
    "## 10.0 How Optimized is your Spark Application (Grad Students Only)\n",
    "Graduate students (registered for the DSCC-402 section of the course) are required to do this section.  This is a written analysis using the Spark UI (link to screen shots) that support your analysis of your pipelines execution and what is driving its performance.\n",
    "Recall that Spark Optimization has 5 significant dimensions of considertation:\n",
    "- Spill: write to executor disk due to lack of memory\n",
    "- Skew: imbalance in partition size\n",
    "- Shuffle: network io moving data between executors (wide transforms)\n",
    "- Storage: inefficiency due to disk storage format (small files, location)\n",
    "- Serialization: distribution of code segments across the cluster\n",
    "\n",
    "Comment on each of the dimentions of performance and how your impelementation is or is not being affected.  Use specific information in the Spark UI to support your description.  \n",
    "\n",
    "Note: you can take sreenshots of the Spark UI from your project runs in databricks and then link to those pictures by storing them as a publicly accessible file on your cloud drive (google, one drive, etc.)\n",
    "\n",
    "References:\n",
    "- [Spark UI Reference Reference](https://spark.apache.org/docs/latest/web-ui.html#web-ui)\n",
    "- [Spark UI Simulator](https://www.databricks.training/spark-ui-simulator/index.html)"
   ]
  },
  {
   "cell_type": "markdown",
   "metadata": {
    "application/vnd.databricks.v1+cell": {
     "cellMetadata": {
      "byteLimit": 2048000,
      "rowLimit": 10000
     },
     "inputWidgets": {},
     "nuid": "a0a5707d-a5ca-4e87-9e74-3b13d00337b0",
     "showTitle": false,
     "title": ""
    }
   },
   "source": [
    "### ENTER YOUR MARKDOWN HERE"
   ]
  },
  {
   "cell_type": "markdown",
   "metadata": {
    "application/vnd.databricks.v1+cell": {
     "cellMetadata": {},
     "inputWidgets": {},
     "nuid": "1255ea19-ed11-44ec-bb56-ba5fc7a1b0be",
     "showTitle": false,
     "title": ""
    }
   },
   "source": [
    "\n",
    "1. **Spill: Write to Executor Disk due to Lack of Memory**:\n",
    "   - This occurs when Spark runs out of memory and starts writing data to disk, which significantly slows down processing. Check the Executors tab in the Spark UI to see if any Executors have a high amount of spill data. If you notice high spill rates, it indicates that your Spark jobs are not effectively utilizing memory resources, potentially due to excessive data shuffling or inefficient caching.\n",
    "\n",
    "2. **Skew: Imbalance in Partition Size**:\n",
    "   - Skew happens when certain partitions hold significantly more data than others, leading to processing bottlenecks on specific executors. You can identify skew by examining the distribution of data across partitions in the Stages tab of the Spark UI. Look for stages where the tasks take significantly longer to complete due to data skew. Mitigating skew often involves pre-processing data to reduce imbalances or using techniques like data skew join handling.\n",
    "\n",
    "3. **Shuffle: Network IO Moving Data Between Executors**:\n",
    "   - Shuffle occurs during wide transformations like groupBy or join, where data needs to be exchanged between executors. Excessive shuffling can degrade performance, especially if the network becomes a bottleneck. Check the Shuffle Read and Shuffle Write metrics in the Executors tab to identify stages with high shuffle activity. Optimize performance by minimizing data shuffling through techniques like partitioning, broadcasting small datasets, or using appropriate join strategies.\n",
    "\n",
    "4. **Storage: Inefficiency Due to Disk Storage Format**:\n",
    "   - Inefficient storage can lead to performance issues, especially when dealing with small files or improper data storage formats. Analyze the Storage tab in the Spark UI to identify any inefficiencies in data storage, such as a large number of small files or inefficient file formats like text instead of Parquet. Optimizing storage involves consolidating small files, using columnar storage formats, and compressing data to reduce storage overhead.\n",
    "\n",
    "5. **Serialization: Distribution of Code Segments Across the Cluster**:\n",
    "   - Serialization overhead occurs when data needs to be serialized and deserialized for transmission between nodes. This can become a bottleneck, especially for complex data types. Check the Executors tab for serialization metrics to identify stages with high serialization time. You can optimize serialization performance by choosing efficient serialization formats (like Kryo), minimizing data transfer, and avoiding unnecessary serialization.\n",
    "\n",
    "By analyzing these dimensions in the Spark UI and addressing any issues identified, we can optimize our Spark implementation for better performance and resource utilization."
   ]
  }
 ],
 "metadata": {
  "application/vnd.databricks.v1+notebook": {
   "dashboards": [],
   "language": "python",
   "notebookMetadata": {
    "mostRecentlyExecutedCommandWithImplicitDF": {
     "commandId": -1,
     "dataframes": [
      "_sqldf"
     ]
    },
    "pythonIndentUnit": 4,
    "widgetLayout": [
     {
      "breakBefore": false,
      "name": "clear_previous_run",
      "width": 187
     },
     {
      "breakBefore": false,
      "name": "optimize_tables",
      "width": 187
     },
     {
      "breakBefore": false,
      "name": "stop_streams",
      "width": 187
     }
    ]
   },
   "notebookName": "Starter Streaming Tweet Sentiment - Spring 2024 Final Project",
   "widgets": {
    "clear_previous_run": {
     "currentValue": "No",
     "nuid": "11b43403-c70f-41ef-ab0e-41172583baaa",
     "typedWidgetInfo": null,
     "widgetInfo": {
      "widgetType": "dropdown",
      "defaultValue": "No",
      "label": null,
      "name": "clear_previous_run",
      "options": {
       "widgetType": "dropdown",
       "autoCreated": null,
       "choices": [
        "No",
        "Yes"
       ]
      }
     }
    },
    "optimize_tables": {
     "currentValue": "No",
     "nuid": "d27f2950-3146-4010-8bc6-58c47a93e7a9",
     "typedWidgetInfo": null,
     "widgetInfo": {
      "widgetType": "dropdown",
      "defaultValue": "No",
      "label": null,
      "name": "optimize_tables",
      "options": {
       "widgetType": "dropdown",
       "autoCreated": null,
       "choices": [
        "No",
        "Yes"
       ]
      }
     }
    },
    "stop_streams": {
     "currentValue": "No",
     "nuid": "d70a2190-266e-473c-86a7-84f7bf56b386",
     "typedWidgetInfo": null,
     "widgetInfo": {
      "widgetType": "dropdown",
      "defaultValue": "No",
      "label": null,
      "name": "stop_streams",
      "options": {
       "widgetType": "dropdown",
       "autoCreated": null,
       "choices": [
        "No",
        "Yes"
       ]
      }
     }
    }
   }
  }
 },
 "nbformat": 4,
 "nbformat_minor": 0
}
