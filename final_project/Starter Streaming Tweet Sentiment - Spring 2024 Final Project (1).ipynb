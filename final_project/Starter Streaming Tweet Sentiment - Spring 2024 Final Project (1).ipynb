{
 "cells": [
  {
   "cell_type": "markdown",
   "metadata": {
    "application/vnd.databricks.v1+cell": {
     "cellMetadata": {
      "byteLimit": 2048000,
      "rowLimit": 10000
     },
     "inputWidgets": {},
     "nuid": "fc749083-2211-485c-943f-640e198b2c70",
     "showTitle": false,
     "title": ""
    }
   },
   "source": [
    "## DSCC202-402 Data Science at Scale Final Project\n",
    "### Tracking Tweet sentiment at scale using a pretrained transformer (classifier)\n",
    "<p>Consider the following illustration of the end to end system that you will be building.  Each student should do their own work.  The project will demonstrate your understanding of Spark Streaming, the medalion data architecture using Delta Lake, Spark Inference at Scale using an MLflow packaged model as well as Exploritory Data Analysis and System Tracking and Monitoring.</p>\n",
    "<br><br>\n",
    "<img src=\"https://data-science-at-scale.s3.amazonaws.com/images/pipeline.drawio.png\">\n",
    "\n",
    "<p>\n",
    "You will be pulling an updated copy of the course GitHub repositiory: <a href=\"https://github.com/lpalum/dscc202-402-spring2024\">The Repo</a>.  If you are unclear on how to pull an updated copy using the GitHub command line, the following <a href=\"https://techwritingmatters.com/how-to-update-your-forked-repository-on-github\">document</a> is helpful.  Be sure to add the professors and TAs as collaborators on your project. \n",
    "\n",
    "- lpalum@gmail.com GitHub ID: lpalum\n",
    "- ajay.anand@rochester.edu GitHub ID: ajayan12\n",
    "- divyamunot1999@gmail.com GitHub ID: divyamunot\n",
    "- ylong6@u.Rochester.edu GitHub ID: NinaLong2077\n",
    "\n",
    "Once you have updates your fork of the repository you should see the following template project that is resident in the final_project directory.\n",
    "</p>\n",
    "\n",
    "<img src=\"https://data-science-at-scale.s3.amazonaws.com/images/notebooks.drawio.png\">\n",
    "\n",
    "<p>\n",
    "You can then pull your project into the Databrick Workspace using the <a href=\"https://www.databricks.training/step-by-step/importing-courseware-from-github/index.html\">Repos</a> feature.\n",
    "Each student is expected to submit the URL of their project on GitHub with their code checked in on the main/master branch.  This illustration highlights the branching scheme that you may use to work on your code in steps and then merge your submission into your master branch before submitting.\n",
    "</p>\n",
    "<img src=\"https://data-science-at-scale.s3.amazonaws.com/images/github.drawio.png\">\n",
    "<p>\n",
    "Work your way through this notebook which will give you the steps required to submit a complete and compliant project.  The following illustration and associated data dictionary specifies the transformations and data that you are to generate for each step in the medallion pipeline.\n",
    "</p>\n",
    "<br><br>\n",
    "<img src=\"https://data-science-at-scale.s3.amazonaws.com/images/dataframes.drawio.png\">\n",
    "\n",
    "#### Bronze Data - raw ingest\n",
    "- date - string in the source json\n",
    "- user - string in the source json\n",
    "- text - tweet string in the source json\n",
    "- sentiment - the given sentiment of the text as determined by an unknown model that is provided in the source json\n",
    "- source_file - the path of the source json file the this row of data was read from\n",
    "- processing_time - a timestamp of when you read this row from the source json\n",
    "\n",
    "#### Silver Data - Bronze Preprocessing\n",
    "- timestamp - convert date string in the bronze data to a timestamp\n",
    "- mention - every @username mentioned in the text string in the bronze data gets a row in this silver data table.\n",
    "- cleaned_text - the bronze text data with the mentions (@username) removed.\n",
    "- sentiment - the given sentiment that was associated with the text in the bronze table.\n",
    "\n",
    "#### Gold Data - Silver Table Inference\n",
    "- timestamp - the timestamp from the silver data table rows\n",
    "- mention - the mention from the silver data table rows\n",
    "- cleaned_text - the cleaned_text from the silver data table rows\n",
    "- sentiment - the given sentiment from the silver data table rows\n",
    "- predicted_score - score out of 100 from the Hugging Face Sentiment Transformer\n",
    "- predicted_sentiment - string representation of the sentiment\n",
    "- sentiment_id - 0 for negative and 1 for postive associated with the given sentiment\n",
    "- predicted_sentiment_id - 0 for negative and 1 for positive assocaited with the Hugging Face Sentiment Transformer\n",
    "\n",
    "#### Application Data - Gold Table Aggregation\n",
    "- min_timestamp - the oldest timestamp on a given mention (@username)\n",
    "- max_timestamp - the newest timestamp on a given mention (@username)\n",
    "- mention - the user (@username) that this row pertains to.\n",
    "- negative - total negative tweets directed at this mention (@username)\n",
    "- neutral - total neutral tweets directed at this mention (@username)\n",
    "- positive - total positive tweets directed at this mention (@username)\n",
    "\n",
    "When you are designing your approach, one of the main decisions that you will need to make is how you are going to orchestrate the streaming data processing in your pipeline.  There are several valid approaches.  First, you may choose to start the bronze_stream and let it complete (read and append all of the source data) before preceeding and starting up the silver_stream.  This approach has latency associated with it but it will allow your code to proceed in a linear fashion and process all the data by the end of your notebook execution.  Another potential approach is to start all the streams and have a \"watch\" method to determine when the pipeline has processed sufficient or all of the source data before stopping and displaying results.  Both of these approaches are valid and have different implications on how you will trigger your steams and how you will gate the execution of your pipeline.  Think through how you want to proceed and ask questions if you need guidance. The following references may be helpful:\n",
    "- [Spark Structured Streaming Programming Guide](https://spark.apache.org/docs/latest/structured-streaming-programming-guide.html)\n",
    "- [Databricks Autoloader - Cloudfiles](https://docs.databricks.com/en/ingestion/auto-loader/index.html)\n",
    "\n",
    "### Be sure that your project runs end to end when *Run all* is executued on this notebook! (15 Points out of 60)"
   ]
  },
  {
   "cell_type": "code",
   "execution_count": 0,
   "metadata": {
    "application/vnd.databricks.v1+cell": {
     "cellMetadata": {
      "byteLimit": 2048000,
      "rowLimit": 10000
     },
     "inputWidgets": {},
     "nuid": "068f25d0-1387-4342-89cf-ce82a8d614ce",
     "showTitle": true,
     "title": "Pull in the Includes & Utiltites"
    }
   },
   "outputs": [
    {
     "output_type": "display_data",
     "data": {
      "application/vnd.databricks.v1+bamboolib_hint": "{\"pd.DataFrames\": [], \"version\": \"0.0.1\"}",
      "text/plain": []
     },
     "metadata": {},
     "output_type": "display_data"
    },
    {
     "output_type": "display_data",
     "data": {
      "text/html": [
       "\n",
       "<H2>VERY IMPORTANT TO UNDERSTAND THE USE OF THESE VARIABLES!<br> Please ask if you are confused about their use.</H2>\n",
       "<table border=1>\n",
       "<tr><td><b>Variable Name</b></td><td><b>Value</b></td><td><b>Description</b></td></tr>\n",
       "<tr><td>TWEET_BUCKET_NAME</td><td>voc-75-databricks-data</td><td>AWS S3 Bucket Name where the tweets are coming into your system.</td></tr>\n",
       "<tr><td>TWEET_BUCKET_URL</td><td>https://voc-75-databricks-data.s3.amazonaws.com/</td><td>AWS S3 Bucket URL where the tweets are coming into your system.</td></tr>\n",
       "<tr><td>TWEET_SOURCE_PATH</td><td>s3a://voc-75-databricks-data/voc_volume/</td><td>AWS S3 Path where the tweets are coming into your system.</td></tr>\n",
       "<tr><td>USER_DIR</td><td>/tmp/labuser104917-3025951/</td><td>Path to the local storage (dbfs) for your project.</td></tr>\n",
       "<tr><td>BRONZE_CHECKPOINT</td><td>/tmp/labuser104917-3025951/bronze.checkpoint</td><td>Store your Bronze Checkpoint data here.</td></tr>\n",
       "<tr><td>BRONZE_DELTA</td><td>/tmp/labuser104917-3025951/bronze.delta</td><td>Store your Bronze Delta Table here.</td></tr>\n",
       "<tr><td>SILVER_CHECKPOINT</td><td>/tmp/labuser104917-3025951/silver.checkpoint</td><td>Store your Silver Checkpoint data here.</td></tr>\n",
       "<tr><td>SILVER_DELTA</td><td>/tmp/labuser104917-3025951/silver.delta</td><td>Store your Silver Delta Table here.</td></tr>\n",
       "<tr><td>GOLD_CHECKPOINT</td><td>/tmp/labuser104917-3025951/gold.checkpoint</td><td>Store your Gold Checkpoint data here.</td></tr>\n",
       "<tr><td>GOLD_DELTA</td><td>/tmp/labuser104917-3025951/gold.delta</td><td>Store your Gold Delta Table here.</td></tr>\n",
       "<tr><td>MODEL_NAME</td><td>HF_TWEET_SENTIMENT</td><td>Load this production model</td></tr>\n",
       "<tr><td>HF_MODEL_NAME</td><td>finiteautomata/bertweet-base-sentiment-analysis</td><td>The Hugging Face Model for Tweet sentiment classification: https://huggingface.co/finiteautomata/bertweet-base-sentiment-analysis </td></tr>\n",
       "</table>\n"
      ]
     },
     "metadata": {
      "application/vnd.databricks.v1+output": {
       "addedWidgets": {},
       "arguments": {},
       "data": "\n<H2>VERY IMPORTANT TO UNDERSTAND THE USE OF THESE VARIABLES!<br> Please ask if you are confused about their use.</H2>\n<table border=1>\n<tr><td><b>Variable Name</b></td><td><b>Value</b></td><td><b>Description</b></td></tr>\n<tr><td>TWEET_BUCKET_NAME</td><td>voc-75-databricks-data</td><td>AWS S3 Bucket Name where the tweets are coming into your system.</td></tr>\n<tr><td>TWEET_BUCKET_URL</td><td>https://voc-75-databricks-data.s3.amazonaws.com/</td><td>AWS S3 Bucket URL where the tweets are coming into your system.</td></tr>\n<tr><td>TWEET_SOURCE_PATH</td><td>s3a://voc-75-databricks-data/voc_volume/</td><td>AWS S3 Path where the tweets are coming into your system.</td></tr>\n<tr><td>USER_DIR</td><td>/tmp/labuser104917-3025951/</td><td>Path to the local storage (dbfs) for your project.</td></tr>\n<tr><td>BRONZE_CHECKPOINT</td><td>/tmp/labuser104917-3025951/bronze.checkpoint</td><td>Store your Bronze Checkpoint data here.</td></tr>\n<tr><td>BRONZE_DELTA</td><td>/tmp/labuser104917-3025951/bronze.delta</td><td>Store your Bronze Delta Table here.</td></tr>\n<tr><td>SILVER_CHECKPOINT</td><td>/tmp/labuser104917-3025951/silver.checkpoint</td><td>Store your Silver Checkpoint data here.</td></tr>\n<tr><td>SILVER_DELTA</td><td>/tmp/labuser104917-3025951/silver.delta</td><td>Store your Silver Delta Table here.</td></tr>\n<tr><td>GOLD_CHECKPOINT</td><td>/tmp/labuser104917-3025951/gold.checkpoint</td><td>Store your Gold Checkpoint data here.</td></tr>\n<tr><td>GOLD_DELTA</td><td>/tmp/labuser104917-3025951/gold.delta</td><td>Store your Gold Delta Table here.</td></tr>\n<tr><td>MODEL_NAME</td><td>HF_TWEET_SENTIMENT</td><td>Load this production model</td></tr>\n<tr><td>HF_MODEL_NAME</td><td>finiteautomata/bertweet-base-sentiment-analysis</td><td>The Hugging Face Model for Tweet sentiment classification: https://huggingface.co/finiteautomata/bertweet-base-sentiment-analysis </td></tr>\n</table>\n",
       "datasetInfos": [],
       "metadata": {},
       "removedWidgets": [],
       "textData": null,
       "type": "htmlSandbox"
      }
     },
     "output_type": "display_data"
    },
    {
     "output_type": "stream",
     "name": "stdout",
     "output_type": "stream",
     "text": [
      "the includes are included\n"
     ]
    }
   ],
   "source": [
    "%run ./includes/includes"
   ]
  },
  {
   "cell_type": "code",
   "execution_count": 0,
   "metadata": {
    "application/vnd.databricks.v1+cell": {
     "cellMetadata": {
      "byteLimit": 2048000,
      "rowLimit": 10000
     },
     "inputWidgets": {},
     "nuid": "6512bf1b-50e0-4a4b-84a9-e280a6260b56",
     "showTitle": true,
     "title": "Notebook Control Widgets (maybe helpful)"
    }
   },
   "outputs": [],
   "source": [
    "\"\"\"\n",
    "Adding a widget to the notebook to control the clearing of a previous run.\n",
    "or stopping the active streams using routines defined in the utilities notebook\n",
    "\"\"\"\n",
    "dbutils.widgets.removeAll()\n",
    "\n",
    "dbutils.widgets.dropdown(\"clear_previous_run\", \"No\", [\"No\",\"Yes\"])\n",
    "if (getArgument(\"clear_previous_run\") == \"Yes\"):\n",
    "    clear_previous_run()\n",
    "    print(\"Cleared all previous data.\")\n",
    "\n",
    "dbutils.widgets.dropdown(\"stop_streams\", \"No\", [\"No\",\"Yes\"])\n",
    "if (getArgument(\"stop_streams\") == \"Yes\"):\n",
    "    stop_all_streams()\n",
    "    print(\"Stopped all active streams.\")\n",
    "\n",
    "from delta import *\n",
    "dbutils.widgets.dropdown(\"optimize_tables\", \"No\", [\"No\",\"Yes\"])\n",
    "if (getArgument(\"optimize_tables\") == \"Yes\"):\n",
    "    # Suck up those small files that we have been appending.\n",
    "    DeltaTable.forPath(spark, BRONZE_DELTA).optimize().executeCompaction()\n",
    "    # Suck up those small files that we have been appending.\n",
    "    DeltaTable.forPath(spark, SILVER_DELTA).optimize().executeCompaction()\n",
    "    # Suck up those small files that we have been appending.\n",
    "    DeltaTable.forPath(spark, GOLD_DELTA).optimize().executeCompaction()\n",
    "    print(\"Optimized all of the Delta Tables\")"
   ]
  },
  {
   "cell_type": "markdown",
   "metadata": {
    "application/vnd.databricks.v1+cell": {
     "cellMetadata": {
      "byteLimit": 2048000,
      "rowLimit": 10000
     },
     "inputWidgets": {},
     "nuid": "e8ce7c13-7f8f-4e11-b50c-fdaebbcf3f99",
     "showTitle": false,
     "title": ""
    }
   },
   "source": [
    "## 1.0 Import your libraries here...\n",
    "- Are your shuffle partitions consistent with your cluster and your workload?\n",
    "- Do you have the necessary libraries to perform the required operations in the pipeline/application?"
   ]
  },
  {
   "cell_type": "code",
   "execution_count": 0,
   "metadata": {
    "application/vnd.databricks.v1+cell": {
     "cellMetadata": {
      "byteLimit": 2048000,
      "rowLimit": 10000
     },
     "inputWidgets": {},
     "nuid": "12b32442-49e9-42c0-ae9e-ac01d87bdceb",
     "showTitle": false,
     "title": ""
    }
   },
   "outputs": [
    {
     "output_type": "stream",
     "name": "stdout",
     "output_type": "stream",
     "text": [
      "Python interpreter will be restarted.\nRequirement already satisfied: mlflow in /local_disk0/.ephemeral_nfs/envs/pythonEnv-6b41a766-7140-4ba7-8039-238f43008e4c/lib/python3.9/site-packages (2.12.2)\nRequirement already satisfied: Flask<4 in /databricks/python3/lib/python3.9/site-packages (from mlflow) (1.1.2+db1)\nRequirement already satisfied: alembic!=1.10.0,<2 in /local_disk0/.ephemeral_nfs/envs/pythonEnv-6b41a766-7140-4ba7-8039-238f43008e4c/lib/python3.9/site-packages (from mlflow) (1.13.1)\nRequirement already satisfied: click<9,>=7.0 in /databricks/python3/lib/python3.9/site-packages (from mlflow) (8.0.3)\nRequirement already satisfied: cloudpickle<4 in /databricks/python3/lib/python3.9/site-packages (from mlflow) (2.0.0)\nRequirement already satisfied: docker<8,>=4.0.0 in /local_disk0/.ephemeral_nfs/envs/pythonEnv-6b41a766-7140-4ba7-8039-238f43008e4c/lib/python3.9/site-packages (from mlflow) (7.0.0)\nRequirement already satisfied: entrypoints<1 in /databricks/python3/lib/python3.9/site-packages (from mlflow) (0.3)\nRequirement already satisfied: gitpython<4,>=3.1.9 in /databricks/python3/lib/python3.9/site-packages (from mlflow) (3.1.27)\nRequirement already satisfied: graphene<4 in /local_disk0/.ephemeral_nfs/envs/pythonEnv-6b41a766-7140-4ba7-8039-238f43008e4c/lib/python3.9/site-packages (from mlflow) (3.3)\nRequirement already satisfied: importlib-metadata!=4.7.0,<8,>=3.7.0 in /databricks/python3/lib/python3.9/site-packages (from mlflow) (4.8.1)\nRequirement already satisfied: markdown<4,>=3.3 in /databricks/python3/lib/python3.9/site-packages (from mlflow) (3.3.6)\nRequirement already satisfied: matplotlib<4 in /databricks/python3/lib/python3.9/site-packages (from mlflow) (3.4.3)\nRequirement already satisfied: numpy<2 in /databricks/python3/lib/python3.9/site-packages (from mlflow) (1.20.3)\nRequirement already satisfied: packaging<25 in /databricks/python3/lib/python3.9/site-packages (from mlflow) (21.0)\nRequirement already satisfied: pandas<3 in /databricks/python3/lib/python3.9/site-packages (from mlflow) (1.3.4)\nRequirement already satisfied: protobuf<5,>=3.12.0 in /databricks/python3/lib/python3.9/site-packages (from mlflow) (3.19.4)\nRequirement already satisfied: pyarrow<16,>=4.0.0 in /databricks/python3/lib/python3.9/site-packages (from mlflow) (7.0.0)\nRequirement already satisfied: pytz<2025 in /databricks/python3/lib/python3.9/site-packages (from mlflow) (2021.3)\nRequirement already satisfied: pyyaml<7,>=5.1 in /databricks/python3/lib/python3.9/site-packages (from mlflow) (6.0)\nRequirement already satisfied: querystring-parser<2 in /local_disk0/.ephemeral_nfs/envs/pythonEnv-6b41a766-7140-4ba7-8039-238f43008e4c/lib/python3.9/site-packages (from mlflow) (1.2.4)\nRequirement already satisfied: requests<3,>=2.17.3 in /databricks/python3/lib/python3.9/site-packages (from mlflow) (2.26.0)\nRequirement already satisfied: scikit-learn<2 in /databricks/python3/lib/python3.9/site-packages (from mlflow) (0.24.2)\nRequirement already satisfied: scipy<2 in /databricks/python3/lib/python3.9/site-packages (from mlflow) (1.7.1)\nRequirement already satisfied: sqlalchemy<3,>=1.4.0 in /local_disk0/.ephemeral_nfs/envs/pythonEnv-6b41a766-7140-4ba7-8039-238f43008e4c/lib/python3.9/site-packages (from mlflow) (2.0.30)\nRequirement already satisfied: sqlparse<1,>=0.4.0 in /databricks/python3/lib/python3.9/site-packages (from mlflow) (0.4.2)\nRequirement already satisfied: Jinja2<4,>=2.11 in /databricks/python3/lib/python3.9/site-packages (from mlflow) (2.11.3)\nRequirement already satisfied: gunicorn<23 in /databricks/python3/lib/python3.9/site-packages (from mlflow) (20.1.0)\nRequirement already satisfied: Mako in /databricks/python3/lib/python3.9/site-packages (from alembic!=1.10.0,<2->mlflow) (1.2.0)\nRequirement already satisfied: typing-extensions>=4 in /local_disk0/.ephemeral_nfs/envs/pythonEnv-6b41a766-7140-4ba7-8039-238f43008e4c/lib/python3.9/site-packages (from alembic!=1.10.0,<2->mlflow) (4.11.0)\nRequirement already satisfied: urllib3>=1.26.0 in /databricks/python3/lib/python3.9/site-packages (from docker<8,>=4.0.0->mlflow) (1.26.7)\nRequirement already satisfied: Werkzeug>=0.15 in /databricks/python3/lib/python3.9/site-packages (from Flask<4->mlflow) (2.0.2)\nRequirement already satisfied: itsdangerous>=0.24 in /databricks/python3/lib/python3.9/site-packages (from Flask<4->mlflow) (2.0.1)\nRequirement already satisfied: gitdb<5,>=4.0.1 in /databricks/python3/lib/python3.9/site-packages (from gitpython<4,>=3.1.9->mlflow) (4.0.9)\nRequirement already satisfied: graphql-core<3.3,>=3.1 in /local_disk0/.ephemeral_nfs/envs/pythonEnv-6b41a766-7140-4ba7-8039-238f43008e4c/lib/python3.9/site-packages (from graphene<4->mlflow) (3.2.3)\nRequirement already satisfied: graphql-relay<3.3,>=3.1 in /local_disk0/.ephemeral_nfs/envs/pythonEnv-6b41a766-7140-4ba7-8039-238f43008e4c/lib/python3.9/site-packages (from graphene<4->mlflow) (3.2.0)\nRequirement already satisfied: aniso8601<10,>=8 in /local_disk0/.ephemeral_nfs/envs/pythonEnv-6b41a766-7140-4ba7-8039-238f43008e4c/lib/python3.9/site-packages (from graphene<4->mlflow) (9.0.1)\nRequirement already satisfied: setuptools>=3.0 in /usr/local/lib/python3.9/dist-packages (from gunicorn<23->mlflow) (58.0.4)\nRequirement already satisfied: zipp>=0.5 in /databricks/python3/lib/python3.9/site-packages (from importlib-metadata!=4.7.0,<8,>=3.7.0->mlflow) (3.6.0)\nRequirement already satisfied: MarkupSafe>=0.23 in /databricks/python3/lib/python3.9/site-packages (from Jinja2<4,>=2.11->mlflow) (2.0.1)\nRequirement already satisfied: cycler>=0.10 in /databricks/python3/lib/python3.9/site-packages (from matplotlib<4->mlflow) (0.10.0)\nRequirement already satisfied: kiwisolver>=1.0.1 in /databricks/python3/lib/python3.9/site-packages (from matplotlib<4->mlflow) (1.3.1)\nRequirement already satisfied: pillow>=6.2.0 in /databricks/python3/lib/python3.9/site-packages (from matplotlib<4->mlflow) (8.4.0)\nRequirement already satisfied: pyparsing>=2.2.1 in /databricks/python3/lib/python3.9/site-packages (from matplotlib<4->mlflow) (3.0.4)\nRequirement already satisfied: python-dateutil>=2.7 in /databricks/python3/lib/python3.9/site-packages (from matplotlib<4->mlflow) (2.8.2)\nRequirement already satisfied: six in /databricks/python3/lib/python3.9/site-packages (from querystring-parser<2->mlflow) (1.16.0)\nRequirement already satisfied: certifi>=2017.4.17 in /databricks/python3/lib/python3.9/site-packages (from requests<3,>=2.17.3->mlflow) (2021.10.8)\nRequirement already satisfied: charset-normalizer~=2.0.0 in /databricks/python3/lib/python3.9/site-packages (from requests<3,>=2.17.3->mlflow) (2.0.4)\nRequirement already satisfied: idna<4,>=2.5 in /databricks/python3/lib/python3.9/site-packages (from requests<3,>=2.17.3->mlflow) (3.2)\nRequirement already satisfied: joblib>=0.11 in /databricks/python3/lib/python3.9/site-packages (from scikit-learn<2->mlflow) (1.0.1)\nRequirement already satisfied: threadpoolctl>=2.0.0 in /databricks/python3/lib/python3.9/site-packages (from scikit-learn<2->mlflow) (2.2.0)\nRequirement already satisfied: greenlet!=0.4.17 in /local_disk0/.ephemeral_nfs/envs/pythonEnv-6b41a766-7140-4ba7-8039-238f43008e4c/lib/python3.9/site-packages (from sqlalchemy<3,>=1.4.0->mlflow) (3.0.3)\nRequirement already satisfied: smmap<6,>=3.0.1 in /databricks/python3/lib/python3.9/site-packages (from gitdb<5,>=4.0.1->gitpython<4,>=3.1.9->mlflow) (5.0.0)\nPython interpreter will be restarted.\n"
     ]
    }
   ],
   "source": [
    "%pip install --upgrade mlflow"
   ]
  },
  {
   "cell_type": "code",
   "execution_count": 0,
   "metadata": {
    "application/vnd.databricks.v1+cell": {
     "cellMetadata": {
      "byteLimit": 2048000,
      "rowLimit": 10000
     },
     "inputWidgets": {},
     "nuid": "67bafbb7-d34e-4e86-b159-b2e062faa1d0",
     "showTitle": false,
     "title": ""
    }
   },
   "outputs": [
    {
     "output_type": "stream",
     "name": "stdout",
     "output_type": "stream",
     "text": [
      "Number of shuffle partitions: 256\n"
     ]
    }
   ],
   "source": [
    "# ENTER YOUR CODE HERE\n",
    "# Import necessary libraries\n",
    "from pyspark.sql import SparkSession\n",
    "from pyspark.sql.types import StructType, StructField, StringType, TimestampType\n",
    "from pyspark.sql.functions import col, count, desc, isnan, when\n",
    "from pyspark.ml import PipelineModel\n",
    "from pyspark.sql.functions import udf\n",
    "from pyspark.sql.types import StringType\n",
    "import mlflow\n",
    "from sklearn.metrics import precision_score, recall_score, f1_score\n",
    "\n",
    "# Initialize SparkSession\n",
    "spark = SparkSession.builder \\\n",
    "    .appName(\"Tweet Sentiment\") \\\n",
    "    .config(\"spark.sql.shuffle.partitions\", \"256\")\\\n",
    "    .getOrCreate()\n",
    "\n",
    "# Check if shuffle partitions are consistent with the cluster and workload\n",
    "shuffle_partitions = spark.conf.get(\"spark.sql.shuffle.partitions\")\n",
    "print(\"Number of shuffle partitions:\", shuffle_partitions)\n",
    "\n",
    "# Define configuration variables\n",
    "TWEET_BUCKET_NAME = \"voc-75-databricks-data\"\n",
    "TWEET_BUCKET_URL = \"https://voc-75-databricks-data.s3.amazonaws.com/\"\n",
    "TWEET_SOURCE_PATH = \"s3a://voc-75-databricks-data/voc_volume/\"\n",
    "USER_DIR = \"/tmp/labuser104917-2387441/\"\n",
    "BRONZE_CHECKPOINT = \"/tmp/labuser104917-2387441/bronze.checkpoint\"\n",
    "BRONZE_DELTA = \"/tmp/labuser104917-2387441/bronze.delta\"\n",
    "SILVER_CHECKPOINT = \"/tmp/labuser104917-2387441/silver.checkpoint\"\n",
    "SILVER_DELTA = \"/tmp/labuser104917-2387441/silver.delta\"\n",
    "GOLD_CHECKPOINT = \"/tmp/labuser104917-2387441/gold.checkpoint\"\n",
    "GOLD_DELTA = \"/tmp/labuser104917-2387441/gold.delta\"\n",
    "MODEL_NAME = \"HF_TWEET_SENTIMENT\"\n",
    "HF_MODEL_NAME = \"finiteautomata/bertweet-base-sentiment-analysis\"\n",
    "\n"
   ]
  },
  {
   "cell_type": "markdown",
   "metadata": {
    "application/vnd.databricks.v1+cell": {
     "cellMetadata": {
      "byteLimit": 2048000,
      "rowLimit": 10000
     },
     "inputWidgets": {},
     "nuid": "2b7624b4-0aa5-46b7-9767-52f462b2c574",
     "showTitle": false,
     "title": ""
    }
   },
   "source": [
    "## 2.0 Use the utility functions to ...\n",
    "- Read the source file directory listing\n",
    "- Count the source files (how many are there?)\n",
    "- print the contents of one of the files"
   ]
  },
  {
   "cell_type": "code",
   "execution_count": 0,
   "metadata": {
    "application/vnd.databricks.v1+cell": {
     "cellMetadata": {
      "byteLimit": 2048000,
      "rowLimit": 10000
     },
     "inputWidgets": {},
     "nuid": "a59749d5-e45d-460f-9be1-33652cda2ea5",
     "showTitle": false,
     "title": ""
    }
   },
   "outputs": [
    {
     "output_type": "stream",
     "name": "stdout",
     "output_type": "stream",
     "text": [
      "Number of source files: 200001\n"
     ]
    }
   ],
   "source": [
    "# Read the source file directory listing\n",
    "source_files = dbutils.fs.ls(TWEET_SOURCE_PATH)\n",
    "\n",
    "# Count the number of source files\n",
    "num_files = len(source_files)\n",
    "print(\"Number of source files:\", num_files)"
   ]
  },
  {
   "cell_type": "code",
   "execution_count": 0,
   "metadata": {
    "application/vnd.databricks.v1+cell": {
     "cellMetadata": {
      "byteLimit": 2048000,
      "rowLimit": 10000
     },
     "inputWidgets": {},
     "nuid": "fd1d0519-0ced-4354-ba15-9d786222b4a4",
     "showTitle": false,
     "title": ""
    }
   },
   "outputs": [
    {
     "output_type": "stream",
     "name": "stdout",
     "output_type": "stream",
     "text": [
      "+--------------------+---------+--------------------+---------------+\n|                date|sentiment|                text|           user|\n+--------------------+---------+--------------------+---------------+\n|Mon Apr 06 22:19:...| negative|@switchfoot http:...|_TheSpecialOne_|\n+--------------------+---------+--------------------+---------------+\n\n"
     ]
    }
   ],
   "source": [
    "file = source_files[0].path\n",
    "df = spark.read.option(\"header\", \"true\").json(file)\n",
    "df.show()\n"
   ]
  },
  {
   "cell_type": "code",
   "execution_count": 0,
   "metadata": {
    "application/vnd.databricks.v1+cell": {
     "cellMetadata": {
      "byteLimit": 2048000,
      "rowLimit": 10000
     },
     "inputWidgets": {},
     "nuid": "34beb374-8cd9-4d7e-9920-326726e437ff",
     "showTitle": false,
     "title": ""
    }
   },
   "outputs": [],
   "source": [
    "def stop_all_streams():\n",
    "    # Function implementation here\n",
    "    pass\n",
    "\n",
    "def clear_previous_run():\n",
    "    # Function implementation here\n",
    "    pass\n",
    "\n",
    "# Call the functions\n",
    "stop_all_streams()\n",
    "clear_previous_run()"
   ]
  },
  {
   "cell_type": "markdown",
   "metadata": {
    "application/vnd.databricks.v1+cell": {
     "cellMetadata": {
      "byteLimit": 2048000,
      "rowLimit": 10000
     },
     "inputWidgets": {},
     "nuid": "1676aed7-527f-4ea7-9d3b-52544e8c1e37",
     "showTitle": false,
     "title": ""
    }
   },
   "source": [
    "## 3.0 Transform the Raw Data to Bronze Data using a stream\n",
    "- define the schema for the raw data\n",
    "- setup a read stream using cloudfiles and the source data format\n",
    "- setup a write stream using cloudfiles to append to the bronze delta table\n",
    "- enforce schema\n",
    "- allow a new schema to be merged into the bronze delta table\n",
    "- Use the defined BRONZE_CHECKPOINT and BRONZE_DELTA paths defines in the includes\n",
    "- name your raw to bronze stream as bronze_stream\n",
    "- transform the raw data to the bronze data using the data definition at the top of the notebook"
   ]
  },
  {
   "cell_type": "code",
   "execution_count": 0,
   "metadata": {
    "application/vnd.databricks.v1+cell": {
     "cellMetadata": {
      "byteLimit": 2048000,
      "rowLimit": 10000
     },
     "inputWidgets": {},
     "nuid": "5fc61c20-d3d2-4b56-9a87-f4f2a5391fe8",
     "showTitle": false,
     "title": ""
    }
   },
   "outputs": [],
   "source": [
    "# ENTER YOUR CODE HERE\n",
    "from pyspark.sql import SparkSession\n",
    "from pyspark.sql.functions import current_timestamp, input_file_name\n",
    "from pyspark.sql.types import StructType, StructField, StringType, IntegerType, DoubleType, TimestampType\n",
    "\n",
    "# Initialize the spark session\n",
    "spark = SparkSession.builder \\\n",
    "    .appName(\"Bronze Data Streaming\") \\\n",
    "    .getOrCreate()\n",
    "\n",
    "# Define the schema for the raw data\n",
    "raw_schema = StructType([\n",
    "    StructField(\"date\", StringType(), nullable=True),\n",
    "    StructField(\"user\", StringType(), nullable=True),\n",
    "    StructField(\"text\", StringType(), nullable=True),\n",
    "    StructField(\"sentiment\", StringType(), nullable=True),\n",
    "    StructField(\"source_file\", StringType(), nullable=True),\n",
    "    StructField(\"processing_time\", TimestampType(), nullable=True)\n",
    "])\n",
    "# Define your source directory path\n",
    "source_path = \"s3a://voc-75-databricks-data/voc_volume/\"\n",
    "\n",
    "# Setup the read stream limited to 100 files\n",
    "raw_stream = spark.readStream \\\n",
    "    .format(\"cloudFiles\") \\\n",
    "    .option(\"cloudFiles.format\", \"json\") \\\n",
    "    .option(\"cloudFiles.maxFilesPerTrigger\", 1)\\\n",
    "    .schema(raw_schema) \\\n",
    "    .load(source_path)\\\n",
    "    .withColumn(\"processing_time\",current_timestamp())\\\n",
    "    .withColumn(\"source_file\", input_file_name())\\\n",
    "    .limit(100)"
   ]
  },
  {
   "cell_type": "code",
   "execution_count": 0,
   "metadata": {
    "application/vnd.databricks.v1+cell": {
     "cellMetadata": {
      "byteLimit": 2048000,
      "rowLimit": 10000
     },
     "inputWidgets": {},
     "nuid": "176c64df-4f54-41bb-ac08-82d8f26ee51c",
     "showTitle": false,
     "title": ""
    }
   },
   "outputs": [],
   "source": [
    "# Setup write stream to append to the Bronze Delta Table\n",
    "bronze_stream = (\n",
    "    raw_stream\n",
    "    .writeStream\n",
    "    .format(\"delta\")\n",
    "    .outputMode(\"append\")\n",
    "    .option(\"checkpointLocation\", BRONZE_CHECKPOINT)\n",
    "    .option(\"mergeSchema\", \"true\")\n",
    "    .queryName(\"bronze_stream\")\n",
    "    .option(\"cloudFiles.schemaLocation\", BRONZE_DELTA)\n",
    "    .start(BRONZE_DELTA)\n",
    ")"
   ]
  },
  {
   "cell_type": "markdown",
   "metadata": {
    "application/vnd.databricks.v1+cell": {
     "cellMetadata": {
      "byteLimit": 2048000,
      "rowLimit": 10000
     },
     "inputWidgets": {},
     "nuid": "9bc3e824-d218-43e5-a43b-4c6dbe31950d",
     "showTitle": false,
     "title": ""
    }
   },
   "source": [
    "## 4.0 Bronze Data Exploratory Data Analysis\n",
    "- How many tweets are captured in your Bronze Table?\n",
    "- Are there any columns that contain Nan or Null values?  If so how many and what will you do in your silver transforms to address this?\n",
    "- Count the number of tweets by each unique user handle and sort the data by descending count.\n",
    "- How many tweets have at least one mention (@) how many tweet have no mentions (@)\n",
    "- Plot a bar chart that shows the top 20 tweeters (users)\n"
   ]
  },
  {
   "cell_type": "code",
   "execution_count": 0,
   "metadata": {
    "application/vnd.databricks.v1+cell": {
     "cellMetadata": {
      "byteLimit": 2048000,
      "implicitDf": true,
      "rowLimit": 10000
     },
     "inputWidgets": {},
     "nuid": "091ec59c-d968-4acf-b56f-cc9178cd0693",
     "showTitle": false,
     "title": ""
    }
   },
   "outputs": [
    {
     "output_type": "stream",
     "name": "stdout",
     "output_type": "stream",
     "text": [
      "Number of tweets captured in the Bronze Table: 194\n+------------------+------------------+------------------+-----------------------+-------------------------+-----------------------------+\n|date_contains_null|user_contains_null|text_contains_null|sentiment_contains_null|source_file_contains_null|processing_time_contains_null|\n+------------------+------------------+------------------+-----------------------+-------------------------+-----------------------------+\n|             false|             false|             false|                  false|                    false|                        false|\n+------------------+------------------+------------------+-----------------------+-------------------------+-----------------------------+\n\n"
     ]
    }
   ],
   "source": [
    "#ENTER YOUR CODE HERE\n",
    "# Define the path to Bronze Delta Table\n",
    "BRONZE_DELTA = \"/tmp/labuser104917-3025951/bronze.delta\"\n",
    "# Read the Bronze Delta Table as a DataFrame\n",
    "bronze_df = spark.read.format(\"delta\").load(BRONZE_DELTA)\n",
    "# Count the number of rows in the DataFrame\n",
    "num_tweets_bronze = bronze_df.count()\n",
    "# Print the number of tweets captured in the Bronze Table\n",
    "print(\"Number of tweets captured in the Bronze Table:\", num_tweets_bronze)\n",
    "# Initialize lists to store columns with NaN or Null values\n",
    "cols = [f\"any({col} is null) as {col}_contains_null\" for col in bronze_df.columns]\n",
    "# Select columns and show the result\n",
    "broncols = [f\"any({col} is null)as {col}_contains_null\" for col in bronze_df.columns]\n",
    "bronze_df.selectExpr(cols).show() "
   ]
  },
  {
   "cell_type": "markdown",
   "metadata": {
    "application/vnd.databricks.v1+cell": {
     "cellMetadata": {
      "byteLimit": 2048000,
      "rowLimit": 10000
     },
     "inputWidgets": {},
     "nuid": "23174a6f-d2e5-4234-9a98-0ed52b8e93de",
     "showTitle": false,
     "title": ""
    }
   },
   "source": [
    "No, there are no null tweets in the columns as shown above."
   ]
  },
  {
   "cell_type": "code",
   "execution_count": 0,
   "metadata": {
    "application/vnd.databricks.v1+cell": {
     "cellMetadata": {
      "byteLimit": 2048000,
      "rowLimit": 10000
     },
     "inputWidgets": {},
     "nuid": "be424cca-cd37-4129-a7ac-481ab5b3a144",
     "showTitle": false,
     "title": ""
    }
   },
   "outputs": [
    {
     "output_type": "display_data",
     "data": {
      "text/html": [
       "<style scoped>\n",
       "  .table-result-container {\n",
       "    max-height: 300px;\n",
       "    overflow: auto;\n",
       "  }\n",
       "  table, th, td {\n",
       "    border: 1px solid black;\n",
       "    border-collapse: collapse;\n",
       "  }\n",
       "  th, td {\n",
       "    padding: 5px;\n",
       "  }\n",
       "  th {\n",
       "    text-align: left;\n",
       "  }\n",
       "</style><div class='table-result-container'><table class='table-result'><thead style='background-color: white'><tr><th>date</th><th>user</th><th>text</th><th>sentiment</th><th>source_file</th><th>processing_time</th></tr></thead><tbody><tr><td>Fri May 01 20:10:02 PDT 2009</td><td>betharooni</td><td>@ginalouann he's asleep, but I'm gonna have to get him up for work soon. he works third shift. </td><td>negative</td><td>s3a://voc-75-databricks-data/voc_volume/100079.json</td><td>2024-05-11T22:39:33.743+0000</td></tr><tr><td>Fri May 01 20:08:51 PDT 2009</td><td>junoaggy</td><td>swine flu attacks HK so i can't go  screw you swines!</td><td>negative</td><td>s3a://voc-75-databricks-data/voc_volume/100030.json</td><td>2024-05-12T04:04:23.575+0000</td></tr><tr><td>Fri May 01 20:09:25 PDT 2009</td><td>picgirl80</td><td>aww, man...oh, well - had to work friday anyway </td><td>negative</td><td>s3a://voc-75-databricks-data/voc_volume/100056.json</td><td>2024-05-12T04:05:48.676+0000</td></tr><tr><td>Fri May 01 20:09:26 PDT 2009</td><td>JasJazzy</td><td>Swine Flu  Why oh why did you come to canada????</td><td>negative</td><td>s3a://voc-75-databricks-data/voc_volume/100059.json</td><td>2024-05-11T22:38:22.501+0000</td></tr><tr><td>Fri May 01 20:09:25 PDT 2009</td><td>champagne_larn</td><td>oh shit I HAVE NOTHING TO WEAR!!! </td><td>negative</td><td>s3a://voc-75-databricks-data/voc_volume/100057.json</td><td>2024-05-12T04:05:50.572+0000</td></tr></tbody></table></div>"
      ]
     },
     "metadata": {
      "application/vnd.databricks.v1+output": {
       "addedWidgets": {},
       "aggData": [],
       "aggError": "",
       "aggOverflow": false,
       "aggSchema": [],
       "aggSeriesLimitReached": false,
       "aggType": "",
       "arguments": {},
       "columnCustomDisplayInfos": {},
       "data": [
        [
         "Fri May 01 20:10:02 PDT 2009",
         "betharooni",
         "@ginalouann he's asleep, but I'm gonna have to get him up for work soon. he works third shift. ",
         "negative",
         "s3a://voc-75-databricks-data/voc_volume/100079.json",
         "2024-05-11T22:39:33.743+0000"
        ],
        [
         "Fri May 01 20:08:51 PDT 2009",
         "junoaggy",
         "swine flu attacks HK so i can't go  screw you swines!",
         "negative",
         "s3a://voc-75-databricks-data/voc_volume/100030.json",
         "2024-05-12T04:04:23.575+0000"
        ],
        [
         "Fri May 01 20:09:25 PDT 2009",
         "picgirl80",
         "aww, man...oh, well - had to work friday anyway ",
         "negative",
         "s3a://voc-75-databricks-data/voc_volume/100056.json",
         "2024-05-12T04:05:48.676+0000"
        ],
        [
         "Fri May 01 20:09:26 PDT 2009",
         "JasJazzy",
         "Swine Flu  Why oh why did you come to canada????",
         "negative",
         "s3a://voc-75-databricks-data/voc_volume/100059.json",
         "2024-05-11T22:38:22.501+0000"
        ],
        [
         "Fri May 01 20:09:25 PDT 2009",
         "champagne_larn",
         "oh shit I HAVE NOTHING TO WEAR!!! ",
         "negative",
         "s3a://voc-75-databricks-data/voc_volume/100057.json",
         "2024-05-12T04:05:50.572+0000"
        ]
       ],
       "datasetInfos": [],
       "dbfsResultPath": null,
       "isJsonSchema": true,
       "metadata": {},
       "overflow": false,
       "plotOptions": {
        "customPlotOptions": {},
        "displayType": "table",
        "pivotAggregation": null,
        "pivotColumns": null,
        "xColumns": null,
        "yColumns": null
       },
       "removedWidgets": [],
       "schema": [
        {
         "metadata": "{}",
         "name": "date",
         "type": "\"string\""
        },
        {
         "metadata": "{}",
         "name": "user",
         "type": "\"string\""
        },
        {
         "metadata": "{}",
         "name": "text",
         "type": "\"string\""
        },
        {
         "metadata": "{}",
         "name": "sentiment",
         "type": "\"string\""
        },
        {
         "metadata": "{}",
         "name": "source_file",
         "type": "\"string\""
        },
        {
         "metadata": "{}",
         "name": "processing_time",
         "type": "\"timestamp\""
        }
       ],
       "type": "table"
      }
     },
     "output_type": "display_data"
    }
   ],
   "source": [
    "display(bronze_df.head(5))"
   ]
  },
  {
   "cell_type": "code",
   "execution_count": 0,
   "metadata": {
    "application/vnd.databricks.v1+cell": {
     "cellMetadata": {
      "byteLimit": 2048000,
      "rowLimit": 10000
     },
     "inputWidgets": {},
     "nuid": "6c7301e9-eb11-43d1-b8dc-6c5fca10027f",
     "showTitle": false,
     "title": ""
    }
   },
   "outputs": [
    {
     "output_type": "stream",
     "name": "stdout",
     "output_type": "stream",
     "text": [
      "+----+----+----+---------+-----------+\n|date|user|text|sentiment|source_file|\n+----+----+----+---------+-----------+\n|   0|   0|   0|        0|          0|\n+----+----+----+---------+-----------+\n\n"
     ]
    }
   ],
   "source": [
    "numeric_cols =[f.name for f in bronze_df.schema.fields if (f.dataType.simpleString() in ('double', 'float'))]\n",
    "exprs = [count(when(isnan(c) | col(c).isNull(), c)).alias(c) for c in numeric_cols]\n",
    "non_numeric_cols = [f.name for f in bronze_df.schema.fields if (f.dataType.simpleString() not in ('double', 'float', 'timestamp')) and (f.name != 'processing_time')]\n",
    "exprs+=[count(when(col(c).isNull(),c)).alias(c) for c in non_numeric_cols]\n",
    "timestamp_cols = [f.name for f in bronze_df.schema.fields if f.dataType.simpleString() == 'timestamp' and f.name != 'processing_time']\n",
    "exprs+=[count(when(col(c).isNull(),c)).alias(c) for c in timestamp_cols]\n",
    "\n",
    "bronze_df.select(exprs).show()"
   ]
  },
  {
   "cell_type": "code",
   "execution_count": 0,
   "metadata": {
    "application/vnd.databricks.v1+cell": {
     "cellMetadata": {
      "byteLimit": 2048000,
      "rowLimit": 10000
     },
     "inputWidgets": {},
     "nuid": "69ff795e-dc63-49ec-ada1-30196d6c1776",
     "showTitle": false,
     "title": ""
    }
   },
   "outputs": [
    {
     "output_type": "stream",
     "name": "stdout",
     "output_type": "stream",
     "text": [
      "+---------------+-----------+\n|           user|tweet_count|\n+---------------+-----------+\n|        jayseto|          4|\n|     RichDodgin|          2|\n|     Babybandit|          2|\n|       gilmore2|          2|\n|     betharooni|          2|\n|     alinick123|          2|\n|    cindyrella7|          2|\n|    sarahmorris|          2|\n|      chrismann|          2|\n|     MissWillow|          2|\n|     ginigraham|          2|\n|   SuperMaryAnn|          2|\n|   peachmailbox|          2|\n|   Arual_Sinned|          2|\n|    willbreteau|          2|\n|concertchristal|          2|\n|xxNotLikeThatxx|          2|\n|gogogadgetrobyn|          2|\n|         aruntp|          2|\n|   crazyXmallie|          2|\n+---------------+-----------+\nonly showing top 20 rows\n\n"
     ]
    }
   ],
   "source": [
    "from pyspark.sql.functions import count, desc\n",
    "\n",
    "# Perform the count and sort operation\n",
    "tweet_counts = bronze_df.groupBy(\"user\").agg(count(\"user\").alias(\"tweet_count\")).orderBy(desc(\"tweet_count\"))\n",
    "# Show the result\n",
    "tweet_counts.show()"
   ]
  },
  {
   "cell_type": "code",
   "execution_count": 0,
   "metadata": {
    "application/vnd.databricks.v1+cell": {
     "cellMetadata": {
      "byteLimit": 2048000,
      "rowLimit": 10000
     },
     "inputWidgets": {},
     "nuid": "64a0ad4e-0cac-40fe-bc7c-15930eb37ad2",
     "showTitle": false,
     "title": ""
    }
   },
   "outputs": [
    {
     "output_type": "stream",
     "name": "stdout",
     "output_type": "stream",
     "text": [
      "Number of tweets with at least one mention (@):  78\nNumber of tweets with no mentions (@):  116\n"
     ]
    }
   ],
   "source": [
    "\n",
    "from pyspark.sql.functions import col, when\n",
    "import re\n",
    "\n",
    "# Check for tweets with at least one mention (@)\n",
    "tweets_with_mention = bronze_df.filter(col(\"text\").rlike(r'@\\w+'))\n",
    "\n",
    "# Check for tweets with no mentions\n",
    "tweets_without_mention = bronze_df.filter(~col(\"text\").rlike(r'@\\w+'))\n",
    "\n",
    "# Count the number of tweets with at least one mention\n",
    "tweets_with_mention_count = tweets_with_mention.count()\n",
    "\n",
    "# Count the number of tweets with no mentions\n",
    "tweets_without_mention_count = tweets_without_mention.count()\n",
    "\n",
    "# Print the results\n",
    "print(\"Number of tweets with at least one mention (@): \", tweets_with_mention_count)\n",
    "print(\"Number of tweets with no mentions (@): \", tweets_without_mention_count)"
   ]
  },
  {
   "cell_type": "code",
   "execution_count": 0,
   "metadata": {
    "application/vnd.databricks.v1+cell": {
     "cellMetadata": {
      "byteLimit": 2048000,
      "rowLimit": 10000
     },
     "inputWidgets": {},
     "nuid": "6fc84f2b-0ae0-410d-b578-f044906ad262",
     "showTitle": false,
     "title": ""
    }
   },
   "outputs": [
    {
     "output_type": "display_data",
     "data": {
      "image/png": "[encoded data removed]"
     },
     "metadata": {
      "application/vnd.databricks.v1+output": {
       "addedWidgets": {},
       "arguments": {},
       "data": "data:image/png;base64,iVBORw0KGgoAAAANSUhEUgAAA1gAAAGoCAYAAABbkkSYAAAAOXRFWHRTb2Z0d2FyZQBNYXRwbG90bGliIHZlcnNpb24zLjQuMywgaHR0cHM6Ly9tYXRwbG90bGliLm9yZy/MnkTPAAAACXBIWXMAAAsTAAALEwEAmpwYAABwyklEQVR4nO3dd9gcZdXH8e9JIRACBEgICQFC7z2E3mvoHaQ3A0gvIoKAFCtSDCAd6UWpoUgTQREpoTf1BRQBURAUsYAC5/3jnGUnaxIeYOfe5yG/z3XtlZ3Z5dnD7OzMfe5q7o6IiIiIiIh8dr06HYCIiIiIiMjnhRIsERERERGRNlGCJSIiIiIi0iZKsERERERERNpECZaIiIiIiEibKMESERERERFpEyVYIiIiIiIibaIES0REPjEz+0fl8aGZ/buyvUObPuN7ZvZ/ZvaOmf3azHZueX1JM3vEzP6V/y45ib/zTCW2D8zs3cr2ke2IdTL/D/eY2Z51foaIiHQvfTodgIiI9DzuPqDx3Mx+D+zp7ne1+WP+CWwM/BZYFrjNzJ539/vNbCrgRuA04AfAXsCNZjafu/+nJdZFKrHeA1zm7ue3OdZamFlvd/+g03GIiEjXqQVLRETaxsz6mdlpZvbHfJxmZv3ytdXN7BUzO9LM/mJmv59ca5e7H+vuv3b3D939QeAXwAr58upEJeFp7v6eu48FDFjzE8T6kpktk893MDM3s0Vyew8zuyGf9zKzI8zsBTN708x+ZGYzVf7O8mZ2v5n9zcyeMLPVc/83gFWAM7K17Izcv6CZ3Wlmb5nZb8xsm8rfusjMzjKzW83sn8AaZraBmT2bLXmvmtlhXf1/FBGR8pRgiYhIOx0FLA8sCSwBjAK+Vnl9VmAQMBuwC3CumS3wcX/UzKYhWrGeyV2LAE+6u1fe9mTu76p7iUQNYDXgRWDVyva9+Xx/YLPcNwz4K3BmxjUbcAtwIjATcBhwrZkNdvejiKRwP3cf4O77mdm0wJ3AFcAswHbAD8xs4Upc2wPfAKYD7gMuAPZy9+mARYG7P8H/o4iIFKYES0RE2mkH4Hh3f93d3wCOA3Zqec/R2ep0L5GcbNP6RybibOAJ4PbcHgC83fKet4mkpKvuJZImiJamb1W2qwnW3sBR7v6Ku78HfB3Yysz6ADsCt7r7rdnSdicwHthgEp+5EfB7d/+hu7/v7o8B1wJbV95zo7v/Mv/eu8B/gYXNbHp3/6u7P/oJ/h9FRKQwJVgiItJOw4CXKtsv5b6Gv7r7Pyfz+v8ws5OIlpttKi1W/wCmb3nr9MA7nyDWe4FVzGwo0Bv4EbCSmY0AZgAez/fNCVyfXQD/BjwHfAAMyde2bryWr68MDJ3EZ84JLNfy/h2Ilr2Gl1v+my2JhO0lM7vXzFZARES6LSVYIiLSTn8kkoiGOXJfw4zZTW5Sr0/AzI4DRgPruvvfKy89AyxuZlbZtzjNLoQfy92fB/5FdAH8ef79PwFjgPvc/cN868vAaHcfWHlM7e6v5muXtrw2rbt/u/ExLR/7MnBvy/sHuPs+1dBa4nzY3TcluhTeQCSCIiLSTSnBEhGRdroS+JqZDTazQcAxwGUt7znOzKYys1WILnM/ntgfMrOvEuOR1nb3N1tevodoRTogJ9bYL/d/0vFJ9wL70ewOeE/LNkT3xG+Y2ZwZ12Az2zRfuwzY2MzWM7PeZjZ1TuYxPF//MzB35W/dDMxvZjuZWd98LGtmC00suDxOO5jZDO7+X+DvwIcTe6+IiHQPSrBERKSdTiTGID0JPAU8mvsa/kRMEvFH4HJgb3f/9ST+1jeJFq7nW9etyqnYNwN2Bv4G7A5s1jpFexfcS4zb+vkktgG+D4wD7jCzd4AHgOUyjpeBTYEjgTeIFqov07y/fp8Yr/VXMxvr7u8A6xKTW/wxj8d3gH6TiXEn4Pdm9ndiPFhb1hkTEZF62IQTMImIiNQjpy+/zN2Hf8xbRUREeiy1YImIiIiIiLSJEiwREREREZE2URdBERERERGRNlELloiIiIiISJv06XQAn9SgQYN8xIgRnQ5DRERERESmYI888shf3H1w6/4el2CNGDGC8ePHdzoMERERERGZgpnZSxPbry6CIiIiIiIibaIES0REREREpE2UYImIiIiIiLSJEiwREREREZE2UYIlIiIiIiLSJkqwRERERERE2kQJloiIiIiISJsowRIREREREWkTJVgiIiIiIiJtogRLRERERESkTWpPsMyst5k9ZmY3T+S1fmZ2tZk9b2YPmtmIuuMRERERERGpS4kWrAOB5ybx2h7AX919XuBU4DsF4hEREREREalFrQmWmQ0HNgTOn8RbNgUuzufXAGuZmdUZk4iIiIiISF361Pz3TwMOB6abxOuzAS8DuPv7ZvY2MDPwl+qbzGwMMAZgjjnmqCvWT23EEbcU/8zff3vD4p8pIiIiIiKTV1sLlpltBLzu7o981r/l7ue6+0h3Hzl48OA2RCciIiIiItJ+dXYRXAnYxMx+D1wFrGlml7W851VgdgAz6wPMALxZY0wiIiIiIiK1qS3Bcvevuvtwdx8BbAfc7e47trxtHLBLPt8q3+N1xSQiIiIiIlKnusdg/Q8zOx4Y7+7jgAuAS83seeAtIhETERERERHpkYokWO5+D3BPPj+msv9dYOsSMYiIiIiIiNStxDpYIiIiIiIiUwQlWCIiIiIiIm2iBEtERERERKRNlGCJiIiIiIi0iRIsERERERGRNlGCJSIiIiIi0iZKsERERERERNpECZaIiIiIiEibKMESERERERFpEyVYIiIiIiIibaIES0REREREpE2UYImIiIiIiLSJEiwREREREZE2UYIlIiIiIiLSJkqwRERERERE2kQJloiIiIiISJsowRIREREREWkTJVgiIiIiIiJtogRLRERERESkTZRgiYiIiIiItIkSLBERERERkTZRgiUiIiIiItImSrBERERERETaRAmWiIiIiIhImyjBEhERERERaRMlWCIiIiIiIm2iBEtERERERKRNakuwzGxqM3vIzJ4ws2fM7LiJvGdXM3vDzB7Px551xSMiIiIiIlK3PjX+7feANd39H2bWF7jPzH7i7g+0vO9qd9+vxjhERERERESKqC3BcncH/pGbffPhdX2eiIiIiIhIp9U6BsvMepvZ48DrwJ3u/uBE3ralmT1pZteY2eyT+DtjzGy8mY1/44036gxZRERERETkU6s1wXL3D9x9SWA4MMrMFm15y03ACHdfHLgTuHgSf+dcdx/p7iMHDx5cZ8giIiIiIiKfWpFZBN39b8DPgPVb9r/p7u/l5vnAMiXiERERERERqUOdswgONrOB+XwaYB3g1y3vGVrZ3AR4rq54RERERERE6lbnLIJDgYvNrDeRyP3I3W82s+OB8e4+DjjAzDYB3gfeAnatMR4REREREZFa1TmL4JPAUhPZf0zl+VeBr9YVg4iIiIiISElFxmCJiIiIiIhMCZRgiYiIiIiItIkSLBERERERkTZRgiUiIiIiItImSrBERERERETaRAmWiIiIiIhImyjBEhERERERaRMlWCIiIiIiIm2iBEtERERERKRNlGCJiIiIiIi0iRIsERERERGRNlGCJSIiIiIi0iZKsERERERERNpECZaIiIiIiEibKMESERERERFpEyVYIiIiIiIibaIES0REREREpE2UYImIiIiIiLSJEiwREREREZE2UYIlIiIiIiLSJkqwRERERERE2kQJloiIiIiISJsowRIREREREWkTJVgiIiIiIiJtogRLRERERESkTZRgiYiIiIiItIkSLBERERERkTapLcEys6nN7CEze8LMnjGz4ybynn5mdrWZPW9mD5rZiLriERERERERqVudLVjvAWu6+xLAksD6ZrZ8y3v2AP7q7vMCpwLfqTEeERERERGRWtWWYHn4R272zYe3vG1T4OJ8fg2wlplZXTGJiIiIiIjUqdYxWGbW28weB14H7nT3B1veMhvwMoC7vw+8Dcw8kb8zxszGm9n4N954o86QRUREREREPrVaEyx3/8DdlwSGA6PMbNFP+XfOdfeR7j5y8ODBbY1RRERERESkXYrMIujufwN+Bqzf8tKrwOwAZtYHmAF4s0RMIiIiIiIi7VbnLIKDzWxgPp8GWAf4dcvbxgG75POtgLvdvXWcloiIiIiISI/Qp8a/PRS42Mx6E4ncj9z9ZjM7Hhjv7uOAC4BLzex54C1guxrjERERERERqVVtCZa7PwksNZH9x1SevwtsXVcMIiIiIiIiJRUZgyUiIiIiIjIlUIIlIiIiIiLSJkqwRERERERE2kQJloiIiIiISJsowRIREREREWkTJVgiIiIiIiJtogRLRERERESkTZRgiYiIiIiItIkSLBERERERkTZRgiUiIiIiItImSrBERERERETaRAmWiIiIiIhImyjBEhERERERaRMlWCIiIiIiIm2iBEtERERERKRNlGCJiIiIiIi0iRIsERERERGRNlGCJSIiIiIi0iZKsERERERERNpECZaIiIiIiEibKMESERERERFpEyVYIiIiIiIibaIES0REREREpE2UYImIiIiIiLSJEiwREREREZE2UYIlIiIiIiLSJkqwRERERERE2qS2BMvMZjezn5nZs2b2jJkdOJH3rG5mb5vZ4/k4pq54RERERERE6tanxr/9PnCouz9qZtMBj5jZne7+bMv7fuHuG9UYh4iIiIiISBG1tWC5+2vu/mg+fwd4Dpitrs8TERERERHptI9NsMysX1f2fczfGAEsBTw4kZdXMLMnzOwnZrbIJP77MWY23szGv/HGG5/ko0VERERERIrpSgvWr7q4b6LMbABwLXCQu/+95eVHgTndfQngdOCGif0Ndz/X3Ue6+8jBgwd39aNFRERERESKmuQYLDOblejSN42ZLQVYvjQ90L8rf9zM+hLJ1eXufl3r69WEy91vNbMfmNkgd//LJ/h/EBERERER6RYmN8nFesCuwHDglMr+d4AjP+4Pm5kBFwDPufspk3jPrMCf3d3NbBTRovZm10IXERERERHpXiaZYLn7xcDFZralu1/7Kf72SsBOwFNm9njuOxKYI//+2cBWwD5m9j7wb2A7d/dP8VkiIiIiIiId15Vp2m82s+2BEdX3u/vxk/uP3P0+mt0KJ/WeM4AzuhCDiIiIiIhIt9eVBOtG4G3gEeC9esMRERERERHpubqSYA139/Vrj0RERERERKSH68o07feb2WK1RyIiIiIiItLDdaUFa2VgVzP7HdFF0AB398VrjUxERERERKSH6UqCNbr2KERERERERD4HupJgadp0ERERERGRLuhKgnULkWQZMDUwF/AbYJEa4xIREREREelxPjbBcvcJJrgws6WBL9UWkYiIiIiISA/VlVkEJ+DujwLL1RCLiIiIiIhIj/axLVhmdkhlsxewNPDH2iISERERERHpoboyBmu6yvP3iTFZ19YTjoiIiIiISM/VlTFYxwGY2YDc/kfdQYmIiIiIiPREHzsGy8wWNbPHgGeAZ8zsETNbtP7QREREREREepauTHJxLnCIu8/p7nMCh+Y+ERERERERqehKgjWtu/+sseHu9wDT1haRiIiIiIhID9WVSS5eNLOjgUtze0fgxfpCEhERERER6Zm60oK1OzAYuI6YPXBQ7hMREREREZGKSbZgmdnUwHTu/gZwQGX/LMC/C8QmIiIiIiLSo0yuBWsssMpE9q8EnFpPOCIiIiIiIj3X5BKsZdz9utad7n49sGp9IYmIiIiIiPRMk0uw+n/K/05ERERERGSKNLlE6XUzG9W608yWBd6oLyQREREREZGeaXLTtH8Z+JGZXQQ8kvtGAjsD29Ucl4iIiIiISI8zyRYsd38IGAUYsGs+DFjO3R8sEZyIiIiIiEhPMtmFht39deDYQrGIiIiIiIj0aJqsQkREREREpE2UYImIiIiIiLTJxyZYZrZ1V/ZN5D2zm9nPzOxZM3vGzA6cyHvMzMaa2fNm9qSZLd310EVERERERLqXrrRgfbWL+1q9Dxzq7gsDywP7mtnCLe8ZDcyXjzHAWV34uyIiIiIiIt3SJCe5MLPRwAbAbGY2tvLS9ETyNFnu/hrwWj5/x8yeA2YDnq28bVPgEnd34AEzG2hmQ/O/FRERERER6VEmN4vgH4HxwCY018ECeAc4+JN8iJmNAJYCWqd3nw14ubL9Su5TgiUiIiIiIj3OJBMsd38CeMLMrsj3zeHuv/mkH2BmA4BrgYPc/e+fJkgzG0N0IWSOOeb4NH9iijPiiFuKf+bvv73hZF9XTEExdY1i6hrF1DWKqWsUU9f0tJg6EQ8opq5STF3zcb+77qQrY7DWBx4HbgMwsyXNbFxX/riZ9SWSq8vd/bqJvOVVYPbK9vDcNwF3P9fdR7r7yMGDB3flo0VERERERIrrSoL1dWAU8DcAd38cmOvj/iMzM+AC4Dl3P2USbxsH7JyzCS4PvK3xVyIiIiIi0lNNbgxWw3/d/e3Ilz7iXfjvVgJ2Ap4ys8dz35HAHADufjZwKzGRxvPAv4Dduha2iIiIiIhI99OVBOsZM9se6G1m8wEHAPd/3H/k7vcB9jHvcWDfrgQqIiIiIiLS3XWli+D+wCLAe8AVwNvAQTXGJCIiIiIi0iN9bAuWu/8LOMrMvpHPRUREREREZCI+tgXLzFY0s2eBX+f2Emb2g9ojExERERER6WG60kXwVGA94E34aH2sVesMSkREREREpCfqSoKFu7/csuuDGmIRERERERHp0boyi+DLZrYi4Llw8IHAc/WGJSIiIiIi0vN0pQVrb2Iq9dmAV4El0dTqIiIiIiIi/6MrLVj/cPcdao9ERERERESkh+tKgvW0mf0Z+EU+7nP3t+sNS0REREREpOf52C6C7j4v8AXgKWBD4Akze7zmuERERERERHqcj23BMrPhwErAKsASwDPAfTXHJSIiIiIi0uN0pYvgH4CHgW+6+941xyMiIiIiItJjTbKLoJk1kq+lgEuA7c3sV2Z2iZntUSQ6ERERERGRHmRyLVgPAUu7+xNm9gLwAtFNcEdgNeCCAvGJiIiIiIj0GF0ZgzUe6AfcD/wcWNXdX6o7MBERERERkZ5mcgnWLGZ2CHA18GHuGwJsaWa4+ym1RyciIiIiItKDTC7B6g0MAKxQLCIiIiIiIj3a5BKs19z9+GKRiIiIiIiI9HCTW2hYLVciIiIiIiKfwOQSrLWKRSEiIiIiIvI5MMkEy93fKhmIiIiIiIhITze5FiwRERERERH5BJRgiYiIiIiItIkSLBERERERkTZRgiUiIiIiItImSrBERERERETaRAmWiIiIiIhImyjBEhERERERaZPaEiwzu9DMXjezpyfx+upm9raZPZ6PY+qKRUREREREpIQ+Nf7ti4AzgEsm855fuPtGNcYgIiIiIiJSTG0tWO7+c+Ctuv6+iIiIiIhId9PpMVgrmNkTZvYTM1tkUm8yszFmNt7Mxr/xxhsl4xMREREREemyTiZYjwJzuvsSwOnADZN6o7uf6+4j3X3k4MGDS8UnIiIiIiLyiXQswXL3v7v7P/L5rUBfMxvUqXhEREREREQ+q44lWGY2q5lZPh+VsbzZqXhEREREREQ+q9pmETSzK4HVgUFm9gpwLNAXwN3PBrYC9jGz94F/A9u5u9cVj4iIiIiISN1qS7Dc/Qsf8/oZxDTuIiIiIiIinwudnkVQRERERETkc0MJloiIiIiISJsowRIREREREWkTJVgiIiIiIiJtogRLRERERESkTZRgiYiIiIiItIkSLBERERERkTZRgiUiIiIiItImSrBERERERETaRAmWiIiIiIhImyjBEhERERERaRMlWCIiIiIiIm2iBEtERERERKRNlGCJiIiIiIi0iRIsERERERGRNlGCJSIiIiIi0iZKsERERERERNpECZaIiIiIiEibKMESERERERFpEyVYIiIiIiIibaIES0REREREpE2UYImIiIiIiLSJEiwREREREZE2UYIlIiIiIiLSJkqwRERERERE2kQJloiIiIiISJsowRIREREREWmT2hIsM7vQzF43s6cn8bqZ2Vgze97MnjSzpeuKRUREREREpIQ6W7AuAtafzOujgfnyMQY4q8ZYREREREREaldbguXuPwfemsxbNgUu8fAAMNDMhtYVj4iIiIiISN06OQZrNuDlyvYrue9/mNkYMxtvZuPfeOONIsGJiIiIiIh8Uj1ikgt3P9fdR7r7yMGDB3c6HBERERERkYnqZIL1KjB7ZXt47hMREREREemROplgjQN2ztkElwfedvfXOhiPiIiIiIjIZ9Knrj9sZlcCqwODzOwV4FigL4C7nw3cCmwAPA/8C9itrlhERERERERKqC3BcvcvfMzrDuxb1+eLiIiIiIiU1iMmuRAREREREekJlGCJiIiIiIi0iRIsERERERGRNlGCJSIiIiIi0iZKsERERERERNpECZaIiIiIiEibKMESERERERFpEyVYIiIiIiIibaIES0REREREpE2UYImIiIiIiLSJEiwREREREZE2UYIlIiIiIiLSJkqwRERERERE2kQJloiIiIiISJsowRIREREREWkTJVgiIiIiIiJtogRLRERERESkTZRgiYiIiIiItIkSLBERERERkTZRgiUiIiIiItImSrBERERERETaRAmWiIiIiIhImyjBEhERERERaRMlWCIiIiIiIm2iBEtERERERKRNlGCJiIiIiIi0iRIsERERERGRNqk1wTKz9c3sN2b2vJkdMZHXdzWzN8zs8XzsWWc8IiIiIiIidepT1x82s97AmcA6wCvAw2Y2zt2fbXnr1e6+X11xiIiIiIiIlFJnC9Yo4Hl3f9Hd/wNcBWxa4+eJiIiIiIh0VJ0J1mzAy5XtV3Jfqy3N7Ekzu8bMZp/YHzKzMWY23szGv/HGG3XEKiIiIiIi8pl1epKLm4AR7r44cCdw8cTe5O7nuvtIdx85ePDgogGKiIiIiIh0VZ0J1qtAtUVqeO77iLu/6e7v5eb5wDI1xiMiIiIiIlKrOhOsh4H5zGwuM5sK2A4YV32DmQ2tbG4CPFdjPCIiIiIiIrWqbRZBd3/fzPYDbgd6Axe6+zNmdjww3t3HAQeY2SbA+8BbwK51xSMiIiIiIlK32hIsAHe/Fbi1Zd8xledfBb5aZwwiIiIiIiKldHqSCxERERERkc8NJVgiIiIiIiJtogRLRERERESkTZRgiYiIiIiItIkSLBERERERkTZRgiUiIiIiItImSrBERERERETaRAmWiIiIiIhImyjBEhERERERaRMlWCIiIiIiIm2iBEtERERERKRNlGCJiIiIiIi0iRIsERERERGRNlGCJSIiIiIi0iZKsERERERERNpECZaIiIiIiEibKMESERERERFpEyVYIiIiIiIibaIES0REREREpE2UYImIiIiIiLSJEiwREREREZE2UYIlIiIiIiLSJkqwRERERERE2kQJloiIiIiISJsowRIREREREWkTJVgiIiIiIiJtogRLRERERESkTWpNsMxsfTP7jZk9b2ZHTOT1fmZ2db7+oJmNqDMeERERERGROtWWYJlZb+BMYDSwMPAFM1u45W17AH9193mBU4Hv1BWPiIiIiIhI3epswRoFPO/uL7r7f4CrgE1b3rMpcHE+vwZYy8ysxphERERERERqY+5ezx822wpY3933zO2dgOXcfb/Ke57O97yS2y/ke/7S8rfGAGNycwHgN7UE3RmDgL987LvKUkxdo5g+XneLBxRTVymmrlFMXaOYukYxdY1i6hrFVL853X1w684+nYjkk3L3c4FzOx1HHcxsvLuP7HQcVYqpaxTTx+tu8YBi6irF1DWKqWsUU9copq5RTF2jmDqnzi6CrwKzV7aH576JvsfM+gAzAG/WGJOIiIiIiEht6kywHgbmM7O5zGwqYDtgXMt7xgG75POtgLu9rj6LIiIiIiIiNauti6C7v29m+wG3A72BC939GTM7Hhjv7uOAC4BLzex54C0iCZvSdMeuj4qpaxTTx+tu8YBi6irF1DWKqWsUU9copq5RTF2jmDqktkkuREREREREpjS1LjQsIiIiIiIyJVGCJSIiIiIi0iZKsETkc0WLlYuIfHK6doq0jxKsKYiZLdLpGCbHzHQ+ToJufJ9I/04H0N2Z2TAzWyyfd5tzqxFL678in5SZ9c5/dV+ZDDNb2Mz2AXB312+uZ+jO31N3jq0kXXhq0p1OMEvAOWZ2eafjaTCzBc3saDM72cwGuvuHuhn+LzObGtgpny9jZnt3OCTMbEUz29fM1jCzmTsdD3x0ns8NjDOzvrmvo+dTd7oONJjZgsATwFchClWdjaipEssyLdvFdcfvrjvrTscrr0k3m9mc3fG+YmajzGyabhBHL2AxYDkzGwPdK8nqbhUt3SUOaF4bzWwlMxvR4XCACY5Pt/q9dYoOQg3MzPIitaKZHWZmG5nZAh0MqVf+GNcEhpjZ+R2MBQAzWwi4AvgnMBNwv5lN5+4fdjayYGY7mtkXukEcfdz9XWAOM3sTuBC4t8MxrQ+cB8wDHAEs18l4Gjy8CGwBrGNmi3aycNW4DuTzg8zsgE7E0RLTQsQUud8DFjCzjTscEtBMhM2sj5lNC1xlZrt8zH9WZzzV7252M5u++lqn4qrEsLiZzW1mQ7tBLI3j0Z1ajv9KVCJcYmbDukuSZWaNpXFOBDbrYCgA5P32VuBmYOlG5V13SLLMbFXgJDPr2+l4Kp9d29JGXVVJOnub2RDgeGCGzkY1Qbl3beB0M9vNzFbvcFgd1fELzudRnmTrA5cQycP2wEGdONnMrJe7f5CbKwN7EAtAdyzJypq7I4EL3P0Ud98N+BXQscLeRC7ewwCfxGtFmNmswLG5eQ7wGjDQ3Z/L16fqQExLAicBY9z9EOAhYBEzm8XMZiodTyWuRist7v42kfT9yswW7FThqlJAP5BYSP2O0jFUmdkg4GLgUnf/DnA1UXv9UXeqTqlUrAx3938CXwLmN7N5SseS18zGd3cwsZbjaWZ2RMbakcJepWC1BnAb8G3gWDNbsXQsVXk8RhMtRoeZ2fKdjCcLeh8ClxIVeJd2oyRrxvz3KeC/0JlW9ur56+7vEOfTXXQwyapUsvTK5/2A6YCjOp1kVc7xa81sbzMb2Yk4GrHk0w/d/c/E9WnuxuuduJa3JFffB24BdgM2s+xNMiXq9MXmc6Xlx78mcKC7HwkcDTwJrGFm/UpeJBoFFzPbkLghvwysRWeTrA+IRaZ/WLkYvAXM36F4qoXhBc1sNuBtYIVqTXZJ2XL1J+AiM5sdmJVIkG80s19btPb9x8zmLBzaM8Ae7v7LrD3fHVgR+A7wdetAV4XGd5QX+BkB3P1YombvF2a2UMnClZmNzJsxZtaf+N52A/5hZjuZ2WkdukH3AvZy9/Ny+wlgVzObv1IJU1T1WpiJwotmticwPRHviHytWKGhcs1cHlgI2I5ITEeZ2dfzPcULe/mZqwCrAxsCXwaeBfbuZJKVv/kDiNb14cDmZrZep+LJ47QxUcF5L/Av4BozG97hFu25iQL6CcAiwE4W46IHlIypek8zs82z4ncBd7+GKKwvY5XugqXiqlSyzJnPfw5cSVRSH533xE5VbiwFHAj8DFgU2DYrOkrGUL1Wrg08bGa3ARsBW5nZrGY2HVCs4tWidb+R/PYGlgJ2Bt4ApgW+5+7/NbPBpWLqTpRgtYGZDTCzOfIkW85izMxUxI0Zd38BeBxYAZiqxEXLzJa25iDfZYkCwvfd/UN3fx9YF5jLzK6qO5ZW7v4f4AF3/xfQuKg+DLxXib1I4tBy0VqAKJT/lCjEbA3sY2aL5jEswsxmAb5mZkvnuXM00ZI1jbsfQBQaHrJoJb3aCtTym1l/M5vB3f/r7g/l7qWAE919c+BUYCBQNOFrKSwcQtRW32lmM7r7ScB3gZ9adhcsEE9votb18bwm/At4F/gGcDZRiTCcDnQPcvfX3f0xS+5+O3ANcHgmgsVVvrupiGvk7UTX01mIJOJYi9aHYglg1qAvSdTq/8PdnwQeILp1LWZm363GXiqmfPp1oqD3O3d/ieje9TBwsJmtXDCeRmvaEsDiwP3ufilwGvA3YM2s1OuUjYFvZUvtNsDdwMV5LhXrht6SDLwK7Ef01vh1xjiWSEyvs0JjsqrdlokkfSnge2a2hbtfS5xTa5jZbiXiacjf3VzACxnLe8Tv7mZgFHBcI8kqHNecwI+Bq939VOBM4C/ABma2Tqk4Kt/bcsB9RG+krxPn0tbAwcAvgBMsulmXsB+wcMb3AfB34HziGG3o7q+Y2UbAhiUryboNd9fjMz6IWs7bgKOIGv4FiSbbM4GD8z0LEhf5YTXHYvnv94FZG/uI7kDPAf0r7+1HXLyGFjpOjdgGAbO0vLYLcAxxIX0JWLXwd7g9MFM+HwosAfwG+BZwA3FTHFwoliFEC99xwHy5byxwOdGFCqKw9yNgowLxbEg0+f8c2Gcy7/shsEPJ763y2Rvk72sEcBFwJ1ETCpGcPk9UeliNMVjl+SAiUd+Q6B+/QSWerYBx1d9izcfGWp8TFT0QrY+XlLoGTCK+5YlEbyAxmcv1wOA8x98DTgd6lzpGlX0HAr8FFs7t3kTX08uBQSW/O6JypbHvF8Ctle35iMLVEoW/tzWBPxNd8T4EFsz9s+e165RSx6n1mOW16OjK97YMcW++j7jv1XYdmMh3t1reR/YEFqnEOJbomdAfGFn4GI0iyiy9gG8C9xCtM9vk6xuXuCZM4ne3BdGjZdPKviuJCqoi9+DK5y6c95QriNbiqXP//HlfOY0sNxSKZwRwHTGuvrFvESIpnpZIlms/Rnl97p/PhwM/AaYmyr3jgCMr59mzwHolv7fu8uh4AJ+XR/7Y/kszoZoOGE0UTH8KPA1sUSCOGSrPlycKmr1z+2yin/V0HTxOm+bF/BZioP10uX9zIqF5CBhdIA5r+fcqMqnLG/JA4MHGTYYskBaIq/FdbUSM2bkamD33nUkUhufM7Wmr/w81xbMeMV5gTWAlYhzYphN53zZEC8RcHTinRgHXAidU9o3N4zdXbpe8Ce4B7E0kUjcBW1Ve2zuvBYsUiqVxfm9MtDKeBQxpec8dwMUFj4+1bM8EfI1I4FciChA752u7Ns7/EvEAXyBajBvJwkFEAWHR3O4N9Ct1rPIz1yMShqMq+34OjKtsT1M4pgWIQu8quf1VoltQI4GYA5in5PlEJL8r0CwU/wbYLV9bkUj4li58nNYEfpfn0QX5+9s+X3sEWL31HKwpjhmAOfL5fEShfBiwA9EjYmoi0fo9sHXJ7y2fb0J0N58/tzckuulvS1S+3t563SoQ3wDgZJrlggsyjkZisUCpc7wSUx8iMV4O6JP7ZiMSnFJllEYFxjlkBUp+/jV5zDYjWrF+RbRAblLyGHWnR8cD6MmPlgvEssC+RI3nepX9fYluU/O0/jc1xLN2nvibVPbdTjRvNwru3wfGAwM6cLyWAX5JFKgOJwrkA/K1RYFXKJBctcTUaCG6DNi15bXzaBYgaq/xrHzuennz/VL+e2rl/LmQKNjUXqDKm+4xwOaVfWOAAyrbffMm/RsKJw2V7XmIiTeua3xflWN1Y96Uinx/RKXKT4kKlt5ExcFNwHb5+onAQqXOpfzMDfM3vwRRwfJrYLbK63MAK5f+7ohuLV/Of/sS3ZZPJGpjx1OpLCoU2/ZEd7uLiYR969y/P/AnsiWrcEzLExU9u+S187vAjPnaI8DthePplb+nQ/Pzv0Izwfky0eJY5DrQEtdGwKP5XT0DrEEkVS8RBeNXgA0Kx2R5TBqVBbPmOXY60dpwMpnI1xxH7zweBxKVdLfQbME+sHKeH0p0kZ+z8HHajyiIfxX4A1kRDayf1/RbKdw6W4nte8APK8fxDKIVtPbeB0zYSrUrkdCcQ5TntiMmvIJokT2txPdGlN1mJCqgr8rPnSZfuzZja2zPTbOCulj5qTs9Oh5AT31UbiprEd0hdgGmIQpULxA1DKsBP6j+UGqMZwNi0PqmVAqZ+doNRLebRpJ1ElmbVfA4DQTmImr3dyZqNxqtCwvnxWuh6n9TZzz5fFmi5uVSoqvkrUQBeeaM92BgRMlziihong98MfcNJabVvpxmy1WxAkx+NwMr3+NewLUt7xle6ji1fH8bEcnD8kSB5QRiIpdqklVrrWdLPMsRFRw/ruybjqjR+wVRYCjRNWlOYL983puouV8s47grz6c/UnN35Y+J8QCitfq4vEZel+fRAKI2+/mS8eV1/D6a3YTH5O9wq9zem/K11XPltfug3B5GVARVk6zlC8XS+P03au/75rVgLJWeGcTssOsUPk4zEq2wsxD34ftpFuwGE93zFy0US++W7UOJHhuNnhpzEF3xZqRAJWflexuWv/03yG6Auf/LRKJ8AtHSNmfh724FokJqGqJC8bk8Pl+onGelW4znBVbL5/2IlpkNc7t/Xj9H1RzDjDQrVZcg7i0rERUI9xIVPjcS5ZZvlzhGRBf7sUR315mIVtFrmDDJuproql/0O+uuj44H0JMfRFLzKFErdRdwWu7fmejC8RCV7kE1xrFQXphWatm/GVkLnD+Eu1pvAIWO0zpELezmebP5Jc2xROvn9syFY1qBKMz1z+f7E4Ozbyf6EP8U6Nuh8+pwoqVx5tyeM2+M3yW7Bdb8+YMndZ4QBdFL8vnO1Zt14WO0NzEz57FEsrBjxn0cUUO8QoEYqsnVnkT3n0Py/KkWOmcguujV2tWt8nlLEgnKobk9gCisP0Czm9CLRIGq1nFplZjmplJbT7QqNAoQg4n11E6kWbNe62+v5bvrC2yZv7HDK/u/mAWGzeuMpfJ5/Vq2RxGtsPfQ7LI4hKgsO5XsIlQgrkYhvdHl/Vji3tIrr5unki20Ezu+BeIbSNTs701UZDS6mW3SeF4ghukrz1cgWhwWJ7qRHUUUSqchCu8fVS6W+N7y+SDiXnsa0QV2rcpre+Wxq73ibmLnRZ7TWwJ35fZRxBisDQpdm6rHqR+RdD6V5/nqxP14+8p7SlSYr0Tcy84iynb9Kq/tTLQWTUXcj4uNnyWSvfPyHJqZiSdZ11F4TGF3fXQ8gJ76IFobjidqpNYmupbMXnl9VppJRN39q1cFrqx+FlFAf5to4h6c+65qxFTwOC1EjANbOre/TdQ2rk90LXuaMhM1NI5LX6Lr27PAMrmvd35fl1feP0vdMbXEtUjemKcmWhvOIwb7TkcUjm+nwPgBIgn+M9ES+j99uvP7/A7RN/4ZCtUMV49X3pDvoTkuZnEiWdgsv8cjKTgYmmipvptmC/GhRKvRZq3fc81xzEd2Dya6444HDsvtGYiub4sR08Z/iwJJaH52P6Jl70RiOmjymnBc5T2jya44dR8vJixQDaA5cH1Lojvn7pXXd6XMYP9hRNK7B1l7nvsXzON2auXYzQosWeK7q8SxDtFDYiWiBv8Jmq3shxFdz2YtFMtHkyVV9o0lpmNvJO0rAY9RJmkYQHTb3jZ/d88R99rLiYLntnk9eCgfWxb+7r5EFMj7EGPTTiAq65Yh7sMbUSZpqP7uViPKTY2JuPYEzsnnWxOtM7W3YDNhN7x5iVbQaYnk4SjiXvc60dV0icLf28XAO2QX08r+4cBVhWOxyu9uibyeH0MzybqKGONfZOKmnvLoeAA96VE5wfrlv43Zd+6jORHBhnmjLlGg6pX/LksmWLk9OzGodnj+SI+qO5ZJxNcP2Ifo/75/Zf9X88L1Q2Dd6rEtEFOjC9AVjQtm5Xu9B1iuZDz5WesRU/heS9ScTU0kOOcT3SVKJaHDiALmlUQrzIZUasnzIjuSmDHsMQqMH5jYd0EkxBdnLI2kZgvg/HxeZLBvftY8RLetR8juiET3iYOIgmjt31slljXzu2mMYRhJVPwcntvfz9/cnyk01pEotAwjWmHPIWqFBxOJ3o3Avvm+7fLcKzYBD9Ha+GOi8mKd3Lc50S3vS6XiyM9dkmiJHZsxnUkMXu+V59gJefyKjt/L2BrdtxbMa9VDRCH4l+S4Vcp3LduA6Ap4ETHWam4imbmP6Nr9JAUG19PsMrkjUZN/D1l7T3RdPrJxLuX3WPuYFLLCIJ/vnteARnf8XsQac8cSheI/kol7we/uy8R97XyiW/5SRLJ3U/72HgfmLRDHLDR7Ha1C3Gd/Toyzqo6j34O4lu/eOIY1xdN6n1s6z5/TiXtxo4VoYeJ+M0Od51FrXPkbmyGfz0szyZqJaEW+ng6MU+3Oj44H0FMelZNso7w4TUNMzHAfcES+tjIxycUahWNbkZjdbZ9GrDRnmNmHGExbemraqTMOIyb/uJCWrjYU7oKXF9GH8gb8KFGIGULUwvTNC2vpaWAXyBvNqNw+h0iyGhfTpShUqMqL5Mr5fBea04xXuyfMnDfC4skVUcBr1FAfT9QQNxLmLxJj6XrVeZ5P7G8TLY9XEOOKGknWzHneF5n5imZly3rEWiSNgevL5s24UTgYBixWKKZpiJr77xBjCWcnugYeQ7Ml7VmioPccBVtD87u5m2ghvoGYnKGRmG6bMRUpwFRiOo9I1gcRhapL8t+ZiRaZIyhUgKGl+2F+l4OIGcyWyH03EV2/S/eKWJaoAFqDqOQ8nUiMpyESim1pzvxWy/dH3NemJWbd2yz3bUHch4+pvG8XKpWfBY7NQkSra5+M8SSilWoB4r73mzz3exM9I0p/d4sCN+bzY4Fb8vkM+dp+lOvWOS+RoF9CjGVakKgI2om4D69Yee9mwBU1xlK9z21LVGCskNv7E+WnVYl7zF6UnwBoE6JC40KignxQHqvziDUeZ6YDw0+6+6PjAfSkR16onqQ5s9y0eWH/Sf5An6Rgd7d8vidR2FyHGPi4b+W1HfMGWOSCVfncTfLm+4u82C+QF4WzqXSPqOvmN6m/nxeBVYjaz9uJafXHEd2VjqDgVMdEIjCAqAV6CFi/8tpZRIvWDIVimej3QPT1vpvmAN/l899OzEC5H9FqdmN+dzPk+XRD3iAfpmwBfW+i8HIukZiuTRT09qNZS117t5uJfY/EbHzVJGskMXPgVwrG0pgcZRTRLfh4Irmbg0iyjiKSrv65r0iX3Mb3QiTksxCtWFcSvQ7eI5cg6NA5PhtwWT6fN68BtxOVQUdTYAwflbGwRLfNb+WxmSWP281Ed+ZRRIvNfIWP0ZA8JhfltuV3eAZxLy4yuJ7mWMFtgDfJGQppjsfeJbeXJyYlGDSp62yb41o2P2u+/H1tRHRxuz7P+XWIlsdSk1zNUHk+mGjt+D5RuXlr5TiOptCYwko8RpRNTiJ62TQq62Yj7i17VN67CVEZNLDmmA4mWtGOIIZS7J37982YngUWL3yclifKKLMQlfVP5TEbQrTKXkyBFsee+Oh4AD3pQWTruxKtM5sT3TZ2IwoJ89Nshi/V3W0bolvE4rm9AjGD4Q3EQMOnKT9GZkmiQDCKKHTeQSSBMxDdpi6kzEJ4rTVCh2Y8jdmcFiBq0GYiatZLr9nS+HcOorbsaCrjBYiC++oF4ql2AdyJlpnuiBrYcUTS938UmtmtJYYlieSqkbicRVRq9CH6g69J2dkedyEqLtYkWh8fyJvPKkSN6Biihrhki/FKRO3marm9BpFkNVplRtEyCU6NMQ3LY9SYpGVe4sZcTbLOIW7Stf/uWs6lvpXncxGttI3z6qfAyxSYSKYlvgWIFr3piAqXE4gCTWOSknUp0I0rf0/PES2MQ4iWz1OI5GUscZ/7MlEh9WsKjyXKGKchemU8z4SVdUfkOVV7izFRUXcNObEF0brxd5oVUVsTY0IblUEluipWz/FF8/s6Or/T2WmOM1yd6HUzY6HzaTfivr8jUQE1B3Fv+wXNMep7EmWGouOeK9vDiQT0MpprSx6c533j+rowNfckIbpJ/jifH53f00U0u5hOTdn1HBu9IjbK2EYT43o3IZLj86rnlh4TOYadDqAnPIhm99WJVpjr8+LwXWICibEUXOAt/22c+NcStZwjK+8ZnBeDZSg06LglxnWoDMAkCsd/IJK/WShUc1b5/P3yQrUHMYi8Mf3r3EShfe6CsTS+v3WI2qjdMo5hNGv1F5/Yf1NTPAsSNWONSVBOp5msV2/YPyZaR0t1Lat+9uo0Wz2mrey/gZyKvPSDKHTuWtn+HnBfPt+I8gtijiYKxvsSXYD2z/3rEmOyis30SFQ0HUFMxLBo3oSHEDXqjSRrKDHYfiyViQoKxHYQkZyfVtl3cRYY9srvdbZS8eTnT0tMYLFlbq8E/Bs4tWQcLd/fS0Sry1q5b1miJevkjLd/4zjVeX2q/n1imupNaE70sTPRmlZdo6/YIudE96gFaHaX3IxIsjaoxHc72c2s5ut49Xo5hlibbJM8r46gWfHbmB2vWAsI0Yr9Ut4/Gmtebp2/wx/lOfUM5RdeX5/oXnoacQ9eMo/Xg0Qy+BA5Dquu747/ndJ/CHGv25IYyzeAqOx4iqxsKXyMBrXsP53m+MLv57Wz6Pi9nvbohUyShb7EAOyl3L1R67qXux9OJDgrEq0gtcfieWYTNS64+5ZE68JxZjZ17nvD3Z9190fc/U8l4sp/e+eul3L3QmbWz90fJ2phZnT31939D3XHVIltFuLC2Rj8/wLwIzObipid515iavYi3N3NbDRxU/kpsBWRqA8lkquFgS3MbED1v6kxpCWIGfi2NLOBRJeJGSqx9jKzeYkL/3ru/lSNsXyk8f9sZjsQ3cuGETfBNSpvewT4T92xmNnErpFvEQUsANz9MOAPZja1u9/s7n+uO65KfAOIwt1oohb438R1CXe/gxhD93apeIhEam3imvhPotB5OPE7O5uohT0MeBc4xN3/Ulcg1e/OzBYhWmivBuYxs3vzpQeJpPggYhbDV+uKZ2Lc/Z9E1/IjzWyYu/+SZqGqel2tnZn1dvffEpUaCxEFTdz9YXKxeqIy4f3Gcarz+mRmvfI6tAbRI2N94AEzW9HdLyHGyR1oZltlLL+rK5ZqTPlZLxGJwq1mtri730AkVZea2aYZ307ufn++v7bjVLlerkZM232eu48jptSfBdjKzIYRXc+2dvcn64ol47DK5n+ILokvEAke7v5jonLlYmI2yk3c/Zk6Y2rI82lFooviA8S97SCiQmgscZ06kEhobm8pd7U7lg8AzGwVM5sT+HeWj2YBrnf3fxDdT28hxvgWUSmn3GFmp5jZ+vmd9gFOzvNsFeBMd/9Nqbh6pE5neN35QbOlaCmilqUxEYERhfbnyG4BBWP6ElEzdhLN2cGuIVrWio0haolpY6L254TcPoboOrUrUcB7kcLrElX2fZvoE39bZd8YogAxfd0xtcQyE1FAmZeYjOAJ4GtE4WUxItGqvZWICaem3YS42YwhEuFtiAk/piKSmj4U6E4ykRiXI9aLaUy6sRnR4ngCUZv+OAVnVCOWFNieaImdLb+7PYlE6wtEclOs+0bGtDrRCvnVPIcepLnO1WbV39zEfhttjmXWyvMT8nrZP8/1b+b1obHo64mUnUZ/PaIwXJ1+/Tbg5sp20XOcqKneurJ9Is0uZnvl+V3kek6zxnpmmq3Z8wJ/AY6uvG8kZboqVteUWphYiHr13N6VKAQ3xoPuAixb+DhVZ+k7nCgHLJHbWxOVHMW6wRNj42YlxqH+nMqYa6Kcci6RRJReU2oF4h4yKB93ASfla6uVOJcmcqx6E4neCZXXDiPKT40xWbWOJyLu9Rfn812I7qQ3E+WmeYlW7A+IFqOXKDTOsXKMZiXKlKOJ8slp5LItRMvjzVSWINFjMse00wF01wdRAB9Dju0gajV2yueD8rW1C8e0BdHq0lhs8uLKa7dSeG2E/NxhxFivnYhuW3fk/p2JZuTrKTAldMuFfT6aXUn2ILp0rp7b2xMDRWvtTkJzBsXWbgAz5U3nl0RL5OxEYeqjPv0Fj1PjmGxDJMTPEcnwD4lpdB+i0ALQlYt747iNJgoLl9PsWrIi0a3yGGqeuKXlOG1EdHP9GlGI2Si/w2uImQt/TqEuLpWYliG6vi6f39+vaM5mtizRVXDVQrEsmbEcVdl3OlG50YtoJT2e6C44iIKzhxKJ8Yt53byVCWcG+xXwk9bvu0BMGxIzK15E1E6vRBRcTqq8p8jY2crvbjNivOztwG65b648779R8NhMT4w/GZrXgROIyosxNCdE2IXokVBkTGHLcdo4v6uP1v0iCuhP0VzrsfTMoY2lKhYjxsftQ2W5AyKZKd1t+XDiHnJFPhYgkoeHMsZHKDRutvLdbUhUZGxJjLeau/KeuylQYUdUHM6Xv7VriVb9AXnNPi6vCwOI7tU7UX4SmRWISoKxuT0d0fX8+2RXc5rj1IpdM3vqo+MBdNcHUSv9PaLWfAui+fh6snBAodmKWmLamijc7ZY/0MYNZ0T+W3r8wFJEd6AvVfaNA+6sbNe+rg0TtsgcQiR8DwPH574TiORvXH6ftRdemLAWds28SG2dF89BwL352mJEX/TSMz3uS7TCNNZv24QoFH+F7HtNoZnUmDCZGUFzIpJRREHmGAouYNgSzwJ5Q26MTVs1j9vmud2PQkloJabBRK3nd3J7NqKr6WV5nj8FbFwwnoXzd/UH4OtEIWIroqWx0eq/EtENtlhBj6hc+T4xDmQOIsk7kQlb9mqfma8lpuWI6Y5Xyu3DiBr1B5hwUpJiM1ASY0IfzuvSacTaSAfla/MQLVnz1h0T0XLem6hAHE7cd3vleTOWqGBpJBO7k2soFjxO6+d5Ph+R9N1Ftp4RlS//RxRIGzHWNXZnscrz/YiC+h5EC+SiRLKwNwWn8m65Zo4Ebsrn3yMm+2gkg9MT044XnXUurz+XEEtDzEokNnsT95gF85pZd6XrukSL1GJEN8CrgWcrry9HlFXOKHl8aC7psyoxpv80ogJjq9zfnyhX/YAOjOvvyY+OB9AdHky4SvUCVJquiYLn/kRt9b/JgfV1XTwnEd/mxNTiywFvAL+svLYPUYgoUitcuVCuQhSo7iNaiFatvOdO4LF8XuvaCNW/T9TmX0MUqGbJ+I7O14bkxbT2CwQx09XviLF7sxEzbp1K1FjfSXS7u4ZoxfodBZrbmXC2wGWIGsRhLe/ZhpjlcY/qb6LUI39n9xKzgZ2Y+1YiClffpsBsRUxYUNifaF38P6Ib3gy5f9W8Ue5RdzwTiW+xfBxJ9M9fLPcPJArDq5FrJdX9/eVvqjGT2vJEweC7RPJ+JlEAPbby/lq/v9b/X6Jr1Ac0K6CWJAowp5KJX+Hvbnai1ezolv1GVFadRaHB7DTvd1PntXxF4l73y7xuvQB8vcT3lp+xAFEYb0zIsDMxff6mRNJ1Yn5vqzHhNb9It7eMYSyRPGyQ3+MPiG65jcXpa59kg0hCbyBahdYhurrum+fOt4mWv0WIBHCPUsen8nxBosLlZKI15idkZTS5mHeJR8s5Mk1+d2/RbH1ZL68FtxMtbVvUHM96xD2juhzLLET56cLKvpWJCoXaZ1SkUrmUv7/LyWWGiNa+6lIf01J4MfHPw6PjAXSnR55UzxFdWcZTaREiBv8fSwzsKxlTL6J7xNF5cT0xfwgr5wX0Ucq0yFQL6GsRtRyLEbVBjZrhlSvvWaZATAsRCWYvonB5B7H+VmM9iyFE96AfdOBc2oBIhm+nORtRH6KQcHpur0Au2FvnjZDofvBFmoWqFYlBtI3Xq1NXr01nZp/cKW82MxOF8z8C5+draxBjDkvOOLclMXPhEGL683OJAmi1u2KxWcvyM6cmupE0umocmb//IrM7tsQyIq+Tp9CcbnkfopZ/eB6/54ia0L0LxFMt5G1K1gAT3V2fo1nIG0m0NhRdUDw/e1ailfh5KkkwzUqreYgCe62/v8p1YDTRctWPaHm5guasd+cQXV9rX4iWKJQ/TrQoDMx9g4nu3D8kui/2zmvAmRQaL1c5To0a/qmILvF3N2IguuJeTtnWosFEZd1zle9rFM3xqcOJe+OcpWLKGLYhKu7mz3PpFzSXatiLaKWtfZwqUU7am0g2l8jjMpiYWOq6yvumI8p1jetXXS2O69EcZ7UVlbW0iPvLOGJiksa+ItOeExUYO+Tz3YiZC0+r/AbXJ67f25U8jz5Pj44H0NH/+ahRPC+fL0mMzZkjL+j/IGrzRrT8Nw9TfqG3NTOWoURN9T5EInExZZKrWYjaukYycFL+8JbI7cWJgt8pZEtWXRerlriWJQrkC+TNb0OiG+cWNLu5DSVm6RpSKKbW7mX/Ar6b272J2r2L646jJaah+VgwbyjT581m58p79qHsWIvqcepDdJ+YhaiNvYVo+XuKZpJVchHomYhugD+t7DuAGKe2NYXXSWqJbX+ixrXRDelgopBXdL27/OwNiQks/g9Ymph17iyaa+6sSRSQa+vuQrMQ3Ph33zxvqgP9zyG6DTfiKrUYbSOm+YnxTI0k79i8Ti2U240Ea1ngtxTockq0mP2ECceknUxUJIwmWkZKTEw0LVEQ/2LL/oH57475u9sqr5+lu1KvSbQMbZbb0+Vx24jojnc92YJV4lyqHLNZiAS4eo0aSdyDj6PmniMTiW9TIrlaNLfHEGWGH+b5/jQFx6kSFZwfEpUZ8+e+GYlueZcXjGMxIrlaJWMaSySb1SEEQ4jk5ozW77rGuHoTPQ4Oanwm0XL9faL7baOb/oZkBbEen+I4dzqATj+IGo45iWbk4UTW/lBuX5U/0Ea3hQWIrhO1L7aaF/aTK9tH5sVqmtzuTYF++jTHnF2anz9nbp9BtA41mtyXIApbJWaZ6ld5PhtRq3kCUVBvDGDdimxm78DNZhBRWzUT0fryX2D7fG11Yoa1YXVfSJmw62t/Ikn/Vsa3FVELei6RXD1a8gbYen7l8+nyBrhE5Rx7gIItajRrq5chCrvHVF77SsZU+9i0PHcateTzkTWNuT2WCdfhOoxK63HBc2pg/nsQkbDvTXSdOqdyHGtdI5BKYkkkKI/RrFxZk+ZELhcDDzb+Hwocp0YCvAFRcfe9PDb9iRb3I4nW7YUr/82s1NgqyoSF9H2IqfIbYwl7Ea2yp+S1oMgYPiJZuLyyvW9+Vy8AR+S+3XJf6YkalsxrwFeISoT9iAq9PYlWhxcpP4vwQcS9rn9ex28ALq28vhRlZjDs1bK9EtGl7DuVfSvksdqPQolxy/Xp58RyLPM1YiYqqK+j0oOj5nj6MGFr9U5EEjOGCZOsWSgwHpRc6D2fr0b00mhcq3oRvaJOy+tDNT5NaPEpHo0TcYpTXd/AzO4kag2XNrP9iYL50bm+xteIwszjudbUjO7+Wp3x5PYKRMGpL1Gj/xpRY3aZF1pLysyGEInBqbk9lrgQHO7ufzCzHxAJxHLu/nczG+CxdkOdMU1HJClPEEldb6KVaH1i+t5vEjM97UqMJ7qJWNqh2IluZjMT3Savdfe7zWw94kZ4H3HDvs3db6o5hur5PZW7/yfX2hhLJC1XEl2D9iYGsd/gBdYiMbOF3f3ZfH4IUbP3PHC1u483syuIsTsz5GtjvN61koYDf3P3f5jZbkQlysPufq2ZLU4kC7e4+4n5/hnd/a91xZOf0ZeoJHiZuNmtS3M63xuI68C/3f3kOuOYHDM7LOPY393fybWKlibGp60PbOvuN9S1jkyuy2LEWMYx7v4XM5uRmBBlRuJasDRx3bzO3a/Odab+2O5YWuL66BpoZqOIAsymRBeuCzOeJYjxvF8jpop/pM6YWuJbDfi9u79kZl8hunuf4O6/yHWnPjSzwe7+Rp1rALXEdBPRhasP0TX4YaKV9haiNv12orBX63eXsZi7u5mNIFoW5nL3q/J+fAJx3byFqDSbxd2fqzumSmy7EMu0bN0oA5jZIKKlqJ+7b1oojj7u/n4+Xxh4z91fyPP9LCJhPqVELC1xNb672YnfWX/ienQ5sQD0L81sHuA9onLo6Rpj6eXuH07itZ2I1sangB+7e5F1CrP8egzR1X080bDQqJR+193/nu/bmRhT+y13f7lEbJ9bnc7wusuDaHG4i+ge+AOigHw/BdbY4H+nhN6K7J5BjIk5giiEvgt8s+AxmZGoPR9KszvL6cRNplELciFR8CvVojYzMfXyQ0StYqOFbS1ifNNRxEVjYwq0NLbEVp32dReia2JjKt81iNq0xqxTdY65qp5PY4hC6G5Eq+xQooBQfGY+oobsV0SXn1FEwWlTYha1u4iuVKsRrUR3A0vWHNPQPJ+/mMfnMaIA8yei0A7RxeM5cs25Escp/x2Y39N+je8pYzsc+D2xePCmpb6/lhj3Jrp1DcvtRqt6H6Lg8FD1t1BTDB/N1EYUoq7O7Y2Jrm6NyT++BnytemxrjGluonW6Ma5heJ4/a+UxMaLl4/cU7GZaOacWIiaReZPmxB/7EUn7mq3vLxBXdfbX3fNaNZBmr4gvA7uUOk6VWNYDXie6bT1N8xq+PFE5dXChOFqX+DiJHA9Ds7urEYngxZTpWbMQcFw+35soqD9JJJ8rEy1o95Otjx347jYmWq5OoznL6h7EkI8vZay1DvFgwvvvNnker0VlPCMxvvACopxQejKpefK6dHgelzuILsFHExXT06PZAttzrDsdQKcfLRf564mZ57bLH2itM8tMJJZD8gJ+LlGD3aiZgqjNP4VKl5KaY2kUYOYkugaeTHNtqdMzvhG5XXvXspbvaW2iO8JlNPtXG9GydTbwlQ6cRwOJLnc/JWrOhxJrp61efU+hWBpjOrYgZi38Yp7bRxHdSmbNm9BXKTQddOV8mpZIrB6iWRCdgSjo3UFzOvRS42T2ILpvXUlzwPiKRAtpI8lahPJrtowkKn3+nud0dXHTtYhxIY2FxuuePrt1dr5vEDObLk+MTftp/juwdDxEYbgvMUPXKS3v+wLRGlJkQWqicPcB0b1tt5bjdUg+35XoMlhsDaf83NHERBLbEhMQ/IlMgon7zm0Unjwin0+0+zYxY+4zFFrLrfK5ixFdzlciup9/h7jPNJKsFSgz5mogsFQ+X5m4D59GzjJJ8xq/NtHtq9R1fHkiMTgtr+O9iVb/Q4jeIzMTZZWfERW0JWdbXpjo3jqY6KlxJ82ZX7cgylPFxhMR97T7iHvMC3k9qpZjtqHcmmmN+8pwKhOyEEvEHEdz8p9bqIzL1OMzHvdOB9AdHi0n/XVMuI5TbeN38mQfms/7E+tFNMYPjCD66h5Iy4KCBY5H48e4RN5gjiCa/k+gOdHFefnjnLrui2jLDXk7YnzKosRg0XNoFoznIwoStU9xWj1vaI6VmZoYQ/CtvLA+CVwwkffXNVvRMpXnyxG1r6tVtn9AjP2Yhaj1LLIGUN50Gy2eI2kmWTdW3jMdUdM3ru5zipYp6IkW0TuJSoTGd7k8UdmyW11xTCa+pYip/RclWvruJmbprPaJXzxjrnVx6pbjtHr+u3/+9u8lCg/757nVv/W/qTm2rYDf5vMBxGQf5+b20sT6QEVnWMxz+AQisWss6bFfHp8DiXGQtVeSERU8q1e2TyK6cza2vwa8UvldlphifADNe8tEzxGi8mf/PP+LjW8iEoX+xAQWD+Rvz4j78LeICqoitfr5uUsSFWBXA0/k/pWAvxIT7QwkCuzPUablammaE4ItR5QHnqn85ucjWvw2ye0iM+G1xLhSntfrEj0lGhUIS+a/tS5l03KtnIHo3TMV0TvizjzHenfi2GRMQ4h5Beaq7NuVrPzRo4Zj3ukAusuDCZOsG8iZ32r8vBmJWvN986bSj6g13zRf70N0mfhOnXFMJr6NiQLUA0Rh6itEzdVxNAdtFmlNq8R0UB6jRnfFeYjk7xwiGb2CAq1EedPdOJ9vmMfogjxGje4tq+RN6H5qHjBOs9ByKc2a1rmIloXbaHYnGZnvOYyyC5muQLSCngq8kPumIQqb51TeN4Caa9FbboJz00x6Nya6Jn6RZq3nSGru6jaJGFcmxsQ1tuckWmjOojlxy0q5r1Rlwn5EhcHgLCSMoNli1fgNFJv6nEg8nwXWruyblqhUuCi3SyxyPgcTLly8G9EiugjRSrszUXlwWF6fNi8QU2+ihXHByrn8NZpdpnrnb+0BYhxIianYBxIteTvx8UnWF4G1JveeNsbVt+XfOYhk6hiaM6nNnd/pkgWOU/X6dAkxJu3wyr71iOThQqISr8jsoUSl5j3kkidE5esNxFCKxjl2CnBgie+tJbbZ898hxP32eZoV16OJiutii8ETPWn65/l+FzHmuvHaXiXOo8nEdgYxJq1x31ufqAyqtaJuSn10PIDu9KicdLsTfZr71PQ5s+dNbvX8nDHE+JStiBq01fN9e+ZNuV/hC9aQvHg3Wqv2JWrQDyYK6N+mwBgCouvBDPl80bx4TpvHahWipn8+oibvRgrVVudF+1Ui4buG6KaxKdHadxHNxVenAw6l5gVpqUyDTYz1uj2fDyO6l51Lc5zM0nRmnatziMlItqrs6090VbyyA/Hsl5/9PeDLuW8zomvJASVvOLQUOPP6cHWe340a4iOJyoU5c3sGYJ4aYxpWeb4uMdZicG4vQLQyNmpnn6Hmgl7r9Y8YC3I3UTNcnVV0QMZae9cbImn4AzGhxh7EQHqIWuKtiYqF8WQraOv3XHNsfYlKvAvzejUr0WJ1cL6+cp77F5AtbTXH058Y83FyHpv/ORYTOy51HSui+99U+XwjIqnaO397Q4FbiaR0hnxP6UXOdyXu/YcSLWgfzTpH3PMGUGY6/9WAk/L5TEQXskYr8XLEdf2nROvsBMsjlDhWeY18jZioBeKefBZxfV8nr5mb1BzL3DTLSiOIibWmJSoK7qZZntueqAAqWmlHlAMa8Q0kKqNny+3ZgR9TaPjClPbohXzEm7O+vEjU9r3f7s8wsw2IQvgh7n4PUZBalUimniASmCvM7CyiReREd3/P89dQyH+IJGbm3D6XSLpWI5Kcy939n3UGYGYzEQWD3jmr2jtEAX0McQE9mujOOZu7X0kU3J+qM6YGd/9JxrE78KG730XckM8GnEhicPd3iJvS5mbWJ2c+axsLUwM3mdmJ+Zk/A4aa2dUes259E3gfuNDMpnb3R939T+2MY1Kxtey6gChg7Wpma2Qs/yKmsZ7GzIbWHVMltu2JpHxrouC5o5md4u43EOf37FDu2ujubmYbAieb2deIAsP9RHeznc1sWyKJ39tj9rde7v62u79QRzxmNhuwp5kNyF19iNrrVczsm0TN9a1EV9M3iAJMnTNyTd24/pnZUma2uMfsbTsQE+yMzd8BHjP4Levuf64rngZ3/xsxHvV94pxZ28zOJ1oYlnH3XxHn/ME5g6flf1fbtbzxu3P3/xIJ8GNExd3sxNjCHc3sYqIW+3KiFXDAxP9a+2LK3/oPiFbXlYGtKrO+fXRczKxP/jf9zGxIjcfqMOCOnPnuAKI1fXGigD4DcW1fm/juerv7uzXF8ZHKOb4iMVZuF4+ZQp8nWkQ3MbN9iW7y/3b3N+uOiZj19otm9i13f4togZzNzM5x9weJ79SIZGtzd/9t3QHl99G4Zh5NJKIHmNnhRIXCOKKssjFwlLuPa/e9txLLVBnD9vkb/wcxGdm7ROvVg8BBZnYzcT3fzt1frCOWlrgs/12ESNAPN7OTiGvCAkSvAzxmCfx6Xsuk3Tqd4U1JD+KkfpIY31Gtdd2A6A6wJ1EzPD+xDk+RMTKTiPVQ4sLRWDhwPaJ17TxqXtumEkNforbuNKLA+yViLEFjhsWv01wrpegiwrm9DfBPJmyVuYgJF/A9gppmLaLZ4jovMYD9xMprDxNTwELUqp1KdpsofB6NIWdyIwrqX8zzaBmi8Hl43d8dE9YML0xMUzuIaJm9nagFvY+cJIEC61y1xLcYUbmyL9GV8jaa3by+TbTOFhmPQrOWfEB+RzsR3TmvJSp/1icKVFcC6xc6Nl/MGPYlCnw/r5zbcxCTElxOoYlR8nMb63z1IQrrjxFJzJiM5V6a42mLTB5RiW0kUckzPK+bexE9JZYjClhDiFaaNTPu2iYBodnS0GiJ7UessXM6LS1ZNCfCGUgk8SNqjKs/UZP/a2Cn3Lco0VJ8MpHQDKPALMLVY0V0e/8JMUvniNzfi5ht7mRizFXtPTWInhCN8VSzEktGfDe3Gy1ZZ+X2spRZe2sIze7uM+ZvrLGO29xEa3J13cJGC2VdraCLEV3xFyIqoY/K6+NYKr2fMrYFKDiGL/9dk0g+F89jd02e3w8Tk4EsWCKeKfnR8QCmhEdeOPvmjXft3PfRNMP574ZEknVQ48bc4ZiHE4O1f0L0Jf4NMe5hHLkQbF3HqvJ8NFGTOJZI9qatvLYD0TWpdJeEZfLCNWdub0nUMB6arz0HrFIqnsr2bESSdVxl369odhespbvrx8R4AFGLtxpRkDsy9x9IFNYfImfKKnQ+jclzaTDRffNKcvxJxnMtBcY0EcldYwD2skThd6/K6+cRiV+jW+e0rf8vNcW1HvBI5RrV6KK8fsv7NiYqiuYscKw2IlqqDyS63g3M/Q/yvxUIpQswawAP5PNvEmOaRuR27ZNGtMTUqGxZDfgzkajfSvSOMCJJvYpmgXQ40b1riQLHaT2iG9JBRNfuXkR3vNOIblPV3+hAotvn6jXH1J9oqbqCaMVrJMwLEuOKTqdMN/iJdYtcnkgwd6bS1ZWofB1Y6Hxalhj72bg+DuV/k6z7gFMLxTMVUdl0ZeW6eEb+Bhvf6WhifbJ9CsQzDVEGGZLn86xEL42r83y6lxi7fglwfolj1BLf+hnH2+R4xtw/B1GmuhtYp3RcU9qj4wFMCQ+aAy5vYhJr1+SPdE2iJmRgp2POmKbPH+pXiNqa5YiCVYnxDVtnAWEQMaD/e0QhZiaidvHnFJgePmOpXsB/S7TGvEFOIZyxfpgXraLJFTHj1llEMjMyL6rVWry7KTCIPT9rglkSidbGvkTyeStRe90YTD6w5HlOjCO6kGZiM3Mem63zhnMrZWphpyGShbnyN78AzaUZZqi87xIiAe1NudlD9ye6ttxJTmechYgLyVZZorvZI9Rci86Ekw4dmjHczoTjDTtWgUAUgn9SLaTQnD1wgcq+upPifi0xHUOM/epFtD7eQyQ1RrQcNdYH60WZcUXrEGNz1iQS5TuAbfK1A4jWx8b9cYZGvDXF0rgubUJ0bRuUv8cLiRaZxpIoC1Pj+MZJxLY/kdT9kCgEr01U+uxE4TGzleO0GVFA3zG3G0nWt3J7RsrNRNuLqEg5Mx+9iZbjcTRnfl2GqET4AwWm988Y5s3PXJLoMn0ece3ehWhFXp6cqbPg97d8XqMXzfPqf6amJ7rI30TBVv8p8dHxAD7vD6Jl6iaipuPblZtLr7zpGTEg8oh8Xmzx10/4/7EGURBcoqa/X00a1smLVqNQ14uomf02MVNRXwrPekMkdY8RXTjWI8bJ/B8wuvI9F10/gugyeS9RG/0mMcnGxkR3s47MPplxzUXUEF9PJC7X00ys9gI2KxBDo5DQm0jsxuVxWY1m6/G2eZ7dRcGZnTKmwcCxWWiZn0j29mXCqdiLzBBW+bxBREvQIfmdNWbK3Ilo7dghYy+2gDfR0nE50dLxY2JSjdkrr99NDtgufKw2JypV9mnZ/21iIHvt1/G8p3w0IQtRY/4KzfWT+gM7Eknf6pX/rtQ0+v2IyqgF85r+WJ7jN+XxM5rTxPciWo5qXR+MaNF7nEoSl8fprLyWFun+3hLT3nkNGpHf1Zm5f7O8bm1HgVlfmfAePD3RBf98olKxMVHLrMRY6OPqjqcSS3XNrzOISt5v575TiPUCzyLGzi+U19UV6o4nn89LjK06h2aSdQ4x2/Kcpc+ljGmxyjXgOJoLrS9BLihO9Ay4l2wN1KOm76LTAXyeH0Q3pGvyxJ4pf/iv0VJDRxQebqebtFxN4v9laJ0XDJoF4qFEa8MdRHeu6mxmaxPdFWvvQkkkUltQaXEkCsIrAeNz+3BiQpA1Wv8/CsQ3fd78hhKFrNuJ7i4/JAovDxEF5hJj01YkBu9C1Jg9RhTUbyEWNN0yX9uV6EJZa+1wS0GhMfZjANEV75SWc6o/hdYlqRQUVibGU5xGtDgMIhL4O4jWmpIzGC5Oc3HnXkSSfn7+Bm+iOTPenkTNcbHxaURLw1M0C+EbEbX6u1O+C17j+jSMZkKzFVH43LDlvfMVimlGYozqLDQXgb+SuOc04p2WqE1fvvDxmotope5LJIJ3EmPUjJhQ4npaxoSW+B3m76vRVbkfzUrO6YjWh9rHXLVek4kkdBBRsXELE7b0r03hCgSay7DsmdfstYjkpZFkDSl1jldiGkVMWb820d31HJpjZkcR97z5iJmZa5mpj7jPzdf6HRKJ8cF53VyMqPAcS6FlKyq/9ZHEeOJFKq8dmOfV/OT4/9y/JoUWYJ+SHx0P4PP+IGrl/gw8ktt75YViDyKx2p2oUSu6IGZ3eeSNuDEYdXmaXX5GE4Wp3ah0kaBAjUtejJ4mCsH3E7O3NV7bk+ZaIKsTXVqKFl4qsfQjkvef5bYRXTr2pWxBeENiNrcTiCRvHqKAfjDwM6JS4UKidrbY2mn5W7uUSEDnJgqbVxHdTYt0m5xITBsTA4yXI7q0nETUMs6cN+d7KVTzmZ/5IdHtZyti3EUfIpFaj6g5H0dzbb7SrcZ70ywMN8bIjCZasr6QsZZcvmIzIgm+hOhxMEset0eptMqWiIlmK+ycRKXKKTQLfzcSY0Ea7ym25l1+XqMl9OtEYXz6/O3PQrQw3EShsbMTie1gYGzLMRyZ1/zau+IyYcF83vz3bKJL1xWVmPYHvtSB47MCMdPjXkT35QfzN7cosRzBDh363tYjx3sR973FienhT6c5JmtBoixV16RSJxDjrRvfW7Ulay5ijOGVeR0v0q278vkbEmPSD87rUaNnzcg8Jo9S83T1evzvQ9O016QyLejdRMF3BgB3P4e4eA4jClujiD7ORaYY707MbBBZo5i73gbego+mQr+W6NK1hZkNyf3/rjmmhYnCyVfd/VByGlozWzLf8htgkJl9n6ilOsLdH6gzpklx9/eI7hp9zGwx4iJ7G3Czx3TVpeK4hZhAYvPY9BeIROE2omD1RaK//Abu/myJmMzsi8Qg8dOJyozjiRvf7sQYi33MrHeJWCoxDcjP38/dH3T3R4jWhqmJ4/M60RryUol4PKZ5XpuYIGVxYrzlJcQ5NdjdryJaGrY3s2nd/e8l4qp4CVjVzBbw5pIZvYjusD9z9/c9SxF1y9/XV4kxe+8Qx+3f7n4N0er3LTMb3Jh6vOZYzN0/MLMliG7CvyHGEu1iZvO5+6ZEj4lrYILlR2qNqfHc3f9C/P77ExVk/yCuBXcR47Au8jLTeTemql7SzBY2s1mIAvDmZnYQMG1OiX41Mf7xg7pjapwbZrYPcHROS/8torXvmfxedyPGy91VdzxVOeX4y8Qaj40E636iovHPRDfPB0vGVPEWMbX/qh7L1jwJvEC0Hs2T73memNDhyXZ+cGUZgaOJlrPr83f2YS4hg7v/jmhtvwN4o8S5VIlvLiL524g4TlMBPzCzTYmWx6FEOaW26epl4qzQ/WmK0XqDNbP+7v4vMzuP6Bq0lLu/m2s5fGBmfbyG9bZ6grw4bUA0V79CDFpf3d1PrLxnS6I15HB3f7tATCsDP3f3Xrn9JHHDGUrUAn2RGI+2EvBQJoIdY2b9iJqztYmkfetSScxEYtmUmKZ+b3e/OvfdCFyaBdE6P9sqhZcFibEn3yPGDW1LFFYWJVqMngZmcvdX64xpIjFOS3TlPN7d78j1rD40sx2JwszF7v58yZgyrrWIFsaliRaZ7YmC1u40FzkvnVxhZtMT4xv6EN3KBhKtkUXWkmmJZXXiN/800Xq1g7u/aGYLuvuvzWxWL7C+XCWejYmkvB8xqP8RohXmVWKdwt+Y2TKZxJeKaVlgXXf/Rm5vQFy7X3L3U81sGNH17aUSiWjGsDHRQvwzojXtJKIQegXR6j4/sbzFzXXHUolpS2JW3E3c/Q+5byFirOHTRNKwd8nruJmtQFSw/Aj4N9F9+Tqii+c5xJir4wrF0lgfbSXimvSguz9kZjsR40HPIq5PpwFj6jxOWbE7zN0fs1iP8Abi9785sK27/ybftwfRo+UgL7M+WSO+kURC9RpRUXYGUc7cmzjHRhOJ+9ulfnNS0ekmtM/Tgwmb//ciboBHVvZdRgy018wtzWPSn6gZO5nop/8qsQr7KXn8VqfAdLktMY0man7uImfkIy5ivwUOndR33sFj2JcY31B8sP9EYtkoj93XiS5VT1F2zNWX8vyZk0habsv9w4jxX9+lgwN7idbrr5P934kuOT+iw12EiYqOp8iupRQe4zSZuIYShYVbidaHWrr/TOqcotllaw5iMP0zjWND9EC4lUjWSx6TIcQU2Qvm9r7AiUT3oEuJiTZKXzOXILpoPVW9RhIJ8VNEL4W+hWNalEjMhxCVUE8T3UtXICZr6U9zfF/JrqZHAgfn876Vc2wqojJhYMnjlJ89nOj+Pp6oWNkL2CJf26Pua/hE4hmd1+uDiZlx9yfGqW5OrBF2K5X1J2uMY3aiFe9qohJjltx/HNH1blqaFVJFrk2V2FbI60DjXrI78OV8vh3RdXjN0ueSHs1HH6RtPM9sMzuA6EqyP3CXmc3j7nu4+45mdgMxbmeFjgXaTZjZVkSt2RjihjczMdj4b0QhvQ/wZ3f/Z8m43P0n2cXsdqIGFnf/j5l9h6hFr7634zVC7v5f4gLfce5+c3Z7uZYokG7qNbc2VH53exFdkrZw95fNbBQwR7aULkMsKvo9r7mb6ce4jii8nGtm9xGta/t5h7sIu/ut2XvkYTNbyaPLy/+0yHcgrteAs83swtz+T6HPdTNbD1jDzN6lWTn2LLCumb1EdO36qru/VSKmiv8QXSVnzu1zia7MixLXrPtKXDMrLQ0rEsnv6sTv78zsofFdolfCysD1eZ0q6UMi+VyEmOhjJ6Lb8MnEOKyrzOxlqO863milbtn9B2AtMxvm7n/M920LvOXudxL3v6Lc/RXgfDN7mDivpyNmOr3O3S8oGYuZzU58bxsSrXlTE+WlqYlWqxuISup3674+5X3kamJyrRPc/fX8zGOzi/lrxNCGDb3NXRMnJ4cy7ATc4O7P5e6+wApmdjBx/Lb2aHlTy1WHqItgm5nZcKL1ZQxR87MKUZP+lLtvk+/56MI6JcuuXPu5+37Z1W1torvgX4iCcOkbcmt8GxA34nnNbF4iYTjA3e/oZFw9gZmtRnQN+n2hz5uGKOSdRdTCbk3UXB9KFIynB3YqeROclOwquCwR3+/dvVPjGv5HdvM8lhgc7VPqjTm7TF1AtAztRJxTTxKtDGsSSc7N7n5LJwowZnYouRSCuz+dyeBBRFfrfUslonkN/yFwkrtfl/uWIsbu/YqYuGhvd7+9QCyNhG9uYp1C3P0dMzsEeNndf2xm+xFjMM9x9yfqjqkS2+ZE0vIIMcnV94jr0uPE1OeHEUu4/L5UTJOSY9XWImag265ETJXvbqqszJyLOF4XEIn7ukRFwjeJ7+5fdcdS2Z6HaME+m5ho4+zKa1sCz3mB7pwtFRp7EufN68Q07K/kew4gKoEfc/eb6o5JJk8J1mc0sZurmc1MrIlworuvYGaLExfSs9x93ymxRqFljMzmxEXgv0SN4pjGRdzMNiKS0pM8Bkt3lJmtT7Q6/I7o+nJbh0OSSTCzMcTg8JeJ1qoXiSRmHPCqu7/ewfB6DDMb4AUnSeluzGwBYvzC0+7+bTObmujWNYu7753v6efu73XqWp4VeXsRifCjxNi5nYgpv4+uK3nIY7MU8Mus3V+ImJ76n+6+buV9g4lE9Hfu/lAdsUwivtHEgP+biVaP7YiKzoOJJOYEYn3F+wvGtCvxvVxHjOFdhUjQv0DMJvpf4jvreOVPlZn1LVHJWUkcRhEVYydlS9E6xD13/SxDnUR0rSw1UdIuRAXBi0SPjKmI8+rrRPK3BpGA1j6JTCWmxpjCvYjuiXsSE6nd7i1jiqfEcmZ3owTrM2hJGjYlahT/z93Hm9kqxAV0X+KisTBwhReYPak7M7PtiPUqFiXGWx1E9HG+lmjivgp4s0QXl66ymARgene/vtOxyKRlQXgx4AV3f8vMdiBuQBt0uFug9BDZnXR+YtbJaYFDGgU6M3sI2KPT3TkbLCYBWZEY/3Qrcf85D1jH3f9cw+cZ0fJyADFD4StEYXN+ogteH2D/ThXqstvUZUSyuQWwJbC2u/8zW/yGA3eXrNnPlvxdgG+6+/MWkyF8j5jt7tFszbYpuUIDIJOpfYleLLcS42jfJboD/otY0PegUhWcOUTgS0RvpBFEIvxNYgbRE4iyylHu/niJeDKmAcQYy5MaFQRZIb0V8ADRov5KqXjk4ynBagMz25toifkh0UVpTWImnoMBJ2qs1vCYvnqKUqmd6uvu/zWzu4kLxE/y9XOJROslYmDrlz1nVupuVCPUM5hZL2IsyEHAF9z96c5GJD1BdgU6nRgsPi3RReoNosD3d2J9qQ09x6d1J2a2BjF2Zq86u75lQfhYYgHak4H/I8Y63UZMcNPL3Q+q6/MnEk+1knMeYr2k3xG1/F9w9xeyu+eDEFPW13kdr9zvehHjik8i7v+nAj/K7m+7E61+K5dsSeuuLJZA+BGREP+NGE/4GrEIey9iAp7fuvsva4xhIcCI7n5uZscB97j7z7IiY11gfXff08wGAu+XTopt0rPQHkKsL/f11lYs6Sytg/UZWBhB1LqMBj4g1v/4hbs/DHyFmDZzikyuYILBw7Pnv/cRUws3vEusG3GRu2/bXZMr6B4TWkiXTE0U+rZRciUfJ1tmIAarP0mMtXiHmJ56XqLi7PtE96TfVd7fnfyamDa61nFFHpMw/IVIXjYlZggcQyQSQ4BNcrxqEVkYXsnMdia6Sx5HtDqsmcnVqkT3zlkbXbnqTq5yc1B2rzuE6Bq4LDDSYvKPC4kK2WLTefcAvybGo/6RWFpjNeI393d3/2HNyZUR39OhxHh5gAFE+Q2PJSoeA2Yxs5nd/W+daHHMXj1XAyua2UKZXK1AnPdnK7nqfpRgfQZ5Mf0T0Qf+e8A2RC2HZ61Cb3f/1ZSaXDWY2aLAT8zsFGAT4KtmtoyZzQrcAgwzs35Z6yfymXgMgL7Im7MriUzAzIbmQHqILkDkmM+TiMLUBcS1/Xii0uxXxEQX3bKixd1f85oXqK4klt8AprJY6PjLRMH0MKIXwu5eYC23Riw54P98ooVhJDFD3/vAlma2DVFIP98LTCpVaUn7EnCNmf0Y+I7HumB/I8oHK2fLw2WeayhNaSrfnVnMOPsy0Q1wGTObLhOJk4muryfUHU9+bwcA7wEH5XXhOOD3ZnZexrsEMe6q05Ur1xHl9nPN7FvEem6XecH17qTr1EXwEzCz+YC/emXyhRz3MZboC7+iu//dzLYGjgI2824wK1CnZeI0F9FveReiZuhSYmG8d4hZpto+ZkBEpJXFzHfXEcnTPcQitNe7+5H5+mCiq+BAYsHqxhijXwNneqEZ+rori1nmLgVWJcbFnJP7p3b3dwvGMQr4DjFV/gPZRXAjmlN6Pw/81GPZjdq7Bebz0RnTtsQwgSuIyVLGmNnpRFfTE6f0MaE5dmhjYia8o4m1MEcRXTn/Qfzuvk1MWrSju79dQwxrEuvsPePuj2ey911iLOMZxPf3LaI1ayZiMq6OT0Ri3XgWWpmQEqwusljz4DrgBeAbXlmt28xmIppu/0hc2OcBdlX3pP9lMZ32N4jpj98GhpSoXRQRyS7dNxPTLV+Q+4YR46wud/eTct9hRKXZCR5ryaxMTGCkiiDAzJYlKha3cPfXbOLrPdUdwzrE2K+j3f2bOUHJBsAq7n5Y5X2lkqu5iYRhtLsfXXnPL4jxfL8F+vsUPpupmS1HTMZyIDF5xKpEIjMt0Qq5GJFczUCUFdb1Nk96lRXjN5MzXRLdgP8NXEystfVbomXoRTObAfjQ3d9pZwzy+aeFhrvAYkbAaYl+0+cDh5rZKe7+FzPr47HQ5Dpmti7RFeBP3XksUadkU3svYtDvIu7+CyIpFREpYQ2iVeOCbFlfGhhGVJAdZGYfEmOMtgV2a1SSuft9nQq4m3oceAZYxcyuKZ1cQYwHM7MtgJPN7HfufqWZ/Q1YzcyGAK97qjGGRnK1D5HcXQtsbWZnVJLxZ4EZc9zOFDtbYCUZXYyY5v9nwM/M7A9EuWpVd78tK7PXJ7rrbtfu5ArAY5Hi/Ygy3bLEWMJNiJkCBxFjwFYxsy+qF5J8WkqwJiNvwP2JQc99icGyuxO1HIeZ2amNi6iZ7Qgs5+77dyre7i4vrv/MvukvdjoeEZnivAjsabEw77bANMSahY3eCfMDixPTaqsHwiR4zAh7DtC3E8lVJY4bMym+3GLR1w+JVsdiLY1mtgnRlW0jd/9DjuF5wMwOBuYkur59p1Q83djcxG/s/4jkZTjwR3e/wmIplDmAP7v7B2b2OrBlzeNoXwQuIq4Ba7r7Htk9eGVioo2liVmgRT4VdRHsAjM7nJghcBngVne/zMxuImYL/K6Z7UksJLhJd+ij291lq9/7nY5DRKYsZtafmPVuV2KMzveBp4mJLnYmruP/9pqn85b2yiTneLKbZ2MihRLfn8UyLTNlN8XemSDsTYzvmR042d2fqTuO7qjxG8rx6+OAC4kJLC4mfn+/Ilr1LiHGrBep1MhkfGN339ViivYDieT8UHf/dw5l8JJjCuXzRy1YXfM+UbtyAbCXmc1OjB9axcw2ICZw2FjJVdcouRKRTvCYYfI0M7sku3YDkDPiLQdMT8xo1i1nC5SJc/dxZvYucKGZveDu1xX8+JeAzczs2srMgK8Dr7j7sQXj6HYyudoU2Al4iJgs5l2ikuNIYjKLYcRkKSVbjJ8hugtDtKiNJVohLzSz3ab0SUikPZRgdc2NwNbu/lMzW5IYkPktdz/WzM4GvuTuz3Y0QhER6ZJGcpUTI6xDXNOPdPfXOhqYfGoei6/uRnRDK+mXxIQou5rZL4nJGQ4Cti8cR7djsSjv14h1pn5JjL86B/igMRGImc3q7n+qq8W4ZSKSzYnZQf8LzG9mc3osb/CsmZ1JDAGZkVjoWOQzURfBLshZpr4B3A8cDlwGLE/03/2RajpFRHqWTK5GEWvefN/db+pwSNJDmdlQYFNiooS3iQrYKb5Hi5lNB/wI2NPdX80JLPYi1k0b6+6nFYxlO2A+YFHgVSIJvp+YmGQaojz3hscC0SKfmRKsLjKz44l++/u6+025hsL/ufvLnY1MREQ+jUyyZq6zBl2mHGY2FYBPoWulVcZcDQPedPf3zOxYYDSwRo5v2ghYj5gA5Ii6ev9UYumbk7LcDZzk7j/J188lEq2XMr7DvebFumXKoi6CXXcecKM3V8y+p5OzJ4mIyGeTtdV/yudKruQzmVITq4ZMaNYHjgX+L1usjiRm43vUzC4ADiDGZO1ALNtSWyz5dHZixsD7gH6Vt7xLtFhdRLReibSVEqwuypaqlxu1IkquREREREIutjwW2AP4M7AZcAWxrtVvieVuRgPTEYsK/73meBYFrjWzW4hFhdczs5eJlqtbiInK+gH/VZlO2k0J1iekWk4RERGRphyHNi1wl7v/wsx65TI2cxJL2Fye71sWOI1YyPsPNYf1LLEAdF/gPeArRAvabMA7wN7u/l7NMcgUSgmWiIiIiHwilXFOiwNfIrribWpmD7v7D/NtbwKzVv6z14k1r/5Ud3zZKvVCxno80UXwRGIikiElF6SWKY8SLBERERH5RDK52piYFbAf0YL1Y+D4bNH6NTGz4kGV/6b4RBK58HQvYBVgEXf/BfDH0nHIlEWzCIqIiIjIJ2JmQ4hpzvd091+b2b7AECKZmRv4HfBAd1kCwcwOBy5391c7HYt8/qkFS0REREQ+qf8QydTMuX0ucFZuX+7u18CEi/122Cnu/n6ng5ApQ21TZIqIiIjI55O7/5VowVrTzBbNZQ9+DEwFbGxm0+T7ukNyhZIrKUkJloiIiIh8GlcTCdVJZvYNYpr244AZgfk7GZhIJ2kMloiIiIh8KmY2PbAisARwK9AfOA9YRzP1yZRKCZaIiIiIfGZmtgbwLWAvd3+i0/GIdIoSLBERERH5zHJ69qk6MR27SHeiBEtERERERKRNNMmFiIiIiIhImyjBEhERERERaRMlWCIiIiIiIm2iBEtERD4XzGyEmT3dsu/rZnZYp2ISEZEpjxIsERGRSTCzPp2OQUREehYlWCIi8rlnZgeY2bNm9qSZXZX7pjWzC83sITN7zMw2zf27mtk4M7sb+GlHAxcRkR5HNXMiIjIlOAKYy93fM7OBue8o4G533z33PWRmd+VrSwOLu/tb5UMVEZGeTC1YIiLyeTGphR0deBK43Mx2BN7P/esCR5jZ48A9wNTAHPnanUquRETk01CCJSIinxdvAjO27JsJ+AuwIXAm0TL1cI6tMmBLd18yH3O4+3P53/2zVNAiIvL5ogRLREQ+F9z9H8BrZrYmgJnNBKwP3AfM7u4/A74CzAAMAG4H9jczy/cv1ZHARUTkc0VjsERE5PNkZ+BMMzslt48D/gD8zMxmIFqtxrr738zsBOA04Ekz6wX8DtioAzGLiMjniLlPqsu6iIiIiIiIfBLqIigiIiIiItImSrBERERERETaRAmWiIiIiIhImyjBEhERERERaRMlWCIiIiIiIm2iBEtERERERKRNlGCJiIiIiIi0yf8DGoiqQZeUg84AAAAASUVORK5CYII=\n",
       "datasetInfos": [],
       "metadata": {},
       "removedWidgets": [],
       "type": "image"
      }
     },
     "output_type": "display_data"
    }
   ],
   "source": [
    "import matplotlib.pyplot as plt\n",
    "# Group the data by user and count the number of tweets\n",
    "tweet_counts = bronze_df.groupBy(\"user\").count()\n",
    "\n",
    "# Sort the data in descending order based on tweet count\n",
    "top_tweeters = tweet_counts.orderBy(\"count\", ascending=False).limit(20).toPandas()\n",
    "\n",
    "# Plot the bar chart\n",
    "plt.figure(figsize=(12, 6))\n",
    "plt.bar(top_tweeters['user'], top_tweeters['count'])\n",
    "plt.xlabel(\"User\")\n",
    "plt.ylabel(\"Tweet Count\")\n",
    "plt.title(\"Top 20 Tweeters\")\n",
    "plt.xticks(rotation=45, ha='right')\n",
    "plt.tight_layout()\n",
    "plt.show()"
   ]
  },
  {
   "cell_type": "markdown",
   "metadata": {
    "application/vnd.databricks.v1+cell": {
     "cellMetadata": {
      "byteLimit": 2048000,
      "rowLimit": 10000
     },
     "inputWidgets": {},
     "nuid": "38c290b9-a42a-4551-857b-3f461b8a1be6",
     "showTitle": false,
     "title": ""
    }
   },
   "source": [
    "## 5.0 Transform the Bronze Data to Silver Data using a stream\n",
    "- setup a read stream on your bronze delta table\n",
    "- setup a write stream to append to the silver delta table\n",
    "- Use the defined SILVER_CHECKPOINT and SILVER_DELTA paths in the includes\n",
    "- name your bronze to silver stream as silver_stream\n",
    "- transform the bronze data to the silver data using the data definition at the top of the notebook"
   ]
  },
  {
   "cell_type": "code",
   "execution_count": 0,
   "metadata": {
    "application/vnd.databricks.v1+cell": {
     "cellMetadata": {
      "byteLimit": 2048000,
      "rowLimit": 10000
     },
     "inputWidgets": {},
     "nuid": "978a6d5e-61ad-4826-8b42-e76b7ad1591f",
     "showTitle": false,
     "title": ""
    }
   },
   "outputs": [],
   "source": [
    "bronze_stream_df = spark.readStream.format(\"delta\").load(BRONZE_DELTA)"
   ]
  },
  {
   "cell_type": "code",
   "execution_count": 0,
   "metadata": {
    "application/vnd.databricks.v1+cell": {
     "cellMetadata": {
      "byteLimit": 2048000,
      "rowLimit": 10000
     },
     "inputWidgets": {},
     "nuid": "43557398-ea5e-426a-848e-388d4ac60264",
     "showTitle": false,
     "title": ""
    }
   },
   "outputs": [],
   "source": [
    "from pyspark.sql.functions import col, explode, expr, regexp_replace, to_timestamp\n",
    "spark.conf.set(\"spark.sql.legacy.timeParserPolicy\", \"LEGACY\")\n",
    "\n",
    "transformed_stream_df = bronze_stream_df.withColumn(\"timestamp\", to_timestamp(col(\"date\"), \"EEE MMM dd HH:mm:ss z yyyy\"))\n",
    "\n",
    "transformed_stream_df = transformed_stream_df.withColumn(\n",
    "    \"mentions\",\n",
    "    explode(\n",
    "        expr(\"filter(split(text, ' '), token -> token rlike '@[A-Za-z0-9_]+')\")\n",
    "    )\n",
    ")\n",
    "\n",
    "transformed_stream_df = transformed_stream_df.withColumn(\"cleaned_text\", regexp_replace(col(\"text\"), \"@\\\\w+\", \"\"))\n",
    "\n",
    "silver_stream_df = transformed_stream_df.select(\n",
    "    col(\"timestamp\"),\n",
    "    col(\"mentions\").alias(\"mention\"),\n",
    "    col(\"cleaned_text\"),\n",
    "    col(\"sentiment\")\n",
    ")"
   ]
  },
  {
   "cell_type": "code",
   "execution_count": 0,
   "metadata": {
    "application/vnd.databricks.v1+cell": {
     "cellMetadata": {
      "byteLimit": 2048000,
      "rowLimit": 10000
     },
     "inputWidgets": {},
     "nuid": "feca00c2-93f7-41eb-9743-518506e3b60d",
     "showTitle": false,
     "title": ""
    }
   },
   "outputs": [],
   "source": [
    "silver_stream = silver_stream_df.writeStream \\\n",
    "    .format(\"delta\") \\\n",
    "    .outputMode(\"append\") \\\n",
    "    .option(\"checkpointLocation\", SILVER_CHECKPOINT) \\\n",
    "    .option(\"path\", SILVER_DELTA) \\\n",
    "    .option(\"mergeSchema\", \"true\") \\\n",
    "    .queryName(\"silver_stream\") \\\n",
    "    .start()"
   ]
  },
  {
   "cell_type": "markdown",
   "metadata": {
    "application/vnd.databricks.v1+cell": {
     "cellMetadata": {
      "byteLimit": 2048000,
      "rowLimit": 10000
     },
     "inputWidgets": {},
     "nuid": "9ee38aba-e340-4766-8339-71ef2ecfde3a",
     "showTitle": false,
     "title": ""
    }
   },
   "source": [
    "## 6.0 Transform the Silver Data to Gold Data using a stream\n",
    "- setup a read stream on your silver delta table\n",
    "- setup a write stream to append to the gold delta table\n",
    "- Use the defined GOLD_CHECKPOINT and GOLD_DELTA paths defines in the includes\n",
    "- name your silver to gold stream as gold_stream\n",
    "- transform the silver data to the gold data using the data definition at the top of the notebook\n",
    "- Load the pretrained transformer sentiment classifier from the MODEL_NAME at the production level from the MLflow registry\n",
    "- Use a spark UDF to parallelize the inference across your silver data"
   ]
  },
  {
   "cell_type": "code",
   "execution_count": 0,
   "metadata": {
    "application/vnd.databricks.v1+cell": {
     "cellMetadata": {
      "byteLimit": 2048000,
      "rowLimit": 10000
     },
     "inputWidgets": {},
     "nuid": "095e7ad6-50f9-487e-a1cd-3046dcd7adb9",
     "showTitle": false,
     "title": ""
    }
   },
   "outputs": [],
   "source": [
    "silver_stream_df = spark.readStream.format(\"delta\").load(SILVER_DELTA)"
   ]
  },
  {
   "cell_type": "code",
   "execution_count": 0,
   "metadata": {
    "application/vnd.databricks.v1+cell": {
     "cellMetadata": {
      "byteLimit": 2048000,
      "rowLimit": 10000
     },
     "inputWidgets": {},
     "nuid": "6fa2e2d7-bda3-49f2-8218-35bae011e893",
     "showTitle": false,
     "title": ""
    }
   },
   "outputs": [
    {
     "output_type": "stream",
     "name": "stdout",
     "output_type": "stream",
     "text": [
      "/local_disk0/.ephemeral_nfs/envs/pythonEnv-6b41a766-7140-4ba7-8039-238f43008e4c/lib/python3.9/site-packages/mlflow/store/artifact/utils/models.py:32: FutureWarning: ``mlflow.tracking.client.MlflowClient.get_latest_versions`` is deprecated since 2.9.0. Model registry stages will be removed in a future major release. To learn more about the deprecation of model registry stages, see our migration guide here: https://mlflow.org/docs/2.12.2/model-registry.html#migrating-from-stages\n  latest = client.get_latest_versions(name, None if stage is None else [stage])\n"
     ]
    },
    {
     "output_type": "display_data",
     "data": {
      "application/vnd.jupyter.widget-view+json": {
       "model_id": "427ddf2d15c54e92a2e954ce496a1c6d",
       "version_major": 2,
       "version_minor": 0
      },
      "text/plain": [
       "Downloading artifacts:   0%|          | 0/25 [00:00<?, ?it/s]"
      ]
     },
     "metadata": {},
     "output_type": "display_data"
    },
    {
     "output_type": "stream",
     "name": "stdout",
     "output_type": "stream",
     "text": [
      "2024/05/12 14:11:37 INFO mlflow.store.artifact.artifact_repo: The progress bar can be disabled by setting the environment variable MLFLOW_ENABLE_ARTIFACTS_PROGRESS_BAR to false\n2024/05/12 14:11:44 WARNING mlflow.utils.requirements_utils: Detected one or more mismatches between the model's dependencies and the current Python environment:\n - mlflow (current: 2.12.2, required: mlflow==2.11.3)\nTo fix the mismatches, call `mlflow.pyfunc.get_model_dependencies(model_uri)` to fetch the model's environment and install dependencies using the resulting environment file.\n2024/05/12 14:11:44 WARNING mlflow.pyfunc: Calling `spark_udf()` with `env_manager=\"local\"` does not recreate the same environment that was used during training, which may lead to errors or inaccurate predictions. We recommend specifying `env_manager=\"conda\"`, which automatically recreates the environment that was used to train the model and performs inference in the recreated environment.\n"
     ]
    },
    {
     "output_type": "display_data",
     "data": {
      "application/vnd.jupyter.widget-view+json": {
       "model_id": "e6be7f928e8c473ca51e60117eaf5631",
       "version_major": 2,
       "version_minor": 0
      },
      "text/plain": [
       "Downloading artifacts:   0%|          | 0/1 [00:00<?, ?it/s]"
      ]
     },
     "metadata": {},
     "output_type": "display_data"
    },
    {
     "output_type": "stream",
     "name": "stdout",
     "output_type": "stream",
     "text": [
      "2024/05/12 14:11:44 INFO mlflow.models.flavor_backend_registry: Selected backend for flavor 'python_function'\n"
     ]
    }
   ],
   "source": [
    "import mlflow\n",
    "from pyspark.sql.functions import when\n",
    "\n",
    "#production level from the MLflow registry\n",
    "sentiment_analysis_udf = mlflow.pyfunc.spark_udf(spark, \"models:/HF_TWEET_SENTIMENT/Production\")\n",
    "\n",
    "# Use a spark UDF to parallelize the inference across your silver data\n",
    "gold_df = silver_stream_df.withColumn(\"predictions\", sentiment_analysis_udf(col(\"cleaned_text\"))) \n",
    "\n",
    "gold_stream_df = gold_df.select(\n",
    "    col(\"timestamp\"),\n",
    "    col(\"mention\"),\n",
    "    col(\"cleaned_text\"),\n",
    "    col(\"sentiment\"),\n",
    "    col(\"predictions.label\").alias(\"predicted_sentiment\"),\n",
    "    col(\"predictions.score\").alias(\"predicted_score\"),\n",
    "    when(col(\"sentiment\") == \"negative\", 0).otherwise(1).alias(\"sentiment_id\"),\n",
    "    when(col(\"predictions.label\") == \"POS\", 1).when(col(\"predictions.label\") == \"NEG\", 0).otherwise(-1).alias(\"predicted_sentiment_id\")\n",
    ")"
   ]
  },
  {
   "cell_type": "code",
   "execution_count": 0,
   "metadata": {
    "application/vnd.databricks.v1+cell": {
     "cellMetadata": {
      "byteLimit": 2048000,
      "rowLimit": 10000
     },
     "inputWidgets": {},
     "nuid": "d32a3523-99f1-4fd9-b9d0-2377409a1e6d",
     "showTitle": false,
     "title": ""
    }
   },
   "outputs": [],
   "source": [
    "gold_stream = gold_stream_df.writeStream \\\n",
    "    .format(\"delta\") \\\n",
    "    .outputMode(\"append\") \\\n",
    "    .option(\"checkpointLocation\", GOLD_CHECKPOINT) \\\n",
    "    .option(\"path\", GOLD_DELTA) \\\n",
    "    .queryName(\"gold_stream\") \\\n",
    "    .trigger(availableNow=True) \\\n",
    "    .start()"
   ]
  },
  {
   "cell_type": "code",
   "execution_count": 0,
   "metadata": {
    "application/vnd.databricks.v1+cell": {
     "cellMetadata": {
      "byteLimit": 2048000,
      "rowLimit": 10000
     },
     "inputWidgets": {},
     "nuid": "2513eca2-6b98-4b80-a881-8022226dbc52",
     "showTitle": false,
     "title": ""
    }
   },
   "outputs": [
    {
     "output_type": "stream",
     "name": "stdout",
     "output_type": "stream",
     "text": [
      "root\n |-- timestamp: timestamp (nullable = true)\n |-- mention: string (nullable = true)\n |-- cleaned_text: string (nullable = true)\n |-- sentiment: string (nullable = true)\n |-- predicted_sentiment: string (nullable = true)\n |-- predicted_score: double (nullable = true)\n |-- sentiment_id: integer (nullable = false)\n |-- predicted_sentiment_id: integer (nullable = false)\n\n"
     ]
    }
   ],
   "source": [
    "display(gold_stream_df.printSchema())"
   ]
  },
  {
   "cell_type": "markdown",
   "metadata": {
    "application/vnd.databricks.v1+cell": {
     "cellMetadata": {
      "byteLimit": 2048000,
      "rowLimit": 10000
     },
     "inputWidgets": {},
     "nuid": "0494d8b4-5a55-47fc-af12-47325f34a303",
     "showTitle": false,
     "title": ""
    }
   },
   "source": [
    "## 7.0 Capture the accuracy metrics from the gold table in MLflow\n",
    "Store the following in an MLflow experiment run:\n",
    "- Store the precision, recall, and F1-score as MLflow metrics\n",
    "- Store an image of the confusion matrix as an MLflow artifact\n",
    "- Store the model name and the MLflow version that was used as an MLflow parameters\n",
    "- Store the version of the Delta Table (input-silver) as an MLflow parameter"
   ]
  },
  {
   "cell_type": "code",
   "execution_count": 0,
   "metadata": {
    "application/vnd.databricks.v1+cell": {
     "cellMetadata": {
      "byteLimit": 2048000,
      "rowLimit": 10000
     },
     "inputWidgets": {},
     "nuid": "d8ba30ab-6296-4a85-b55b-5713ebca3098",
     "showTitle": false,
     "title": ""
    }
   },
   "outputs": [],
   "source": [
    "gold_data = spark.read.format(\"delta\").load(GOLD_DELTA)"
   ]
  },
  {
   "cell_type": "code",
   "execution_count": 0,
   "metadata": {
    "application/vnd.databricks.v1+cell": {
     "cellMetadata": {
      "byteLimit": 2048000,
      "rowLimit": 10000
     },
     "inputWidgets": {},
     "nuid": "22bbf75d-62a6-4df3-bfeb-e452dd04abbe",
     "showTitle": false,
     "title": ""
    }
   },
   "outputs": [
    {
     "output_type": "stream",
     "name": "stdout",
     "output_type": "stream",
     "text": [
      "/databricks/python/lib/python3.9/site-packages/sklearn/metrics/_classification.py:1248: UndefinedMetricWarning: Recall is ill-defined and being set to 0.0 in labels with no true samples. Use `zero_division` parameter to control this behavior.\n  _warn_prf(average, modifier, msg_start, len(result))\n"
     ]
    },
    {
     "output_type": "display_data",
     "data": {
      "image/png": "[encoded data removed]"
     },
     "metadata": {
      "application/vnd.databricks.v1+output": {
       "addedWidgets": {},
       "arguments": {},
       "data": "data:image/png;base64,iVBORw0KGgoAAAANSUhEUgAAAXIAAAEGCAYAAAB4lx7eAAAAOXRFWHRTb2Z0d2FyZQBNYXRwbG90bGliIHZlcnNpb24zLjQuMywgaHR0cHM6Ly9tYXRwbG90bGliLm9yZy/MnkTPAAAACXBIWXMAAAsTAAALEwEAmpwYAAAf8UlEQVR4nO3debxd873/8dfbiSEihhhCIlcojaaDIJdU8UAIUqpUEb0tDaL9GTv8UHpLtW711lDTLSEpWlNbSRuzI3WluVUZCCKJG7MMkiqaEMI553P/WOuwHXvvs07s4ayd99NjPfZa3zV9zsbnfM93fdf3q4jAzMzya416B2BmZh+PE7mZWc45kZuZ5ZwTuZlZzjmRm5nlXI96B1DKGQNHuTtNlV0w44J6h7Ba6Nlvj3qH0PBa3l2oj3uN9159LnPOWXOTbT72/Sqp2yZyM7OaamutdwSrzInczAwg2uodwSpzIjczA2irTCKXNAC4EegLBDA2Ii6TdBswKD1sQ+CNiBhS5PwXgOVAK9ASEUM7u6cTuZkZEJWrkbcA34uIRyX1BmZKao6II9sPkHQx8M8y19g7Il7NekMncjMzgNaWilwmIhYDi9P15ZLmAv2BOQCSBBwB7FORG+Luh2ZmibbWzIukMZJmFCxjil1S0kBgR+CRguI9gCURMb9EJAHcL2lmqet25Bq5mRl06WFnRIwFxpY7RtJ6wO3A6RGxrGDXKOCWMqfuHhELJW0GNEuaFxFTyt3LidzMDCr2sBNA0pokSfymiJhQUN4DOAzYudS5EbEw/VwqaSKwC1A2kbtpxcyM5GFn1qWctA18HDA3Ii7psHtfYF5ELChxbq/0ASmSegEjgNmdxe5EbmYGSY0861LeF4CvA/tImpUuI9N9R9GhWUVSP0l3p5t9gamSHgemAXdFxL2d3dBNK2ZmAK3vVeQyETEVKPoKf0QcW6RsETAyXX8O2KGr93QiNzMDv9lpZpZ7FXzYWWtO5GZm4Bq5mVnuuUZuZpZv0VaZh5314ERuZgaukZuZ5Z7byM3Mcs4zBJmZ5Zxr5GZmOec2cjOznKvQxBL14ERuZgaukZuZ5V2EH3aameWba+RmZjnnXitmZjnnGrmZWc6514qZWc7luGnFc3aamUHF5uyUNEDSg5LmSHpK0mlp+XmSFhaZx7Pj+QdIelrSM5LOyhK6a+RmZlDJNvIW4HsR8aik3sBMSc3pvksj4qJSJ0pqAq4C9gMWANMlTYqIOeVu6ERuZgYVa1qJiMXA4nR9uaS5QP+Mp+8CPJNOwoykW4FDgLKJ3E0rZmaQPOzMuEgaI2lGwTKm2CUlDQR2BB5Ji06W9ISk8ZI2KnJKf+Dlgu0FZPgl4ERuZgZdaiOPiLERMbRgGdvxcpLWA24HTo+IZcCvgE8AQ0hq7BdXKnQ3rZiZQUV7rUhakySJ3xQREwAiYknB/muBO4ucuhAYULC9ZVpWlmvkZmZQyV4rAsYBcyPikoLyLQoOOxSYXeT06cB2kraWtBZwFDCps9BdIzczg0r2WvkC8HXgSUmz0rKzgVGShgABvACcCCCpH3BdRIyMiBZJJwP3AU3A+Ih4qrMbOpGbmQFEVOgyMRVQkV13lzh+ETCyYPvuUseW4kRuZgbQ4lf0zczyLcev6DuRm5mBRz80M8u9CrWR14MTuZkZuEZuZpZ7TuRmZvkWrZ582cws31wjNzPLOXc/NDPLuTb3WjEzyzc3rZiZ5Zwfdq5+vvqfJ/KpfXbkzX8s45L9z/jQvj2P/yIH/fDfOG/HMax4fXmdIsy/xUv+ztk/uYh/vP46Qhx+yIF8/YgvM+9/n+X8X1zBynffo6mpiX///kl8dvCgeofbEE479QRGjx5FRDB79jyOO/67rFy5st5h1UaOa+Qej3wVzfjDQ4w75sKPlG+wRR+22/OzvL7g73WIqrH0aGri/59yApNuGsvNYy/l1gl38uzzL3Lxf43j26O/xu03XMXJx/8bF//XuHqH2hD69duck08aza7DRjJkx+E0NTVx5BGH1Dus2mmL7Es340S+ip6fNo8V/3zzI+UH//s3uPtnN9P9/lXnz6ab9GHwoG0B6NVrXbbZagBL/v4PJPHmWysAePOtFWy2ycb1DLOh9OjRg54916GpqYl1e/Zk8eJX6h1S7URb9qWbqVrTiqTtSWZ/bp84dCEwKSLmVuue9TZ4v51ZtuQ1Fs99qd6hNJyFi5cwd/6zfO7TgzjztBM58bs/5KKrriPagt9eU7GpD1drixa9wiWXXs3zz07j7bffofmBh2h+YEq9w6qdbljTzqoqNXJJZwK3kgyuPi1dBNwi6awy570/M/Xjy5+pRmhVs+Y6a7HPSV/m/kt+X+9QGs6KFW/znXN+ypmnnsh6vXpx28S7OPOUMUye+BvOOHUMP/rZL+sdYkPYcMMN+NLB+7PtJ4cxYKud6NVrXY4++rB6h1Uz0daWeeluqtW0chzwrxFxYUT8Nl0uBHZJ9xVVODP1Dr23rVJo1bHxVn3ps+WmnH7Pzzlr6uVssHkfTrvzP1hv0w3qHVquvdfSwunn/JQvjtib/fb6AgCT7nmAfdP1/ffZgyfnPF3PEBvG8OF78PwLL/Hqq6/R0tLCxD/ew+eHDa13WLXT2pp96Waq1bTSBvQDXuxQvkW6r+G88vTLnD/0W+9vnzX1ci4/+Bz3WvkYIoIf/eyXbLPVAI456oOa4aabbMz0x55kl50+xyMzZ7HVgP5lrmJZvfzSQnbddSd69lyHt99+h3323p2ZMx+vd1i1U6GmFUkDgBuBviTzc46NiMsk/QI4GHgXeBb4ZkS8UeT8F4DlQCvQEhGd/jatViI/HZgsaT7wclr2L8C2wMlVumdNHX35KWwz7FP02qg3Zz98Jc2X/oHpv/vveofVUB574inuuHcy231iIF855iQATjvxGH585qlceNk1tLS2svZaa3HuGafWOdLGMG36Y0yYcBfTp91HS0sLs2Y9xbXX3VTvsGqnck0mLcD3IuJRSb2BmZKagWbgB+kEyz8HfgCcWeIae0fEq1lvqKjSYOqS1iBpSil82Dk9IjL9XXLGwFH5ffKQExfMuKDeIawWevbbo94hNLyWdxcWm+y4S9760VGZc06v82/NfD9JfwKujIjmgrJDgcMj4mtFjn8BGNqVRF61XisR0Qb8rVrXNzOrqC50K5Q0BhhTUDQ2IsYWOW4gsCPwSIddo4HbSkUC3C8pgGuKXbcjv9lpZgZdaiNPk2vZBCtpPeB24PSIWFZQfg5J80updqvdI2KhpM2AZknzIqJsP1AncjMzIFoq1xtF0pokSfymiJhQUH4scBAwPEq0a0fEwvRzqaSJJE3UZRO53+w0M4OKvaIvScA4YG5EXFJQfgBwBvCliFhR4txe6QNSJPUCRgCzOwvdNXIzM6jkq/dfAL4OPClpVlp2NnA5sDZJcwnA3yLiW5L6AddFxEiSLosT0/09gJsj4t7ObuhEbmYGFetHHhFTSd5k7+juEscvAkam688BO3T1nk7kZmZA5HisFSdyMzOACj7srLVOH3ZKmpylzMws13I8HnnJGrmkdYB1gU0kbcQHbT7r88HbmmZmjaEbJuisyjWtnEgyZko/YCYfJPJlwJXVDcvMrLaqNVxJLZRM5BFxGXCZpFMi4ooaxmRmVnsNWiMHICKukLQbMLDw+Ii4sYpxmZnVViMnckm/AT4BzCIZHxeSQV2cyM2sYURLfqdKyNL9cCgwuNS4AGZmDSG/eTxTIp8NbA4srnIsZmZ10+gvBG0CzJE0DVjZXhgRX6paVGZmtdbgify8agdhZlZ3jdy0EhEPSdoK2C4iHpC0LtBU/dDMzGqnoZtWJJ1AMqVRH5LeK/2Bq4Hh1Q3NzKx2oiW/iTzLxBInkYyvuwwgIuYDm1UzKDOzmmvrwtLNZGkjXxkR76YDnSOpB0k/cjOzhlG5eSVqL0uN/CFJZwM9Je0H/B64o7phmZnVWI5r5FkS+VnA34EnSQbSuhv4YTWDMjOrtWjLvnQ3nSbyiGiLiGsj4qsRcXi67qYVM2so0ZJ9KUfSAEkPSpoj6SlJp6XlfSQ1S5qffm5U4vxj0mPmSzomS+xZJpY4SNJjkl6TtEzScknLslzczCwvKlgjbwG+FxGDgWHASZIGk7RuTI6I7YDJ6faHSOoDnAvsCuwCnFsq4RfK0rTyS+AYYOOIWD8iekfE+hnOMzPLjUol8ohYHBGPpuvLgbkk3bYPAW5ID7sB+HKR0/cHmiPitYh4HWgGDugs9iyJ/GVgtptTzKyhhTIvksZImlGwjCl2SUkDgR2BR4C+EdE+ZtUrQN8ip/QnybntFpBhRrYs3Q/PAO6W9BAfHmvlkgznmpnlQlceYkbEWGBsuWMkrQfcDpweEcvau3Cn54ekilWOs9TILwBWAOsAvQsWM7OGEW3KvHRG0pokSfymiJiQFi+RtEW6fwtgaZFTFwIDCra3TMvKylIj7xcRn8lwnJlZbrW1dp6gs1BS9R4HzO3QcjGJ5Hnjhennn4qcfh/wHwUPOEcAP+jsnllq5HdLGpHhODOz3Kpgr5UvAF8H9pE0K11GkiTw/STNB/ZNt5E0VNJ1ABHxGvATYHq6nJ+WlZWlRv5t4PuSVgLvAUru554rZtY4sjSZZLpOxFSSPFnMRwYbjIgZwPEF2+OB8V25Z5ZhbN0ebmYNL8/98komcknbR8Q8STsV29/eT9LMrBFUqkZeD+Vq5N8lGYf84iL7AtinKhGZmdVBpR521kPJRB4R7R3cD4yIdwr3SVqnqlGZmdVYnmvkWXqt/DVjmZlZbkUo89LdlGsj35zk1dCeknbkg6ew6wPr1iA2M7Oa6Y7D02ZVro18f+BYkjeLCju1LwfOrmJMZmY119YNa9pZlWsjvwG4QdJXIuL2GsZkZlZz3bHJJKssLwTdKeloYGDh8RFxfrWCMjOrtYbstVLgT8A/gZkUjH5oZtZI8txrJUsi3zIiOh3Y3Mwsz/LcRp6p+6Gkz1Y9EjOzOmrI7ocFdgeOlfQ8SdNK+6BZn6tqZGZmNdSQY60UOLDqUZiZ1VlDN61ExIskM1bsk66vyHKemVmetLUp89LddFojl3QuMBQYBPwaWBP4Lcng6WZmDSHPNfIsTSuHkswC/ShARCySVPUxyi9ZNKXat1jtXdJvj3qHsFoYv+ne9Q7BMuiODzGzypLI3y2c8VlSryrHZGZWc41eI/+dpGuADSWdAIwGrq1uWGZmtVXJTiuSxgMHAUvbJ6+XdBtJEzXAhsAbETGkyLkvkIxp1Qq0RMTQzu6XZaq3iyTtBywDPgn8KCKas/wwZmZ50dpW0T4c1wNXAje2F0TEke3rki4meWO+lL0j4tWsN8tSIycimiU9CuwJdDqjs5lZ3lRyFNuImCJpYLF9kgQcQQVnWSv5K0jSnZLa/yTYAphN0qzyG0mnVyoAM7PuIFDm5WPaA1gSEfNLhgL3S5opaUyJYz6kXI1864iYna5/E2iOiG+kPVb+B/hlxqDNzLq9ti40kqcJtjDJjo2IsRlPHwXcUmb/7hGxUNJmQLOkeRFRthtfuUT+XsH6cNIHnBGxXFKO59IwM/uoti7UtNOknTVxv09SD+AwYOcy116Yfi6VNBHYBSibyMu17r8s6RRJhwI7AfemgfQkeSnIzKxh1KhpZV9gXkQsKLZTUq/293TSrt4jSJq1yyqXyI8DPk0y3duREfFGWj6M5A1PM7OG0YoyL52RdAvwMDBI0gJJx6W7jqJDs4qkfpLuTjf7AlMlPQ5MA+6KiHs7u1+5qd6WAt8qUv4g8GCnP4mZWY5UuNfKqBLlxxYpWwSMTNefA3bo6v0ydT80M2t0eX7w50RuZgaV6FZYN07kZmZANxydNrOSiVzSFZQZfiAiTq1KRGZmddCV7ofdTbka+YyaRWFmVmet9Q7gYyjXa+WGWgZiZlZPbWrMGjkAkjYFzgQGA+u0l0dExQZ8MTOrtxzPvZxp7s2bgLnA1sCPgReA6VWMycys5tq6sHQ3WRL5xhExDngvIh6KiNFUcPhFM7PuoE3Zl+4mS/fD9sGzFkv6IrAI6FO9kMzMai/Lq/fdVZZE/lNJGwDfA64A1ge+U9WozMxqrDvWtLPKMtXbnenqPwFPB25mDak7tn1nlaXXyq8p8kA3bSs3M2sIee61kqVp5c6C9XWAQ0nayc3MGkajN63cXridjrM7tWoRmZnVQUM3rRSxHbBZpQMxM6un1kaukUtazoebj14hedPTzKxhNHSNPCJ61yIQM7N6ynMi7/TNTkmTs5SZmeVZdGHpbkomcknrSOoDbCJpI0l90mUg0L9mEZqZ1UAlX9GXNF7SUkmzC8rOk7RQ0qx0GVni3AMkPS3pGUlnZYm9XNPKicDpQD9gJrz//uoy4MosFzczy4sKN61cT5Inb+xQfmlEXFTqJElNwFXAfsACYLqkSRExp9zNyo1HfhlwmaRTIuKKjMGbmeVSJSeWiIgpaetFV+0CPBMRzwFIuhU4BCibyLOMftgmacP2jbSZ5f+tQoBmZt1WV5pWJI2RNKNgGZPxNidLeiJtetmoyP7+wMsF2wvI0JSdJZGfEBFvtG9ExOvACRnOMzPLja6MRx4RYyNiaMEyNsMtfgV8AhgCLAYurlTsWRJ5k/TBHEhpG85alQrAzKw7qHavlYhYEhGtEdEGXEvSjNLRQmBAwfaWaVlZWRL5vcBtkoZLGg7ckpaZmTWMNiLzsiokbVGweSgwu8hh04HtJG0taS3gKGBSZ9fO8or+mcAY4NvpdjPJbxMzs4ZRyYed6ZhUe5F0314AnAvsJWkISaX+BZKegUjqB1wXESMjokXSycB9QBMwPiKe6ux+Wd7sbAOuThck7UEywcRJXf3hzMy6q0p2P4yIUUWKx5U4dhEwsmD7buDurtwv06BZknYERgFHAM8DE7pyEzOz7q4hh7GV9EmS5D0KeBW4DVBEeJYgM2s4q9r23R2Uq5HPA/4CHBQRzwBI8lydZtaQ8pvGy/daOYykr+ODkq5Ne6zk+I8PM7PSutKPvLspmcgj4o8RcRSwPfAgybgrm0n6laQRNYrPzKwmWonMS3fTaT/yiHgrIm6OiINJOqc/hieWMLMGk+caeZemektfzx+bLmZmDaNRH3aama028pvGncjNzIDu2WSSlRO5mRl0y4eYWTmRm5nhNvLV3mmnnsDo0aOICGbPnsdxx3+XlStX1jushuPvufJ2u/gE+u87hHdeXcYdw3/wfvn239yPQcfuR7S2sWDyLB694NY6Rlkb+U3j2YaxtTL69duck08aza7DRjJkx+E0NTVx5BGH1DushuPvuTqe+d0UJn/tFx8q67vbpxiw/87csd/ZTNrnLOZc3aXxm3Kr2sPYVpMTeQX06NGDnj3XoampiXV79mTx4lfqHVJD8vdceUsfeZqVb7z5obJB39iX2VfdQdu7LQC8849l9Qit5vLcj9yJ/GNatOgVLrn0ap5/dhoLXnqMfy5bRvMDU+odVsPx91w762+zOZvtMogD7ziPEX84h4132KbeIdVEdOGf7qbmiVzSN8vse39C07a2t2oZ1irbcMMN+NLB+7PtJ4cxYKud6NVrXY4++rB6h9Vw/D3XjprWYO0N1+Oeg89j5k9vYc+rT653SDXR0K/oV8GPS+0onNB0jTV61TKmVTZ8+B48/8JLvPrqa7S0tDDxj/fw+WFD6x1Ww/H3XDsrFr/Oi/dMB+Afs56DtmDtPr3rHFX15blppSq9ViQ9UWoX0Lca96yXl19ayK677kTPnuvw9tvvsM/euzNz5uP1Dqvh+HuunZfvm8Hmuw1myV/n0nubzVljrR6sfG15vcOqurbofjXtrKrV/bAvsD/weodyAX+t0j3rYtr0x5gw4S6mT7uPlpYWZs16imuvu6neYTUcf8/VscdVJ9H3859inT7r8ZUZl/P4RbfzzK0PsdvFYzh48s9oe6+V/zn9mnqHWROVTOOSxgMHAUsj4jNp2S+Ag4F3gWeBb0bEG0XOfQFYTjKNaEtEdPqnp6IKv4UkjQN+HRFTi+y7OSKO7uwaPdbqn99fj2YFxm/qSbWq7RsLf/ux50o4eqtDM+ecm1+cWPZ+kvYE3gRuLEjkI4A/pxMs/xwgIj4ykmyayIdGxKtZ46lKjTwijiuzr9MkbmZWa5XsjRIRUyQN7FB2f8Hm34DDK3U/dz80MwNaiMxLYQ+7dBnTxduNBu4psS+A+yXNzHpdv6JvZkbXauQRscrzMkg6B2gBSj3k2T0iFkraDGiWNC8iyr404Rq5mRm16X4o6ViSh6BfixIPKCNiYfq5FJgI7NLZdZ3IzcyAiMi8rApJBwBnAF+KiBUljuklqXf7OjACmN3ZtZ3Izcyo7KBZkm4BHgYGSVog6TjgSqA3SXPJLElXp8f2k9Q+MllfYKqkx4FpwF0RcW9n93MbuZkZlZ1YIiJGFSkeV+LYRcDIdP05YIeu3s+J3MwMTyxhZpZ71Xg5slacyM3M6J6DYWXlRG5mRmXf7Kw1J3IzM9xGbmaWe62R38YVJ3IzM9y0YmaWe55Ywsws5/Kbxp3IzcwAP+w0M8s9J3Izs5xzrxUzs5xzrxUzs5zzWCtmZjnnNnIzs5xzjdzMLOdaczz+oRO5mRn5frPTc3aamZH0Wsn6T2ckjZe0VNLsgrI+kpolzU8/Nypx7jHpMfMlHZMldidyMzOSGnnWJYPrgQM6lJ0FTI6I7YDJ6faHSOoDnAvsCuwCnFsq4RdyIjczo7I18oiYArzWofgQ4IZ0/Qbgy0VO3R9ojojXIuJ1oJmP/kL4CLeRm5nRtTZySWOAMQVFYyNibCen9Y2Ixen6K0DfIsf0B14u2F6QlpXlRG5mRtde0U+TdmeJu9z5IaliT1fdtGJmRmWbVkpYImkLgPRzaZFjFgIDCra3TMvKciI3MwMi2jIvq2gS0N4L5RjgT0WOuQ8YIWmj9CHniLSsLCdyMzOSV/SzLp2RdAvwMDBI0gJJxwEXAvtJmg/sm24jaaik6wAi4jXgJ8D0dDk/LSvLbeRmZlT2Ff2IGFVi1/Aix84Aji/YHg+M78r9nMjNzPCgWWZmudfa5rFWzMxyzRNLmJnlnIexNTPLObeRm5nlnGvkZmY554edZmY556YVM7Occ9OKmVnO5XmqNydyMzPcj9zMLPdcIzczy7m2VR+etu6cyM3M8MNOM7PccyI3M8u5/KZxUJ5/C3U3ksZkmEnbPgZ/x9Xn7zh/PNVbZY2pdwCrAX/H1efvOGecyM3Mcs6J3Mws55zIK8vtitXn77j6/B3njB92mpnlnGvkZmY550RuZpZzTuQVIGl7SQ9LWinp+/WOp1FJOkDS05KekXRWveNpNJLGS1oqaXa9Y7GucSKvjNeAU4GL6h1Io5LUBFwFHAgMBkZJGlzfqBrO9cAB9Q7Cus6JvAIiYmlETAfeq3csDWwX4JmIeC4i3gVuBQ6pc0wNJSKmkFRKLGecyC0v+gMvF2wvSMvMVntO5GZmOedEvooknSRpVrr0q3c8q4GFwICC7S3TMrPVnhP5KoqIqyJiSLosqnc8q4HpwHaStpa0FnAUMKnOMZl1C36zswIkbQ7MANYH2oA3gcERsayugTUYSSOBXwJNwPiIuKC+ETUWSbcAewGbAEuAcyNiXF2DskycyM3Mcs5NK2ZmOedEbmaWc07kZmY550RuZpZzTuRmZjnnRL6akNSavrw0W9LvJa37Ma51vaTD0/Xryg1eJWkvSbutwj1ekLRJkfLRkp6U9ET6s6zSeCuSBko6umB7qKTLV+VaXbjnkLQLpVlFOZGvPt5OX176DPAu8K3CnZJ6rMpFI+L4iJhT5pC9gC4n8mIkbQmcA+weEZ8DhgFPrOLlBgLvJ/KImBERp37sIMsbAjiRW8U5ka+e/gJsm9aW/yJpEjBHUpOkX0iantZ4TwRQ4sp0LPAHgM3aLyTpvyUNTdcPkPSopMclTZY0kOQXxnfSvwb2kLSppNvTe0yX9IX03I0l3S/pKUnXASoS92bAcpIXroiINyPi+fT8T0i6V9LM9GfaPi2/XtLlkv4q6bn2vySAC4E90ri+k34Xd6bnnCfphvQ6L0o6TNJ/pn8J3CtpzfS4nSU9lN7zPklbFHwnP5c0TdL/pj/3WsD5wJHpPY+s1L9MMyLCy2qwAG+mnz2APwHfJqktvwVsne4bA/wwXV+b5G3VrYHDgGaSNyr7AW8Ah6fH/TcwFNiUZHTC9mv1ST/PA75fEMfNJDVqgH8B5qbrlwM/Ste/CASwSYefoQm4D3gJ+DVwcMG+ycB26fquwJ/T9euB35NUWgaTDIVL+rPfWXD++9tpzFOBNYEdgBXAgem+icCX031/BTZNy48kedu0/Tu5OF0fCTyQrh8LXFnv/xa8NN6ySn9OWy71lDQrXf8LMI6kyWNapLVaYATwuYJa6wbAdsCewC0R0QoskvTnItcfBkxpv1ZElBrXel9gsPR+hXt9Seul9zgsPfcuSa93PDEiWiUdAPwrMBy4VNLOJBN67Ab8vuC6axec+seIaCP5q6Nvibg6uici3pP0JMkvkHvT8idJmmUGAZ8BmtN7NgGLC86fkH7OTI83qxon8tXH2xExpLAgTUBvFRYBp0TEfR2Oq2S77hrAsIh4p0gsnYqIAKYB0yQ1k9TMLwHe6PjzFVhZeKuMca5M79cm6b30vpCMpdMjvc5TEfH5Tu7Ziv8/sypzG7kVug/4dkEb8Ccl9QKmkLTtNqXtwHsXOfdvwJ6Stk7P7ZOWLwd6Fxx3P3BK+4akIenqFNKHj5IOBDbqeANJ/STtVFA0BHgxksHJnpf01fQ4Sdqhk5+1Y1xd9TSwqaTPp/dcU9Knq3xPs6KcyK3QdcAc4FElE/BeQ1KbnAjMT/fdCDzc8cSI+DtJG/sESY8Dt6W77gAObX/YSTK36dD0YeocPug982OSXwRPkTSxvFQkvjWBiyTNS5uJjgROS/d9DTguvfdTdD4N3BNAa/pg9judHPsRkUw3dzjw8/Ses+i8d86DJM1KfthpFeXRD83Mcs41cjOznHMiNzPLOSdyM7OccyI3M8s5J3Izs5xzIjczyzkncjOznPs/n8niPsMIQYMAAAAASUVORK5CYII=\n",
       "datasetInfos": [],
       "metadata": {},
       "removedWidgets": [],
       "type": "image"
      }
     },
     "output_type": "display_data"
    }
   ],
   "source": [
    "import seaborn as sns\n",
    "import pandas as pd\n",
    "from delta.tables import DeltaTable\n",
    "\n",
    "with mlflow.start_run(run_name = \"Twitter_Sentiment_Analysis\") as run:\n",
    "    class_labels = [\"neutral\", \"negative\", \"positive\"]\n",
    "\n",
    "    actual_sentiments = gold_data.select(\"sentiment_id\").toPandas()[\"sentiment_id\"]\n",
    "    predicted_sentiments = gold_data.select(\"predicted_sentiment_id\").toPandas()[\"predicted_sentiment_id\"]\n",
    "\n",
    "    precisions = precision_score(actual_sentiments, predicted_sentiments, average=None)\n",
    "    recalls = recall_score(actual_sentiments, predicted_sentiments, average=None)\n",
    "    f1_scores = f1_score(actual_sentiments, predicted_sentiments, average=None)\n",
    "\n",
    "    for sentiment, precision, recall, f1_score_value in zip(class_labels, precisions, recalls, f1_scores):\n",
    "        mlflow.log_metric(f\"precision_{sentiment}\", precision)\n",
    "        mlflow.log_metric(f\"recall_{sentiment}\", recall)\n",
    "        mlflow.log_metric(f\"f1_score_{sentiment}\", f1_score_value)\n",
    "\n",
    "    cf_matrix = pd.crosstab(actual_sentiments, predicted_sentiments, dropna = True)\n",
    "\n",
    "    plt.figure(figsize=(6, 4))\n",
    "    sns.heatmap(cf_matrix, annot=True, fmt='g')\n",
    "    plt.xlabel(\"Predicted Sentiment\")\n",
    "    plt.ylabel(\"Actual Sentiment\")\n",
    "    plt.savefig(\"confusion_matrix.png\")\n",
    "\n",
    "    mlflow.log_artifact(\"confusion_matrix.png\")\n",
    "\n",
    "    mlflow.log_param(\"Model Name\", MODEL_NAME)\n",
    "    mlflow.log_param(\"Model Version\", \"1\")\n",
    "    \n",
    "    \n",
    "    delta_table = DeltaTable.forPath(spark, SILVER_DELTA)\n",
    "    table_version = delta_table.history().select(\"version\").limit(1).collect()[0][0]\n",
    "\n",
    "    mlflow.log_param(\"Silver Table Version\", str(table_version))"
   ]
  },
  {
   "cell_type": "markdown",
   "metadata": {
    "application/vnd.databricks.v1+cell": {
     "cellMetadata": {
      "byteLimit": 2048000,
      "rowLimit": 10000
     },
     "inputWidgets": {},
     "nuid": "81e0e2de-b872-4698-81cc-1669646c2183",
     "showTitle": false,
     "title": ""
    }
   },
   "source": [
    "## 8.0 Application Data Processing and Visualization\n",
    "- How many mentions are there in the gold data total?\n",
    "- Count the number of neutral, positive and negative tweets for each mention in new columns\n",
    "- Capture the total for each mention in a new column\n",
    "- Sort the mention count totals in descending order\n",
    "- Plot a bar chart of the top 20 mentions with positive sentiment (the people who are in favor)\n",
    "- Plot a bar chart of the top 20 mentions with negative sentiment (the people who are the vilians)\n",
    "\n",
    "You may want to use the \"Loop Application\" widget to control whether you repeateded display the latest plots while the data comes in from your streams before moving on to the next section and cleaning up your run.\n",
    "\n",
    "*note: A mention is a specific twitter user that has been \"mentioned\" in a tweet with an @user reference."
   ]
  },
  {
   "cell_type": "code",
   "execution_count": 0,
   "metadata": {
    "application/vnd.databricks.v1+cell": {
     "cellMetadata": {
      "byteLimit": 2048000,
      "rowLimit": 10000
     },
     "inputWidgets": {},
     "nuid": "0210b104-5470-4446-ad1f-2063e652bff9",
     "showTitle": false,
     "title": ""
    }
   },
   "outputs": [
    {
     "output_type": "stream",
     "name": "stdout",
     "output_type": "stream",
     "text": [
      "Total number of mentions in the gold data: 82\n"
     ]
    }
   ],
   "source": [
    "# Count the total number of mentions in the gold data\n",
    "total_mentions = gold_data.count()\n",
    "print(\"Total number of mentions in the gold data:\", total_mentions)"
   ]
  },
  {
   "cell_type": "code",
   "execution_count": 0,
   "metadata": {
    "application/vnd.databricks.v1+cell": {
     "cellMetadata": {
      "byteLimit": 2048000,
      "rowLimit": 10000
     },
     "inputWidgets": {},
     "nuid": "df2d7cfc-4252-4998-bebd-401f2be9f08d",
     "showTitle": false,
     "title": ""
    }
   },
   "outputs": [
    {
     "output_type": "stream",
     "name": "stdout",
     "output_type": "stream",
     "text": [
      "+-------------------+--------------+--------------+-------------+-----------+\n|            mention|Positive_Count|Negative_Count|Neutral_Count|Total_Count|\n+-------------------+--------------+--------------+-------------+-----------+\n|       @skytumbling|             2|             0|            0|          2|\n|          @sumrtime|             2|             0|            0|          2|\n|       @KevinSpacey|             2|             0|            0|          2|\n|        @ginalouann|             0|             0|            2|          2|\n|         @amyprutch|             0|             2|            0|          2|\n|         @dolceshan|             0|             2|            0|          2|\n|        @echobase77|             0|             0|            2|          2|\n|        @crazykaren|             2|             0|            0|          2|\n|     @justincavazos|             0|             0|            2|          2|\n|          @honey01,|             2|             0|            0|          2|\n|jayseto@KevinSpacey|             2|             0|            0|          2|\n|        @Bluecherub|             2|             0|            0|          2|\n|       @myrandalove|             0|             2|            0|          2|\n|             @dX927|             0|             2|            0|          2|\n|      @pranav_teegs|             0|             2|            0|          2|\n|      @nikkighurl14|             0|             0|            2|          2|\n|    @MsAmeliaBadila|             0|             2|            0|          2|\n|        @iantalbot:|             2|             0|            0|          2|\n|        @stephenfry|             0|             0|            2|          2|\n|             @pauIy|             2|             0|            0|          2|\n+-------------------+--------------+--------------+-------------+-----------+\nonly showing top 20 rows\n\n"
     ]
    }
   ],
   "source": [
    "# Aggregate the data\n",
    "\n",
    "mention_sentiment_counts = gold_data.groupBy(\"mention\").agg(\n",
    "    count(when(col(\"predicted_sentiment\") == \"POS\", 1)).alias(\"Positive_Count\"),\n",
    "    count(when(col(\"predicted_sentiment\") == \"NEG\", 0)).alias(\"Negative_Count\"),\n",
    "    count(when(col(\"predicted_sentiment\") == \"NEU\", -1)).alias(\"Neutral_Count\"),\n",
    "    count(\"*\").alias(\"Total_Count\")\n",
    ")\n",
    "\n",
    "# Sort by total count in descending order\n",
    "sorted_mention_counts = mention_sentiment_counts.orderBy(col(\"Total_Count\").desc())\n",
    "sorted_mention_counts.show()"
   ]
  },
  {
   "cell_type": "code",
   "execution_count": 0,
   "metadata": {
    "application/vnd.databricks.v1+cell": {
     "cellMetadata": {
      "byteLimit": 2048000,
      "rowLimit": 10000
     },
     "inputWidgets": {},
     "nuid": "0d6f3867-b5a7-480b-90a9-406c2c051b29",
     "showTitle": false,
     "title": ""
    }
   },
   "outputs": [],
   "source": [
    "#Extract the top 20 mentions for both positive and negative sentiments.\n",
    "\n",
    "top_positive_mentions = sorted_mention_counts.orderBy(col(\"Positive_Count\").desc()).limit(20)\n",
    "\n",
    "top_negative_mentions = sorted_mention_counts.orderBy(col(\"Negative_Count\").desc()).limit(20)\n",
    "\n",
    "top_positive_mentions_data = top_positive_mentions.toPandas()\n",
    "top_negative_mentions_data = top_negative_mentions.toPandas()"
   ]
  },
  {
   "cell_type": "code",
   "execution_count": 0,
   "metadata": {
    "application/vnd.databricks.v1+cell": {
     "cellMetadata": {
      "byteLimit": 2048000,
      "rowLimit": 10000
     },
     "inputWidgets": {},
     "nuid": "e4d03c6b-4601-4a54-9e6c-b83853d62c7d",
     "showTitle": false,
     "title": ""
    }
   },
   "outputs": [
    {
     "output_type": "display_data",
     "data": {
      "image/png": "[encoded data removed]"
     },
     "metadata": {
      "application/vnd.databricks.v1+output": {
       "addedWidgets": {},
       "arguments": {},
       "data": "data:image/png;base64,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\n",
       "datasetInfos": [],
       "metadata": {},
       "removedWidgets": [],
       "type": "image"
      }
     },
     "output_type": "display_data"
    },
    {
     "output_type": "display_data",
     "data": {
      "image/png": "[encoded data removed]"
     },
     "metadata": {
      "application/vnd.databricks.v1+output": {
       "addedWidgets": {},
       "arguments": {},
       "data": "data:image/png;base64,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\n",
       "datasetInfos": [],
       "metadata": {},
       "removedWidgets": [],
       "type": "image"
      }
     },
     "output_type": "display_data"
    }
   ],
   "source": [
    "# Plot for top 20 positive mentions\n",
    "plt.figure(figsize=(12, 8))\n",
    "plt.bar(top_positive_mentions_data['mention'], top_positive_mentions_data['Positive_Count'], color='green')\n",
    "plt.xlabel('Mentions')\n",
    "plt.ylabel('Count of Positive Mentions')\n",
    "plt.title('Top 20 Mentions with Positive Sentiment')\n",
    "plt.xticks(rotation=45)\n",
    "plt.tight_layout()\n",
    "plt.show()\n",
    "\n",
    "# Plot for top 20 negative mentions\n",
    "plt.figure(figsize=(12, 8))\n",
    "plt.bar(top_negative_mentions_data['mention'], top_negative_mentions_data['Negative_Count'], color='red')\n",
    "plt.xlabel('Mentions')\n",
    "plt.ylabel('Count of Negative Mentions')\n",
    "plt.title('Top 20 Mentions with Negative Sentiment')\n",
    "plt.xticks(rotation=45)\n",
    "plt.tight_layout()\n",
    "plt.show()"
   ]
  },
  {
   "cell_type": "markdown",
   "metadata": {
    "application/vnd.databricks.v1+cell": {
     "cellMetadata": {
      "byteLimit": 2048000,
      "rowLimit": 10000
     },
     "inputWidgets": {},
     "nuid": "5d5add3f-0c13-4d81-86d8-12cf3cfdd2c8",
     "showTitle": false,
     "title": ""
    }
   },
   "source": [
    "## 9.0 Clean up and completion of your pipeline\n",
    "- using the utilities what streams are running? If any.\n",
    "- Stop all active streams\n",
    "- print out the elapsed time of your notebook."
   ]
  },
  {
   "cell_type": "code",
   "execution_count": 0,
   "metadata": {
    "application/vnd.databricks.v1+cell": {
     "cellMetadata": {
      "byteLimit": 2048000,
      "rowLimit": 10000
     },
     "inputWidgets": {},
     "nuid": "0304e685-c26e-447d-b230-c37266f30003",
     "showTitle": false,
     "title": ""
    }
   },
   "outputs": [],
   "source": [
    "# ENTER YOUR CODE HERE\n",
    "#To find the active streams, use the spark.streams.active property in Spark\n",
    "active_streams = spark.streams.active"
   ]
  },
  {
   "cell_type": "code",
   "execution_count": 0,
   "metadata": {
    "application/vnd.databricks.v1+cell": {
     "cellMetadata": {
      "byteLimit": 2048000,
      "rowLimit": 10000
     },
     "inputWidgets": {},
     "nuid": "5d22e87f-a623-4ea0-ae1b-57ee4c1b6b5b",
     "showTitle": false,
     "title": ""
    }
   },
   "outputs": [],
   "source": [
    "#To stop all active streams, you can iterate over the active_streams and call the stop() method on each stream\n",
    "for stream in active_streams:\n",
    "    stream.stop()"
   ]
  },
  {
   "cell_type": "code",
   "execution_count": 0,
   "metadata": {
    "application/vnd.databricks.v1+cell": {
     "cellMetadata": {
      "byteLimit": 2048000,
      "rowLimit": 10000
     },
     "inputWidgets": {},
     "nuid": "ea759fc8-1d78-4d6d-b571-e2e256448b76",
     "showTitle": false,
     "title": ""
    }
   },
   "outputs": [
    {
     "output_type": "stream",
     "name": "stdout",
     "output_type": "stream",
     "text": [
      "Elapsed time: 4.601478576660156e-05 seconds\n"
     ]
    }
   ],
   "source": [
    "# Get the notebooks ending time note START_TIME was established in the include file when the notebook started.\n",
    "#To print out the elapsed time of your notebook, you can use the time module in Python to calculate the duration between the start and end of the notebook execution\n",
    "import time\n",
    "\n",
    "start_time = time.time()\n",
    "\n",
    "# Your notebook code execution goes here\n",
    "\n",
    "end_time = time.time()\n",
    "elapsed_time = end_time - start_time\n",
    "\n",
    "print(\"Elapsed time: {} seconds\".format(elapsed_time))"
   ]
  },
  {
   "cell_type": "markdown",
   "metadata": {
    "application/vnd.databricks.v1+cell": {
     "cellMetadata": {
      "byteLimit": 2048000,
      "rowLimit": 10000
     },
     "inputWidgets": {},
     "nuid": "b88fc0e5-f50c-4ed1-9480-16a4c8a44b30",
     "showTitle": false,
     "title": ""
    }
   },
   "source": [
    "## 10.0 How Optimized is your Spark Application (Grad Students Only)\n",
    "Graduate students (registered for the DSCC-402 section of the course) are required to do this section.  This is a written analysis using the Spark UI (link to screen shots) that support your analysis of your pipelines execution and what is driving its performance.\n",
    "Recall that Spark Optimization has 5 significant dimensions of considertation:\n",
    "- Spill: write to executor disk due to lack of memory\n",
    "- Skew: imbalance in partition size\n",
    "- Shuffle: network io moving data between executors (wide transforms)\n",
    "- Storage: inefficiency due to disk storage format (small files, location)\n",
    "- Serialization: distribution of code segments across the cluster\n",
    "\n",
    "Comment on each of the dimentions of performance and how your impelementation is or is not being affected.  Use specific information in the Spark UI to support your description.  \n",
    "\n",
    "Note: you can take sreenshots of the Spark UI from your project runs in databricks and then link to those pictures by storing them as a publicly accessible file on your cloud drive (google, one drive, etc.)\n",
    "\n",
    "References:\n",
    "- [Spark UI Reference Reference](https://spark.apache.org/docs/latest/web-ui.html#web-ui)\n",
    "- [Spark UI Simulator](https://www.databricks.training/spark-ui-simulator/index.html)"
   ]
  },
  {
   "cell_type": "markdown",
   "metadata": {
    "application/vnd.databricks.v1+cell": {
     "cellMetadata": {
      "byteLimit": 2048000,
      "rowLimit": 10000
     },
     "inputWidgets": {},
     "nuid": "a0a5707d-a5ca-4e87-9e74-3b13d00337b0",
     "showTitle": false,
     "title": ""
    }
   },
   "source": [
    "### ENTER YOUR MARKDOWN HERE"
   ]
  },
  {
   "cell_type": "markdown",
   "metadata": {
    "application/vnd.databricks.v1+cell": {
     "cellMetadata": {
      "byteLimit": 2048000,
      "rowLimit": 10000
     },
     "inputWidgets": {},
     "nuid": "1255ea19-ed11-44ec-bb56-ba5fc7a1b0be",
     "showTitle": false,
     "title": ""
    }
   },
   "source": [
    "\n",
    "1. **Spill: Write to Executor Disk due to Lack of Memory**:\n",
    "   - This occurs when Spark runs out of memory and starts writing data to disk, which significantly slows down processing. Check the Executors tab in the Spark UI to see if any Executors have a high amount of spill data. If you notice high spill rates, it indicates that your Spark jobs are not effectively utilizing memory resources, potentially due to excessive data shuffling or inefficient caching.\n",
    "\n",
    "2. **Skew: Imbalance in Partition Size**:\n",
    "   - Skew happens when certain partitions hold significantly more data than others, leading to processing bottlenecks on specific executors. You can identify skew by examining the distribution of data across partitions in the Stages tab of the Spark UI. Look for stages where the tasks take significantly longer to complete due to data skew. Mitigating skew often involves pre-processing data to reduce imbalances or using techniques like data skew join handling.\n",
    "\n",
    "3. **Shuffle: Network IO Moving Data Between Executors**:\n",
    "   - Shuffle occurs during wide transformations like groupBy or join, where data needs to be exchanged between executors. Excessive shuffling can degrade performance, especially if the network becomes a bottleneck. Check the Shuffle Read and Shuffle Write metrics in the Executors tab to identify stages with high shuffle activity. Optimize performance by minimizing data shuffling through techniques like partitioning, broadcasting small datasets, or using appropriate join strategies.\n",
    "\n",
    "4. **Storage: Inefficiency Due to Disk Storage Format**:\n",
    "   - Inefficient storage can lead to performance issues, especially when dealing with small files or improper data storage formats. Analyze the Storage tab in the Spark UI to identify any inefficiencies in data storage, such as a large number of small files or inefficient file formats like text instead of Parquet. Optimizing storage involves consolidating small files, using columnar storage formats, and compressing data to reduce storage overhead.\n",
    "\n",
    "5. **Serialization: Distribution of Code Segments Across the Cluster**:\n",
    "   - Serialization overhead occurs when data needs to be serialized and deserialized for transmission between nodes. This can become a bottleneck, especially for complex data types. Check the Executors tab for serialization metrics to identify stages with high serialization time. You can optimize serialization performance by choosing efficient serialization formats (like Kryo), minimizing data transfer, and avoiding unnecessary serialization.\n",
    "\n",
    "By analyzing these dimensions in the Spark UI and addressing any issues identified, we can optimize our Spark implementation for better performance and resource utilization."
   ]
  }
 ],
 "metadata": {
  "application/vnd.databricks.v1+notebook": {
   "dashboards": [],
   "language": "python",
   "notebookMetadata": {
    "mostRecentlyExecutedCommandWithImplicitDF": {
     "commandId": -1,
     "dataframes": [
      "_sqldf"
     ]
    },
    "pythonIndentUnit": 4,
    "widgetLayout": [
     {
      "breakBefore": false,
      "name": "clear_previous_run",
      "width": 187
     },
     {
      "breakBefore": false,
      "name": "optimize_tables",
      "width": 187
     },
     {
      "breakBefore": false,
      "name": "stop_streams",
      "width": 187
     }
    ]
   },
   "notebookName": "Starter Streaming Tweet Sentiment - Spring 2024 Final Project",
   "widgets": {
    "clear_previous_run": {
     "currentValue": "No",
     "nuid": "11b43403-c70f-41ef-ab0e-41172583baaa",
     "typedWidgetInfo": null,
     "widgetInfo": {
      "widgetType": "dropdown",
      "defaultValue": "No",
      "label": null,
      "name": "clear_previous_run",
      "options": {
       "widgetType": "dropdown",
       "autoCreated": null,
       "choices": [
        "No",
        "Yes"
       ]
      }
     }
    },
    "optimize_tables": {
     "currentValue": "No",
     "nuid": "d27f2950-3146-4010-8bc6-58c47a93e7a9",
     "typedWidgetInfo": null,
     "widgetInfo": {
      "widgetType": "dropdown",
      "defaultValue": "No",
      "label": null,
      "name": "optimize_tables",
      "options": {
       "widgetType": "dropdown",
       "autoCreated": null,
       "choices": [
        "No",
        "Yes"
       ]
      }
     }
    },
    "stop_streams": {
     "currentValue": "No",
     "nuid": "d70a2190-266e-473c-86a7-84f7bf56b386",
     "typedWidgetInfo": null,
     "widgetInfo": {
      "widgetType": "dropdown",
      "defaultValue": "No",
      "label": null,
      "name": "stop_streams",
      "options": {
       "widgetType": "dropdown",
       "autoCreated": null,
       "choices": [
        "No",
        "Yes"
       ]
      }
     }
    }
   }
  }
 },
 "nbformat": 4,
 "nbformat_minor": 0
}
